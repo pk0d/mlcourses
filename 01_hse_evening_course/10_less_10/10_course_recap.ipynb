{
 "cells": [
  {
   "cell_type": "markdown",
   "metadata": {},
   "source": [
    "## Recap курса \"Введение в машинное обучение\"\n",
    "\n",
    "## Семинар #10\n",
    "\n",
    "### Екатерина Кондратьева\n",
    "\n",
    "ekaterina.kondrateva@skoltech.ru"
   ]
  },
  {
   "cell_type": "markdown",
   "metadata": {},
   "source": [
    "  Программа курса:\n",
    "  \n",
    "   1. Обучение с учителем: Линейная и логистическая регрессия. Ядра.\n",
    "    \n",
    "    Фолдер: https://github.com/kondratevakate/machine-learning-with-love/tree/master/02_lr\n",
    "    \n",
    " \n",
    "    \n",
    "   2. Обучение с учителем: Регуляризация в линейных моделях. Метод Ближайших Соседей (KNN)\n",
    "    \n",
    "    Фолдер: https://github.com/kondratevakate/machine-learning-with-love/blob/master/03_knn\n",
    "    \n",
    "\n",
    "    \n",
    "   3. Обучение с учителем: Метод опорных векторов (SVM) для задач классификации и регрессии. Kernel SVM\n",
    "    \n",
    "    Фолдер: https://github.com/kondratevakate/machine-learning-with-love/tree/master/04_svc\n",
    "     \n",
    "\n",
    "    \n",
    "   4. Обучение с учителем: Деревья решений (Decision Trees). Случайный лес (Random Forest).\n",
    "    \n",
    "    Фолдер: https://github.com/kondratevakate/machine-learning-with-love/tree/master/05_rfc\n",
    "    \n",
    "\n",
    "    \n",
    "   5. Оценка качества алгоритмов машинного обучения. Кросс-валидация. Поиск аномалий и артефактов в выборке. \n",
    "    \n",
    "    Фолдер: https://github.com/kondratevakate/machine-learning-with-love/tree/master/06_model_validaton\n",
    "    \n",
    "\n",
    "    \n",
    "   6. Обучение без учителя: кластеризация. Снижение размерности данных PCA.\n",
    "    \n",
    "    Фолдер: https://github.com/kondratevakate/machine-learning-with-love/tree/master/07_clustering_pca\n",
    "    \n",
    "\n",
    "    \n",
    "   7. Отбор и генерация признаков (Feature Engineering). Поиск и оптимизация модели (Grid Search).\n",
    "    \n",
    "    Фолдер: https://github.com/kondratevakate/machine-learning-with-love/tree/master/08_feature_engineering\n",
    "    \n",
    "\n",
    "    \n",
    "   8. Стекинг, вотинг. Градиентный бустинг. Пакеты XGBoost/Catboost/LightGBM  \n",
    "    \n",
    "    Фолдер: https://github.com/kondratevakate/machine-learning-with-love/tree/master/09_gradient_boosting\n",
    "    \n",
    "    "
   ]
  },
  {
   "cell_type": "markdown",
   "metadata": {},
   "source": [
    "### Построим пайплан для датасета HousePricing:"
   ]
  },
  {
   "cell_type": "markdown",
   "metadata": {},
   "source": [
    "Данные - https://www.kaggle.com/lider123/housepricing"
   ]
  },
  {
   "cell_type": "code",
   "execution_count": 1,
   "metadata": {},
   "outputs": [],
   "source": [
    "import pandas as pd\n",
    "import numpy as np\n",
    "from scipy.stats import skew\n",
    "from sklearn.preprocessing import StandardScaler\n",
    "from sklearn.model_selection import KFold, cross_val_score\n",
    "from sklearn.metrics import mean_squared_error\n",
    "import seaborn as sns"
   ]
  },
  {
   "cell_type": "code",
   "execution_count": 2,
   "metadata": {},
   "outputs": [],
   "source": [
    "train_data = pd.read_csv(\"housepricing/train.csv\")\n",
    "test_data = pd.read_csv(\"housepricing/test.csv\")"
   ]
  },
  {
   "cell_type": "code",
   "execution_count": 3,
   "metadata": {},
   "outputs": [
    {
     "name": "stderr",
     "output_type": "stream",
     "text": [
      "C:\\01Dev\\anaconda\\lib\\site-packages\\ipykernel_launcher.py:1: FutureWarning: Sorting because non-concatenation axis is not aligned. A future version\n",
      "of pandas will change to not sort by default.\n",
      "\n",
      "To accept the future behavior, pass 'sort=False'.\n",
      "\n",
      "To retain the current behavior and silence the warning, pass 'sort=True'.\n",
      "\n",
      "  \"\"\"Entry point for launching an IPython kernel.\n"
     ]
    }
   ],
   "source": [
    "full_data = pd.concat([train_data,test_data])"
   ]
  },
  {
   "cell_type": "code",
   "execution_count": 4,
   "metadata": {},
   "outputs": [
    {
     "name": "stdout",
     "output_type": "stream",
     "text": [
      "<class 'pandas.core.frame.DataFrame'>\n",
      "Int64Index: 2919 entries, 0 to 1458\n",
      "Data columns (total 81 columns):\n",
      "1stFlrSF         2919 non-null int64\n",
      "2ndFlrSF         2919 non-null int64\n",
      "3SsnPorch        2919 non-null int64\n",
      "Alley            198 non-null object\n",
      "BedroomAbvGr     2919 non-null int64\n",
      "BldgType         2919 non-null object\n",
      "BsmtCond         2837 non-null object\n",
      "BsmtExposure     2837 non-null object\n",
      "BsmtFinSF1       2918 non-null float64\n",
      "BsmtFinSF2       2918 non-null float64\n",
      "BsmtFinType1     2840 non-null object\n",
      "BsmtFinType2     2839 non-null object\n",
      "BsmtFullBath     2917 non-null float64\n",
      "BsmtHalfBath     2917 non-null float64\n",
      "BsmtQual         2838 non-null object\n",
      "BsmtUnfSF        2918 non-null float64\n",
      "CentralAir       2919 non-null object\n",
      "Condition1       2919 non-null object\n",
      "Condition2       2919 non-null object\n",
      "Electrical       2918 non-null object\n",
      "EnclosedPorch    2919 non-null int64\n",
      "ExterCond        2919 non-null object\n",
      "ExterQual        2919 non-null object\n",
      "Exterior1st      2918 non-null object\n",
      "Exterior2nd      2918 non-null object\n",
      "Fence            571 non-null object\n",
      "FireplaceQu      1499 non-null object\n",
      "Fireplaces       2919 non-null int64\n",
      "Foundation       2919 non-null object\n",
      "FullBath         2919 non-null int64\n",
      "Functional       2917 non-null object\n",
      "GarageArea       2918 non-null float64\n",
      "GarageCars       2918 non-null float64\n",
      "GarageCond       2760 non-null object\n",
      "GarageFinish     2760 non-null object\n",
      "GarageQual       2760 non-null object\n",
      "GarageType       2762 non-null object\n",
      "GarageYrBlt      2760 non-null float64\n",
      "GrLivArea        2919 non-null int64\n",
      "HalfBath         2919 non-null int64\n",
      "Heating          2919 non-null object\n",
      "HeatingQC        2919 non-null object\n",
      "HouseStyle       2919 non-null object\n",
      "Id               2919 non-null int64\n",
      "KitchenAbvGr     2919 non-null int64\n",
      "KitchenQual      2918 non-null object\n",
      "LandContour      2919 non-null object\n",
      "LandSlope        2919 non-null object\n",
      "LotArea          2919 non-null int64\n",
      "LotConfig        2919 non-null object\n",
      "LotFrontage      2433 non-null float64\n",
      "LotShape         2919 non-null object\n",
      "LowQualFinSF     2919 non-null int64\n",
      "MSSubClass       2919 non-null int64\n",
      "MSZoning         2915 non-null object\n",
      "MasVnrArea       2896 non-null float64\n",
      "MasVnrType       2895 non-null object\n",
      "MiscFeature      105 non-null object\n",
      "MiscVal          2919 non-null int64\n",
      "MoSold           2919 non-null int64\n",
      "Neighborhood     2919 non-null object\n",
      "OpenPorchSF      2919 non-null int64\n",
      "OverallCond      2919 non-null int64\n",
      "OverallQual      2919 non-null int64\n",
      "PavedDrive       2919 non-null object\n",
      "PoolArea         2919 non-null int64\n",
      "PoolQC           10 non-null object\n",
      "RoofMatl         2919 non-null object\n",
      "RoofStyle        2919 non-null object\n",
      "SaleCondition    2919 non-null object\n",
      "SalePrice        1460 non-null float64\n",
      "SaleType         2918 non-null object\n",
      "ScreenPorch      2919 non-null int64\n",
      "Street           2919 non-null object\n",
      "TotRmsAbvGrd     2919 non-null int64\n",
      "TotalBsmtSF      2918 non-null float64\n",
      "Utilities        2917 non-null object\n",
      "WoodDeckSF       2919 non-null int64\n",
      "YearBuilt        2919 non-null int64\n",
      "YearRemodAdd     2919 non-null int64\n",
      "YrSold           2919 non-null int64\n",
      "dtypes: float64(12), int64(26), object(43)\n",
      "memory usage: 1.8+ MB\n"
     ]
    }
   ],
   "source": [
    "full_data.info()"
   ]
  },
  {
   "cell_type": "code",
   "execution_count": 5,
   "metadata": {},
   "outputs": [
    {
     "name": "stdout",
     "output_type": "stream",
     "text": [
      "['Alley', 'BldgType', 'BsmtCond', 'BsmtExposure', 'BsmtFinType1', 'BsmtFinType2', 'BsmtQual', 'CentralAir', 'Condition1', 'Condition2', 'Electrical', 'ExterCond', 'ExterQual', 'Exterior1st', 'Exterior2nd', 'Fence', 'FireplaceQu', 'Foundation', 'Functional', 'GarageCond', 'GarageFinish', 'GarageQual', 'GarageType', 'Heating', 'HeatingQC', 'HouseStyle', 'KitchenQual', 'LandContour', 'LandSlope', 'LotConfig', 'LotShape', 'MSZoning', 'MasVnrType', 'MiscFeature', 'Neighborhood', 'PavedDrive', 'PoolQC', 'RoofMatl', 'RoofStyle', 'SaleCondition', 'SaleType', 'Street', 'Utilities']\n",
      "['1stFlrSF', '2ndFlrSF', '3SsnPorch', 'BedroomAbvGr', 'BsmtFinSF1', 'BsmtFinSF2', 'BsmtFullBath', 'BsmtHalfBath', 'BsmtUnfSF', 'EnclosedPorch', 'Fireplaces', 'FullBath', 'GarageArea', 'GarageCars', 'GarageYrBlt', 'GrLivArea', 'HalfBath', 'Id', 'KitchenAbvGr', 'LotArea', 'LotFrontage', 'LowQualFinSF', 'MSSubClass', 'MasVnrArea', 'MiscVal', 'MoSold', 'OpenPorchSF', 'OverallCond', 'OverallQual', 'PoolArea', 'SalePrice', 'ScreenPorch', 'TotRmsAbvGrd', 'TotalBsmtSF', 'WoodDeckSF', 'YearBuilt', 'YearRemodAdd', 'YrSold']\n"
     ]
    }
   ],
   "source": [
    "categorial_features = [prizn for prizn in full_data.columns if full_data[prizn].dtype.name == 'object']\n",
    "numeric_features = [prizn for prizn in full_data.columns if full_data[prizn].dtype.name != 'object']\n",
    "print(categorial_features, numeric_features, sep = '\\n')"
   ]
  },
  {
   "cell_type": "code",
   "execution_count": 6,
   "metadata": {},
   "outputs": [],
   "source": [
    "# заполним пропуски числовых данных применяя свои знания предметной области\n",
    "full_data[\"SaleType\"].fillna(full_data[\"SaleType\"].mode()[0], inplace=True)\n",
    "full_data[\"Electrical\"].fillna(full_data[\"Electrical\"].mode()[0], inplace=True)\n",
    "full_data[\"MSZoning\"].fillna(full_data[\"MSZoning\"].mode()[0], inplace=True)\n",
    "full_data[\"GarageArea\"].fillna(full_data[\"GarageArea\"].median(), inplace=True)\n",
    "full_data[\"CentralAir\"] = full_data[\"CentralAir\"].map({\"Y\": 1, \"N\": 0})\n",
    "full_data[\"LotFrontage\"].fillna(full_data[\"LotFrontage\"].median(), inplace=True)\n",
    "full_data[\"Alley\"].fillna(\"None\", inplace=True)\n",
    "full_data[\"MasVnrType\"].fillna(\"None\", inplace=True)\n",
    "full_data[\"MasVnrArea\"].fillna(0, inplace=True)"
   ]
  },
  {
   "cell_type": "code",
   "execution_count": 7,
   "metadata": {},
   "outputs": [],
   "source": [
    "#заполним пропуски числовых данных подряд медианой\n",
    "for i in numeric_features:\n",
    "    full_data[i].fillna(full_data[i].median(), inplace=True)"
   ]
  },
  {
   "cell_type": "code",
   "execution_count": 8,
   "metadata": {},
   "outputs": [
    {
     "data": {
      "text/html": [
       "<div>\n",
       "<style scoped>\n",
       "    .dataframe tbody tr th:only-of-type {\n",
       "        vertical-align: middle;\n",
       "    }\n",
       "\n",
       "    .dataframe tbody tr th {\n",
       "        vertical-align: top;\n",
       "    }\n",
       "\n",
       "    .dataframe thead th {\n",
       "        text-align: right;\n",
       "    }\n",
       "</style>\n",
       "<table border=\"1\" class=\"dataframe\">\n",
       "  <thead>\n",
       "    <tr style=\"text-align: right;\">\n",
       "      <th></th>\n",
       "      <th>1stFlrSF</th>\n",
       "      <th>2ndFlrSF</th>\n",
       "      <th>3SsnPorch</th>\n",
       "      <th>BedroomAbvGr</th>\n",
       "      <th>BsmtFinSF1</th>\n",
       "      <th>BsmtFinSF2</th>\n",
       "      <th>BsmtFullBath</th>\n",
       "      <th>BsmtHalfBath</th>\n",
       "      <th>BsmtUnfSF</th>\n",
       "      <th>EnclosedPorch</th>\n",
       "      <th>...</th>\n",
       "      <th>SaleType_ConLD</th>\n",
       "      <th>SaleType_ConLI</th>\n",
       "      <th>SaleType_ConLw</th>\n",
       "      <th>SaleType_New</th>\n",
       "      <th>SaleType_Oth</th>\n",
       "      <th>SaleType_WD</th>\n",
       "      <th>Street_Grvl</th>\n",
       "      <th>Street_Pave</th>\n",
       "      <th>Utilities_AllPub</th>\n",
       "      <th>Utilities_NoSeWa</th>\n",
       "    </tr>\n",
       "  </thead>\n",
       "  <tbody>\n",
       "    <tr>\n",
       "      <th>0</th>\n",
       "      <td>856</td>\n",
       "      <td>854</td>\n",
       "      <td>0</td>\n",
       "      <td>3</td>\n",
       "      <td>706.0</td>\n",
       "      <td>0.0</td>\n",
       "      <td>1.0</td>\n",
       "      <td>0.0</td>\n",
       "      <td>150.0</td>\n",
       "      <td>0</td>\n",
       "      <td>...</td>\n",
       "      <td>0</td>\n",
       "      <td>0</td>\n",
       "      <td>0</td>\n",
       "      <td>0</td>\n",
       "      <td>0</td>\n",
       "      <td>1</td>\n",
       "      <td>0</td>\n",
       "      <td>1</td>\n",
       "      <td>1</td>\n",
       "      <td>0</td>\n",
       "    </tr>\n",
       "    <tr>\n",
       "      <th>1</th>\n",
       "      <td>1262</td>\n",
       "      <td>0</td>\n",
       "      <td>0</td>\n",
       "      <td>3</td>\n",
       "      <td>978.0</td>\n",
       "      <td>0.0</td>\n",
       "      <td>0.0</td>\n",
       "      <td>1.0</td>\n",
       "      <td>284.0</td>\n",
       "      <td>0</td>\n",
       "      <td>...</td>\n",
       "      <td>0</td>\n",
       "      <td>0</td>\n",
       "      <td>0</td>\n",
       "      <td>0</td>\n",
       "      <td>0</td>\n",
       "      <td>1</td>\n",
       "      <td>0</td>\n",
       "      <td>1</td>\n",
       "      <td>1</td>\n",
       "      <td>0</td>\n",
       "    </tr>\n",
       "    <tr>\n",
       "      <th>2</th>\n",
       "      <td>920</td>\n",
       "      <td>866</td>\n",
       "      <td>0</td>\n",
       "      <td>3</td>\n",
       "      <td>486.0</td>\n",
       "      <td>0.0</td>\n",
       "      <td>1.0</td>\n",
       "      <td>0.0</td>\n",
       "      <td>434.0</td>\n",
       "      <td>0</td>\n",
       "      <td>...</td>\n",
       "      <td>0</td>\n",
       "      <td>0</td>\n",
       "      <td>0</td>\n",
       "      <td>0</td>\n",
       "      <td>0</td>\n",
       "      <td>1</td>\n",
       "      <td>0</td>\n",
       "      <td>1</td>\n",
       "      <td>1</td>\n",
       "      <td>0</td>\n",
       "    </tr>\n",
       "    <tr>\n",
       "      <th>3</th>\n",
       "      <td>961</td>\n",
       "      <td>756</td>\n",
       "      <td>0</td>\n",
       "      <td>3</td>\n",
       "      <td>216.0</td>\n",
       "      <td>0.0</td>\n",
       "      <td>1.0</td>\n",
       "      <td>0.0</td>\n",
       "      <td>540.0</td>\n",
       "      <td>272</td>\n",
       "      <td>...</td>\n",
       "      <td>0</td>\n",
       "      <td>0</td>\n",
       "      <td>0</td>\n",
       "      <td>0</td>\n",
       "      <td>0</td>\n",
       "      <td>1</td>\n",
       "      <td>0</td>\n",
       "      <td>1</td>\n",
       "      <td>1</td>\n",
       "      <td>0</td>\n",
       "    </tr>\n",
       "    <tr>\n",
       "      <th>4</th>\n",
       "      <td>1145</td>\n",
       "      <td>1053</td>\n",
       "      <td>0</td>\n",
       "      <td>4</td>\n",
       "      <td>655.0</td>\n",
       "      <td>0.0</td>\n",
       "      <td>1.0</td>\n",
       "      <td>0.0</td>\n",
       "      <td>490.0</td>\n",
       "      <td>0</td>\n",
       "      <td>...</td>\n",
       "      <td>0</td>\n",
       "      <td>0</td>\n",
       "      <td>0</td>\n",
       "      <td>0</td>\n",
       "      <td>0</td>\n",
       "      <td>1</td>\n",
       "      <td>0</td>\n",
       "      <td>1</td>\n",
       "      <td>1</td>\n",
       "      <td>0</td>\n",
       "    </tr>\n",
       "  </tbody>\n",
       "</table>\n",
       "<p>5 rows × 291 columns</p>\n",
       "</div>"
      ],
      "text/plain": [
       "   1stFlrSF  2ndFlrSF  3SsnPorch  BedroomAbvGr  BsmtFinSF1  BsmtFinSF2  \\\n",
       "0       856       854          0             3       706.0         0.0   \n",
       "1      1262         0          0             3       978.0         0.0   \n",
       "2       920       866          0             3       486.0         0.0   \n",
       "3       961       756          0             3       216.0         0.0   \n",
       "4      1145      1053          0             4       655.0         0.0   \n",
       "\n",
       "   BsmtFullBath  BsmtHalfBath  BsmtUnfSF  EnclosedPorch        ...         \\\n",
       "0           1.0           0.0      150.0              0        ...          \n",
       "1           0.0           1.0      284.0              0        ...          \n",
       "2           1.0           0.0      434.0              0        ...          \n",
       "3           1.0           0.0      540.0            272        ...          \n",
       "4           1.0           0.0      490.0              0        ...          \n",
       "\n",
       "   SaleType_ConLD  SaleType_ConLI  SaleType_ConLw  SaleType_New  SaleType_Oth  \\\n",
       "0               0               0               0             0             0   \n",
       "1               0               0               0             0             0   \n",
       "2               0               0               0             0             0   \n",
       "3               0               0               0             0             0   \n",
       "4               0               0               0             0             0   \n",
       "\n",
       "   SaleType_WD  Street_Grvl  Street_Pave  Utilities_AllPub  Utilities_NoSeWa  \n",
       "0            1            0            1                 1                 0  \n",
       "1            1            0            1                 1                 0  \n",
       "2            1            0            1                 1                 0  \n",
       "3            1            0            1                 1                 0  \n",
       "4            1            0            1                 1                 0  \n",
       "\n",
       "[5 rows x 291 columns]"
      ]
     },
     "execution_count": 8,
     "metadata": {},
     "output_type": "execute_result"
    }
   ],
   "source": [
    "# кодируем переменные типа объекта\n",
    "full_data = pd.get_dummies(full_data, columns=categorial_features)\n",
    "\n",
    "X_train, X_test = full_data.iloc[:len(train_data), :], full_data.iloc[len(train_data):, :]\n",
    "\n",
    "X_train.head()"
   ]
  },
  {
   "cell_type": "code",
   "execution_count": 9,
   "metadata": {},
   "outputs": [
    {
     "data": {
      "text/plain": [
       "(1460, 291)"
      ]
     },
     "execution_count": 9,
     "metadata": {},
     "output_type": "execute_result"
    }
   ],
   "source": [
    "X_train.shape"
   ]
  },
  {
   "cell_type": "markdown",
   "metadata": {},
   "source": [
    "#### Снижение размерности?\n",
    "#### Какая задача - регрессия или классификация?"
   ]
  },
  {
   "cell_type": "code",
   "execution_count": 10,
   "metadata": {},
   "outputs": [],
   "source": [
    "# построим самый простой регрессор\n",
    "from sklearn.linear_model import LinearRegression\n",
    "from sklearn.model_selection import cross_val_score, StratifiedShuffleSplit, StratifiedKFold\n",
    "\n",
    "clf = LinearRegression()"
   ]
  },
  {
   "cell_type": "markdown",
   "metadata": {},
   "source": [
    "#### Регуляризация?\n",
    "#### Оценка модели? "
   ]
  },
  {
   "cell_type": "code",
   "execution_count": 11,
   "metadata": {},
   "outputs": [
    {
     "name": "stderr",
     "output_type": "stream",
     "text": [
      "C:\\01Dev\\anaconda\\lib\\site-packages\\pandas\\core\\frame.py:3697: SettingWithCopyWarning: \n",
      "A value is trying to be set on a copy of a slice from a DataFrame\n",
      "\n",
      "See the caveats in the documentation: http://pandas.pydata.org/pandas-docs/stable/indexing.html#indexing-view-versus-copy\n",
      "  errors=errors)\n"
     ]
    }
   ],
   "source": [
    "y_train = train_data[\"SalePrice\"]\n",
    "X_train.drop(\"SalePrice\",axis=1, inplace=True)"
   ]
  },
  {
   "cell_type": "code",
   "execution_count": 12,
   "metadata": {},
   "outputs": [
    {
     "data": {
      "text/plain": [
       "(1460,)"
      ]
     },
     "execution_count": 12,
     "metadata": {},
     "output_type": "execute_result"
    }
   ],
   "source": [
    "y_train.shape"
   ]
  },
  {
   "cell_type": "code",
   "execution_count": 13,
   "metadata": {},
   "outputs": [
    {
     "name": "stderr",
     "output_type": "stream",
     "text": [
      "C:\\01Dev\\anaconda\\lib\\site-packages\\sklearn\\model_selection\\_split.py:652: Warning: The least populated class in y has only 1 members, which is too few. The minimum number of members in any class cannot be less than n_splits=5.\n",
      "  % (min_groups, self.n_splits)), Warning)\n"
     ]
    },
    {
     "name": "stdout",
     "output_type": "stream",
     "text": [
      "-485532234.90560126\n",
      "-1326514097.2557805\n",
      "-24411679.341038484\n",
      "-3502214323.4653296\n",
      "-921707527593.5194\n"
     ]
    }
   ],
   "source": [
    "X = X_train\n",
    "y = y_train\n",
    "skf = StratifiedKFold(n_splits=5, random_state=42)\n",
    "skf.get_n_splits(X, y)\n",
    "\n",
    "scores=[]\n",
    "\n",
    "for train_index, test_index in skf.split(X, y):\n",
    "    #print(\"TRAIN:\", train_index, \"TEST:\", test_index)\n",
    "    X_train, X_test = X.iloc[train_index], X.iloc[test_index]\n",
    "    y_train, y_test = y.iloc[train_index], y.iloc[test_index]\n",
    "    clf.fit(X_train, y_train)\n",
    "    print(clf.score(X_test, y_test))\n",
    "    scores.append(clf.score(X_test, y_test))"
   ]
  },
  {
   "cell_type": "code",
   "execution_count": 14,
   "metadata": {},
   "outputs": [
    {
     "name": "stderr",
     "output_type": "stream",
     "text": [
      "C:\\01Dev\\anaconda\\lib\\site-packages\\sklearn\\preprocessing\\data.py:625: DataConversionWarning: Data with input dtype uint8, int64, float64 were all converted to float64 by StandardScaler.\n",
      "  return self.partial_fit(X, y)\n",
      "C:\\01Dev\\anaconda\\lib\\site-packages\\sklearn\\base.py:462: DataConversionWarning: Data with input dtype uint8, int64, float64 were all converted to float64 by StandardScaler.\n",
      "  return self.fit(X, **fit_params).transform(X)\n",
      "C:\\01Dev\\anaconda\\lib\\site-packages\\sklearn\\model_selection\\_split.py:652: Warning: The least populated class in y has only 1 members, which is too few. The minimum number of members in any class cannot be less than n_splits=5.\n",
      "  % (min_groups, self.n_splits)), Warning)\n"
     ]
    },
    {
     "name": "stdout",
     "output_type": "stream",
     "text": [
      "-1.8126751392592524e+25\n",
      "-7.483752725566383e+24\n",
      "-5.012779502932759e+26\n",
      "-6.538233444074639e+23\n",
      "-2.559422889835046e+26\n"
     ]
    }
   ],
   "source": [
    "from sklearn.preprocessing import StandardScaler\n",
    "\n",
    "sclr= StandardScaler()\n",
    "X_cols= X_train.columns\n",
    "X = pd.DataFrame(sclr.fit_transform(X_train), columns = X_cols)\n",
    "\n",
    "\n",
    "y = y_train\n",
    "skf = StratifiedKFold(n_splits=5, random_state=42)\n",
    "skf.get_n_splits(X, y)\n",
    "\n",
    "scores=[]\n",
    "\n",
    "for train_index, test_index in skf.split(X, y):\n",
    "    #print(\"TRAIN:\", train_index, \"TEST:\", test_index)\n",
    "    X_train, X_test = X.iloc[train_index], X.iloc[test_index]\n",
    "    y_train, y_test = y.iloc[train_index], y.iloc[test_index]\n",
    "    clf.fit(X_train, y_train)\n",
    "    print(clf.score(X_test, y_test))\n",
    "    scores.append(clf.score(X_test, y_test))"
   ]
  },
  {
   "cell_type": "code",
   "execution_count": 15,
   "metadata": {},
   "outputs": [
    {
     "ename": "NameError",
     "evalue": "name 'lrr' is not defined",
     "output_type": "error",
     "traceback": [
      "\u001b[1;31m---------------------------------------------------------------------------\u001b[0m",
      "\u001b[1;31mNameError\u001b[0m                                 Traceback (most recent call last)",
      "\u001b[1;32m<ipython-input-15-df82d7005be0>\u001b[0m in \u001b[0;36m<module>\u001b[1;34m\u001b[0m\n\u001b[1;32m----> 1\u001b[1;33m \u001b[0mcross_val_score\u001b[0m\u001b[1;33m(\u001b[0m\u001b[0mlrr\u001b[0m\u001b[1;33m,\u001b[0m \u001b[0mX_train\u001b[0m\u001b[1;33m,\u001b[0m \u001b[0my_train\u001b[0m\u001b[1;33m,\u001b[0m \u001b[0mcv\u001b[0m\u001b[1;33m=\u001b[0m\u001b[1;36m5\u001b[0m\u001b[1;33m)\u001b[0m\u001b[1;33m\u001b[0m\u001b[1;33m\u001b[0m\u001b[0m\n\u001b[0m",
      "\u001b[1;31mNameError\u001b[0m: name 'lrr' is not defined"
     ]
    }
   ],
   "source": [
    "cross_val_score(lrr, X_train, y_train, cv=5)"
   ]
  },
  {
   "cell_type": "code",
   "execution_count": 16,
   "metadata": {},
   "outputs": [],
   "source": [
    "X_train_short= X_train[['Id', 'MSSubClass', 'LotArea', 'OverallQual',\\\n",
    "      'OverallCond', 'YearBuilt', 'YearRemodAdd',\\\n",
    "      'BsmtUnfSF', 'TotalBsmtSF', '1stFlrSF', '2ndFlrSF',\\\n",
    "     'LowQualFinSF', 'GrLivArea', 'BsmtFullBath',\\\n",
    "     'FullBath', 'HalfBath', 'BedroomAbvGr', 'KitchenAbvGr',\\\n",
    "     'TotRmsAbvGrd', 'Fireplaces', 'GarageCars',\\\n",
    "     'GarageArea', 'WoodDeckSF', 'OpenPorchSF', 'EnclosedPorch', '3SsnPorch',\\\n",
    "     'ScreenPorch', 'PoolArea', 'MiscVal', 'MoSold', 'YrSold']]"
   ]
  },
  {
   "cell_type": "code",
   "execution_count": 17,
   "metadata": {},
   "outputs": [
    {
     "name": "stderr",
     "output_type": "stream",
     "text": [
      "C:\\01Dev\\anaconda\\lib\\site-packages\\sklearn\\model_selection\\_search.py:841: DeprecationWarning: The default of the `iid` parameter will change from True to False in version 0.22 and will be removed in 0.24. This will change numeric results when test-set sizes are unequal.\n",
      "  DeprecationWarning)\n"
     ]
    },
    {
     "data": {
      "text/plain": [
       "{'max_depth': 10, 'max_features': 'auto', 'n_estimators': 50}"
      ]
     },
     "execution_count": 17,
     "metadata": {},
     "output_type": "execute_result"
    }
   ],
   "source": [
    "from sklearn.model_selection import GridSearchCV\n",
    "from sklearn.ensemble import RandomForestRegressor\n",
    "\n",
    "params = {\n",
    "    \"n_estimators\": [10, 50],\n",
    "    \"max_features\": [\"auto\", \"sqrt\"],\n",
    "    \"max_depth\": [5,10]\n",
    "}\n",
    "gs = GridSearchCV(estimator=RandomForestRegressor(), param_grid=params, cv=5, scoring=\"neg_mean_squared_error\")\n",
    "gs.fit(X_train, y_train)\n",
    "\n",
    "gs.best_params_"
   ]
  },
  {
   "cell_type": "code",
   "execution_count": 18,
   "metadata": {},
   "outputs": [
    {
     "data": {
      "text/plain": [
       "array([0.84802855, 0.8999728 , 0.80345994, 0.87841662, 0.86847025])"
      ]
     },
     "execution_count": 18,
     "metadata": {},
     "output_type": "execute_result"
    }
   ],
   "source": [
    "model = RandomForestRegressor(**gs.best_params_)\n",
    "cross_val_score(model, X_train, y_train, cv=5)"
   ]
  },
  {
   "cell_type": "code",
   "execution_count": 19,
   "metadata": {},
   "outputs": [
    {
     "name": "stderr",
     "output_type": "stream",
     "text": [
      "C:\\01Dev\\anaconda\\lib\\site-packages\\sklearn\\model_selection\\_split.py:652: Warning: The least populated class in y has only 1 members, which is too few. The minimum number of members in any class cannot be less than n_splits=5.\n",
      "  % (min_groups, self.n_splits)), Warning)\n"
     ]
    },
    {
     "name": "stdout",
     "output_type": "stream",
     "text": [
      "0.7332598493917576\n",
      "0.8588661264979394\n",
      "0.8076380430624518\n",
      "0.7750695708465714\n",
      "0.6511126803834564\n"
     ]
    }
   ],
   "source": [
    "X = X_train\n",
    "y = y_train\n",
    "skf = StratifiedKFold(n_splits=5, random_state=42)\n",
    "skf.get_n_splits(X, y)\n",
    "\n",
    "scores=[]\n",
    "\n",
    "for train_index, test_index in skf.split(X, y):\n",
    "    #print(\"TRAIN:\", train_index, \"TEST:\", test_index)\n",
    "    X_train, X_test = X.iloc[train_index], X.iloc[test_index]\n",
    "    y_train, y_test = y.iloc[train_index], y.iloc[test_index]\n",
    "    model.fit(X_train, y_train)\n",
    "    print(model.score(X_test, y_test))\n",
    "    scores.append(model.score(X_test, y_test))"
   ]
  },
  {
   "cell_type": "code",
   "execution_count": 20,
   "metadata": {},
   "outputs": [
    {
     "name": "stderr",
     "output_type": "stream",
     "text": [
      "C:\\01Dev\\anaconda\\lib\\site-packages\\sklearn\\model_selection\\_split.py:652: Warning: The least populated class in y has only 1 members, which is too few. The minimum number of members in any class cannot be less than n_splits=5.\n",
      "  % (min_groups, self.n_splits)), Warning)\n"
     ]
    },
    {
     "name": "stdout",
     "output_type": "stream",
     "text": [
      "-4.193652338726335e+25\n",
      "-1.0929071673599224e+25\n",
      "-2.054326129964796e+25\n",
      "-1.5386759094446282e+26\n",
      "0.5245159854234116\n"
     ]
    }
   ],
   "source": [
    "X = X_train\n",
    "y = y_train\n",
    "skf = StratifiedKFold(n_splits=5, random_state=42)\n",
    "skf.get_n_splits(X, y)\n",
    "\n",
    "scores=[]\n",
    "\n",
    "for train_index, test_index in skf.split(X, y):\n",
    "    #print(\"TRAIN:\", train_index, \"TEST:\", test_index)\n",
    "    X_train, X_test = X.iloc[train_index], X.iloc[test_index]\n",
    "    y_train, y_test = y.iloc[train_index], y.iloc[test_index]\n",
    "    clf.fit(X_train, y_train)\n",
    "    print(clf.score(X_test, y_test))\n",
    "    scores.append(clf.score(X_test, y_test))"
   ]
  },
  {
   "cell_type": "markdown",
   "metadata": {},
   "source": [
    "## Titanic dataset "
   ]
  },
  {
   "cell_type": "code",
   "execution_count": null,
   "metadata": {},
   "outputs": [],
   "source": [
    "train_df = pd.read_csv('titanic/train.csv')\n",
    "test_df = pd.read_csv('titanic/test.csv')"
   ]
  },
  {
   "cell_type": "code",
   "execution_count": null,
   "metadata": {},
   "outputs": [],
   "source": [
    "train_df[\"Male\"] = train_df.Sex.map({\"male\": 1, \"female\": 0}).astype(int) # альтернатива OneHotEncoding\n",
    "test_df[\"Male\"] = test_df.Sex.map({\"male\": 1, \"female\": 0}).astype(int)\n",
    "\n",
    "train_df = train_df.drop([\"PassengerId\", \"Ticket\", \"Cabin\", \"Name\", \"Sex\", \"SibSp\", \"Parch\", \"Embarked\", \"Fare\", 'Age'], axis=1)\n",
    "test_df = test_df.drop([\"Ticket\", \"Cabin\", \"Name\", \"Sex\", \"SibSp\", \"Parch\", \"Embarked\", \"Fare\",'Age'], axis=1)\n",
    "\n",
    "X = train_df.drop(\"Survived\", axis=1).fillna(np.nan)\n",
    "y = train_df.Survived\n",
    "X_test = test_df.drop(\"PassengerId\", axis=1).fillna(np.nan)\n",
    "\n",
    "\n",
    "X.tail()"
   ]
  },
  {
   "cell_type": "code",
   "execution_count": null,
   "metadata": {},
   "outputs": [],
   "source": [
    "from sklearn.linear_model import LogisticRegression\n",
    "clf= LogisticRegression()"
   ]
  },
  {
   "cell_type": "code",
   "execution_count": null,
   "metadata": {},
   "outputs": [],
   "source": [
    "skf = StratifiedKFold(n_splits=10, random_state=42)\n",
    "skf.get_n_splits(X, y)\n",
    "\n",
    "scores=[]\n",
    "\n",
    "for train_index, test_index in skf.split(X, y):\n",
    "    #print(\"TRAIN:\", train_index, \"TEST:\", test_index)\n",
    "    X_train, X_test = X.iloc[train_index], X.iloc[test_index]\n",
    "    \n",
    "    y_train, y_test = y.iloc[train_index], y.iloc[test_index]\n",
    "    clf.fit(X_train, y_train)\n",
    "    print(clf.score(X_test, y_test))\n",
    "    scores.append(clf.score(X_test, y_test))"
   ]
  },
  {
   "cell_type": "code",
   "execution_count": null,
   "metadata": {},
   "outputs": [],
   "source": [
    "clf = Pipeline([('selectk', SelectKBest(k=6)), \n",
    "                     ('scaler', StandardScaler()),\n",
    "                ('decision_tree',  RandomForestClassifier(n_estimators=25, max_depth=3))])\n",
    "\n",
    "cross_val_score(estimator=clf, X=X_train, y=y_train, cv=5).mean()"
   ]
  },
  {
   "cell_type": "markdown",
   "metadata": {},
   "source": [
    "### Метрики: оценки качества"
   ]
  },
  {
   "cell_type": "markdown",
   "metadata": {},
   "source": [
    "### Практикум по *.Git системам:"
   ]
  },
  {
   "cell_type": "markdown",
   "metadata": {},
   "source": [
    "!['git'](https://i1.wp.com/lanziani.com/slides/gitflow/images/gitflow_1.png?zoom=2)"
   ]
  },
  {
   "cell_type": "markdown",
   "metadata": {},
   "source": [
    "1. Установка: https://git-scm.com/downloads\n",
    "2. GUI: https://desktop.github.com/\n",
    "3. Туториал: https://learngitbranching.js.org/"
   ]
  }
 ],
 "metadata": {
  "kernelspec": {
   "display_name": "Python 3",
   "language": "python",
   "name": "python3"
  },
  "language_info": {
   "codemirror_mode": {
    "name": "ipython",
    "version": 3
   },
   "file_extension": ".py",
   "mimetype": "text/x-python",
   "name": "python",
   "nbconvert_exporter": "python",
   "pygments_lexer": "ipython3",
   "version": "3.7.1"
  }
 },
 "nbformat": 4,
 "nbformat_minor": 2
}
