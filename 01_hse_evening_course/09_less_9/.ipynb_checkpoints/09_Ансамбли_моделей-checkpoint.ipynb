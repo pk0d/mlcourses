{
 "cells": [
  {
   "cell_type": "markdown",
   "metadata": {},
   "source": [
    "# HSE Введение в машинное обучение\n",
    "\n",
    "## Лекция 4\n",
    "\n",
    "### Полина Полунина\n",
    "polina.polunina@skolkovotech.ru\n",
    "\n",
    "# Метод опорных векторов. Ядра.\n"
   ]
  },
  {
   "cell_type": "markdown",
   "metadata": {},
   "source": [
    "Import packages:"
   ]
  },
  {
   "cell_type": "code",
   "execution_count": 1,
   "metadata": {},
   "outputs": [],
   "source": [
    "#linear algebra\n",
    "import numpy as np\n",
    "#data structures\n",
    "import pandas as pd\n",
    "#ml models\n",
    "import scipy as sp\n",
    "import sklearn\n",
    "from sklearn import datasets\n",
    "from sklearn import metrics\n",
    "from sklearn.metrics import accuracy_score\n",
    "from sklearn.svm import SVR\n",
    "#plots\n",
    "import matplotlib.pyplot as plt\n",
    "%matplotlib inline\n",
    "#beautiful plots\n",
    "import seaborn as sns\n",
    "#linear regression\n",
    "import statsmodels.api as sm\n",
    "#set style for plots\n",
    "sns.set_style('darkgrid')\n",
    "#off the warnings\n",
    "import warnings\n",
    "warnings.filterwarnings(\"ignore\")"
   ]
  },
  {
   "cell_type": "code",
   "execution_count": 53,
   "metadata": {},
   "outputs": [],
   "source": [
    "from sklearn.model_selection import train_test_split\n",
    "from sklearn.linear_model import LinearRegression\n",
    "from sklearn.svm import SVR\n",
    "from sklearn.ensemble import RandomForestRegressor"
   ]
  },
  {
   "cell_type": "markdown",
   "metadata": {},
   "source": [
    "## 1. Метод Опорных Векторов и Задача Регрессии"
   ]
  },
  {
   "cell_type": "markdown",
   "metadata": {},
   "source": [
    "### Напоминание:\n",
    "\n",
    "* Неделю назад мы работали с данными о ценах на дома\n",
    "* Мы искали линейную зависимость между зависимой переменной (Y, Sale Price) и некоторым набором признаков (X)\n",
    "* Давайте вспомним, что же это были за данные:"
   ]
  },
  {
   "cell_type": "code",
   "execution_count": 2,
   "metadata": {},
   "outputs": [],
   "source": [
    "cols=['Id', 'MSSubClass', 'LotArea', 'OverallQual',\\\n",
    "      'OverallCond', 'YearBuilt', 'YearRemodAdd',\\\n",
    "      'BsmtUnfSF', 'TotalBsmtSF', '1stFlrSF', '2ndFlrSF',\\\n",
    "     'LowQualFinSF', 'GrLivArea', 'BsmtFullBath',\\\n",
    "     'FullBath', 'HalfBath', 'BedroomAbvGr', 'KitchenAbvGr',\\\n",
    "     'TotRmsAbvGrd', 'Fireplaces', 'GarageCars',\\\n",
    "     'GarageArea', 'WoodDeckSF', 'OpenPorchSF', 'EnclosedPorch', '3SsnPorch',\\\n",
    "     'ScreenPorch', 'PoolArea', 'MiscVal', 'MoSold', 'YrSold', 'SalePrice']"
   ]
  },
  {
   "cell_type": "code",
   "execution_count": 3,
   "metadata": {},
   "outputs": [
    {
     "data": {
      "text/html": [
       "<div>\n",
       "<style scoped>\n",
       "    .dataframe tbody tr th:only-of-type {\n",
       "        vertical-align: middle;\n",
       "    }\n",
       "\n",
       "    .dataframe tbody tr th {\n",
       "        vertical-align: top;\n",
       "    }\n",
       "\n",
       "    .dataframe thead th {\n",
       "        text-align: right;\n",
       "    }\n",
       "</style>\n",
       "<table border=\"1\" class=\"dataframe\">\n",
       "  <thead>\n",
       "    <tr style=\"text-align: right;\">\n",
       "      <th></th>\n",
       "      <th>MSSubClass</th>\n",
       "      <th>LotArea</th>\n",
       "      <th>OverallQual</th>\n",
       "      <th>OverallCond</th>\n",
       "      <th>YearBuilt</th>\n",
       "      <th>YearRemodAdd</th>\n",
       "      <th>BsmtUnfSF</th>\n",
       "      <th>TotalBsmtSF</th>\n",
       "      <th>1stFlrSF</th>\n",
       "      <th>2ndFlrSF</th>\n",
       "      <th>...</th>\n",
       "      <th>WoodDeckSF</th>\n",
       "      <th>OpenPorchSF</th>\n",
       "      <th>EnclosedPorch</th>\n",
       "      <th>3SsnPorch</th>\n",
       "      <th>ScreenPorch</th>\n",
       "      <th>PoolArea</th>\n",
       "      <th>MiscVal</th>\n",
       "      <th>MoSold</th>\n",
       "      <th>YrSold</th>\n",
       "      <th>SalePrice</th>\n",
       "    </tr>\n",
       "    <tr>\n",
       "      <th>Id</th>\n",
       "      <th></th>\n",
       "      <th></th>\n",
       "      <th></th>\n",
       "      <th></th>\n",
       "      <th></th>\n",
       "      <th></th>\n",
       "      <th></th>\n",
       "      <th></th>\n",
       "      <th></th>\n",
       "      <th></th>\n",
       "      <th></th>\n",
       "      <th></th>\n",
       "      <th></th>\n",
       "      <th></th>\n",
       "      <th></th>\n",
       "      <th></th>\n",
       "      <th></th>\n",
       "      <th></th>\n",
       "      <th></th>\n",
       "      <th></th>\n",
       "      <th></th>\n",
       "    </tr>\n",
       "  </thead>\n",
       "  <tbody>\n",
       "    <tr>\n",
       "      <th>1</th>\n",
       "      <td>60</td>\n",
       "      <td>8450</td>\n",
       "      <td>7</td>\n",
       "      <td>5</td>\n",
       "      <td>2003</td>\n",
       "      <td>2003</td>\n",
       "      <td>150</td>\n",
       "      <td>856</td>\n",
       "      <td>856</td>\n",
       "      <td>854</td>\n",
       "      <td>...</td>\n",
       "      <td>0</td>\n",
       "      <td>61</td>\n",
       "      <td>0</td>\n",
       "      <td>0</td>\n",
       "      <td>0</td>\n",
       "      <td>0</td>\n",
       "      <td>0</td>\n",
       "      <td>2</td>\n",
       "      <td>2008</td>\n",
       "      <td>208500</td>\n",
       "    </tr>\n",
       "    <tr>\n",
       "      <th>2</th>\n",
       "      <td>20</td>\n",
       "      <td>9600</td>\n",
       "      <td>6</td>\n",
       "      <td>8</td>\n",
       "      <td>1976</td>\n",
       "      <td>1976</td>\n",
       "      <td>284</td>\n",
       "      <td>1262</td>\n",
       "      <td>1262</td>\n",
       "      <td>0</td>\n",
       "      <td>...</td>\n",
       "      <td>298</td>\n",
       "      <td>0</td>\n",
       "      <td>0</td>\n",
       "      <td>0</td>\n",
       "      <td>0</td>\n",
       "      <td>0</td>\n",
       "      <td>0</td>\n",
       "      <td>5</td>\n",
       "      <td>2007</td>\n",
       "      <td>181500</td>\n",
       "    </tr>\n",
       "    <tr>\n",
       "      <th>3</th>\n",
       "      <td>60</td>\n",
       "      <td>11250</td>\n",
       "      <td>7</td>\n",
       "      <td>5</td>\n",
       "      <td>2001</td>\n",
       "      <td>2002</td>\n",
       "      <td>434</td>\n",
       "      <td>920</td>\n",
       "      <td>920</td>\n",
       "      <td>866</td>\n",
       "      <td>...</td>\n",
       "      <td>0</td>\n",
       "      <td>42</td>\n",
       "      <td>0</td>\n",
       "      <td>0</td>\n",
       "      <td>0</td>\n",
       "      <td>0</td>\n",
       "      <td>0</td>\n",
       "      <td>9</td>\n",
       "      <td>2008</td>\n",
       "      <td>223500</td>\n",
       "    </tr>\n",
       "    <tr>\n",
       "      <th>4</th>\n",
       "      <td>70</td>\n",
       "      <td>9550</td>\n",
       "      <td>7</td>\n",
       "      <td>5</td>\n",
       "      <td>1915</td>\n",
       "      <td>1970</td>\n",
       "      <td>540</td>\n",
       "      <td>756</td>\n",
       "      <td>961</td>\n",
       "      <td>756</td>\n",
       "      <td>...</td>\n",
       "      <td>0</td>\n",
       "      <td>35</td>\n",
       "      <td>272</td>\n",
       "      <td>0</td>\n",
       "      <td>0</td>\n",
       "      <td>0</td>\n",
       "      <td>0</td>\n",
       "      <td>2</td>\n",
       "      <td>2006</td>\n",
       "      <td>140000</td>\n",
       "    </tr>\n",
       "    <tr>\n",
       "      <th>5</th>\n",
       "      <td>60</td>\n",
       "      <td>14260</td>\n",
       "      <td>8</td>\n",
       "      <td>5</td>\n",
       "      <td>2000</td>\n",
       "      <td>2000</td>\n",
       "      <td>490</td>\n",
       "      <td>1145</td>\n",
       "      <td>1145</td>\n",
       "      <td>1053</td>\n",
       "      <td>...</td>\n",
       "      <td>192</td>\n",
       "      <td>84</td>\n",
       "      <td>0</td>\n",
       "      <td>0</td>\n",
       "      <td>0</td>\n",
       "      <td>0</td>\n",
       "      <td>0</td>\n",
       "      <td>12</td>\n",
       "      <td>2008</td>\n",
       "      <td>250000</td>\n",
       "    </tr>\n",
       "  </tbody>\n",
       "</table>\n",
       "<p>5 rows × 31 columns</p>\n",
       "</div>"
      ],
      "text/plain": [
       "    MSSubClass  LotArea  OverallQual  OverallCond  YearBuilt  YearRemodAdd  \\\n",
       "Id                                                                           \n",
       "1           60     8450            7            5       2003          2003   \n",
       "2           20     9600            6            8       1976          1976   \n",
       "3           60    11250            7            5       2001          2002   \n",
       "4           70     9550            7            5       1915          1970   \n",
       "5           60    14260            8            5       2000          2000   \n",
       "\n",
       "    BsmtUnfSF  TotalBsmtSF  1stFlrSF  2ndFlrSF    ...      WoodDeckSF  \\\n",
       "Id                                                ...                   \n",
       "1         150          856       856       854    ...               0   \n",
       "2         284         1262      1262         0    ...             298   \n",
       "3         434          920       920       866    ...               0   \n",
       "4         540          756       961       756    ...               0   \n",
       "5         490         1145      1145      1053    ...             192   \n",
       "\n",
       "    OpenPorchSF  EnclosedPorch  3SsnPorch  ScreenPorch  PoolArea  MiscVal  \\\n",
       "Id                                                                          \n",
       "1            61              0          0            0         0        0   \n",
       "2             0              0          0            0         0        0   \n",
       "3            42              0          0            0         0        0   \n",
       "4            35            272          0            0         0        0   \n",
       "5            84              0          0            0         0        0   \n",
       "\n",
       "    MoSold  YrSold  SalePrice  \n",
       "Id                             \n",
       "1        2    2008     208500  \n",
       "2        5    2007     181500  \n",
       "3        9    2008     223500  \n",
       "4        2    2006     140000  \n",
       "5       12    2008     250000  \n",
       "\n",
       "[5 rows x 31 columns]"
      ]
     },
     "execution_count": 3,
     "metadata": {},
     "output_type": "execute_result"
    }
   ],
   "source": [
    "data = pd.read_csv('train.csv', index_col=0, usecols=cols)\n",
    "data.head(5)"
   ]
  },
  {
   "cell_type": "code",
   "execution_count": 33,
   "metadata": {},
   "outputs": [
    {
     "data": {
      "text/plain": [
       "int64    31\n",
       "dtype: int64"
      ]
     },
     "execution_count": 33,
     "metadata": {},
     "output_type": "execute_result"
    }
   ],
   "source": [
    "data.get_dtype_counts()"
   ]
  },
  {
   "cell_type": "code",
   "execution_count": 77,
   "metadata": {},
   "outputs": [
    {
     "name": "stdout",
     "output_type": "stream",
     "text": [
      "<class 'pandas.core.frame.DataFrame'>\n",
      "Int64Index: 1460 entries, 1 to 1460\n",
      "Data columns (total 31 columns):\n",
      "MSSubClass       1460 non-null int64\n",
      "LotArea          1460 non-null int64\n",
      "OverallQual      1460 non-null int64\n",
      "OverallCond      1460 non-null int64\n",
      "YearBuilt        1460 non-null int64\n",
      "YearRemodAdd     1460 non-null int64\n",
      "BsmtUnfSF        1460 non-null int64\n",
      "TotalBsmtSF      1460 non-null int64\n",
      "1stFlrSF         1460 non-null int64\n",
      "2ndFlrSF         1460 non-null int64\n",
      "LowQualFinSF     1460 non-null int64\n",
      "GrLivArea        1460 non-null int64\n",
      "BsmtFullBath     1460 non-null int64\n",
      "FullBath         1460 non-null int64\n",
      "HalfBath         1460 non-null int64\n",
      "BedroomAbvGr     1460 non-null int64\n",
      "KitchenAbvGr     1460 non-null int64\n",
      "TotRmsAbvGrd     1460 non-null int64\n",
      "Fireplaces       1460 non-null int64\n",
      "GarageCars       1460 non-null int64\n",
      "GarageArea       1460 non-null int64\n",
      "WoodDeckSF       1460 non-null int64\n",
      "OpenPorchSF      1460 non-null int64\n",
      "EnclosedPorch    1460 non-null int64\n",
      "3SsnPorch        1460 non-null int64\n",
      "ScreenPorch      1460 non-null int64\n",
      "PoolArea         1460 non-null int64\n",
      "MiscVal          1460 non-null int64\n",
      "MoSold           1460 non-null int64\n",
      "YrSold           1460 non-null int64\n",
      "SalePrice        1460 non-null int64\n",
      "dtypes: int64(31)\n",
      "memory usage: 405.0 KB\n"
     ]
    }
   ],
   "source": [
    "data.info()"
   ]
  },
  {
   "cell_type": "code",
   "execution_count": 8,
   "metadata": {},
   "outputs": [],
   "source": [
    "X = data.drop('SalePrice', axis=1)\n",
    "y = data.SalePrice"
   ]
  },
  {
   "cell_type": "code",
   "execution_count": 58,
   "metadata": {},
   "outputs": [],
   "source": [
    "X_train, X_test, y_train, y_test = train_test_split(X, y, test_size=0.4, random_state=42)\n",
    "\n",
    "X_test, X_val, y_test, y_val  = train_test_split(X_test, y_test, test_size=0.5, random_state=42)"
   ]
  },
  {
   "cell_type": "markdown",
   "metadata": {},
   "source": [
    "CATBOOST"
   ]
  },
  {
   "cell_type": "code",
   "execution_count": 57,
   "metadata": {},
   "outputs": [],
   "source": [
    "from catboost import CatBoostRegressor, Pool"
   ]
  },
  {
   "cell_type": "code",
   "execution_count": 59,
   "metadata": {},
   "outputs": [],
   "source": [
    "train_data = Pool(X_train, y_train)\n",
    "val_data = Pool(X_val,y_val)\n",
    "test_data = Pool(X_test,y_test)"
   ]
  },
  {
   "cell_type": "code",
   "execution_count": 75,
   "metadata": {},
   "outputs": [],
   "source": [
    "params = {'iterations' : 500,\n",
    "         'learning_rate': 0.05,\n",
    "          'eval_metric': 'R2',\n",
    "         'depth':5,\n",
    "         #'verbose': True\n",
    "         }"
   ]
  },
  {
   "cell_type": "code",
   "execution_count": 65,
   "metadata": {},
   "outputs": [],
   "source": [
    "model = CatBoostRegressor(**params)"
   ]
  },
  {
   "cell_type": "code",
   "execution_count": 66,
   "metadata": {},
   "outputs": [
    {
     "name": "stdout",
     "output_type": "stream",
     "text": [
      "0:\tlearn: 0.0067084\ttest: 0.0069307\tbest: 0.0069307 (0)\ttotal: 117ms\tremaining: 58.3s\n",
      "1:\tlearn: 0.0142895\ttest: 0.0157716\tbest: 0.0157716 (1)\ttotal: 212ms\tremaining: 52.7s\n",
      "2:\tlearn: 0.0214902\ttest: 0.0238157\tbest: 0.0238157 (2)\ttotal: 307ms\tremaining: 50.9s\n",
      "3:\tlearn: 0.0274567\ttest: 0.0298970\tbest: 0.0298970 (3)\ttotal: 417ms\tremaining: 51.8s\n",
      "4:\tlearn: 0.0375961\ttest: 0.0413258\tbest: 0.0413258 (4)\ttotal: 512ms\tremaining: 50.7s\n",
      "5:\tlearn: 0.0471314\ttest: 0.0519257\tbest: 0.0519257 (5)\ttotal: 627ms\tremaining: 51.6s\n",
      "6:\tlearn: 0.0585488\ttest: 0.0622919\tbest: 0.0622919 (6)\ttotal: 727ms\tremaining: 51.2s\n",
      "7:\tlearn: 0.0698425\ttest: 0.0740151\tbest: 0.0740151 (7)\ttotal: 847ms\tremaining: 52.1s\n",
      "8:\tlearn: 0.0818825\ttest: 0.0869418\tbest: 0.0869418 (8)\ttotal: 961ms\tremaining: 52.4s\n",
      "9:\tlearn: 0.0960278\ttest: 0.1015325\tbest: 0.1015325 (9)\ttotal: 1.09s\tremaining: 53.4s\n",
      "10:\tlearn: 0.1102865\ttest: 0.1172499\tbest: 0.1172499 (10)\ttotal: 1.21s\tremaining: 53.7s\n",
      "11:\tlearn: 0.1279083\ttest: 0.1322815\tbest: 0.1322815 (11)\ttotal: 1.31s\tremaining: 53.5s\n",
      "12:\tlearn: 0.1422419\ttest: 0.1496581\tbest: 0.1496581 (12)\ttotal: 1.42s\tremaining: 53.2s\n",
      "13:\tlearn: 0.1608992\ttest: 0.1688850\tbest: 0.1688850 (13)\ttotal: 1.53s\tremaining: 53s\n",
      "14:\tlearn: 0.1772592\ttest: 0.1865656\tbest: 0.1865656 (14)\ttotal: 1.62s\tremaining: 52.4s\n",
      "15:\tlearn: 0.1933809\ttest: 0.2051894\tbest: 0.2051894 (15)\ttotal: 1.75s\tremaining: 52.8s\n",
      "16:\tlearn: 0.2105473\ttest: 0.2245180\tbest: 0.2245180 (16)\ttotal: 1.85s\tremaining: 52.6s\n",
      "17:\tlearn: 0.2309504\ttest: 0.2467280\tbest: 0.2467280 (17)\ttotal: 1.96s\tremaining: 52.5s\n",
      "18:\tlearn: 0.2511532\ttest: 0.2685204\tbest: 0.2685204 (18)\ttotal: 2.06s\tremaining: 52s\n",
      "19:\tlearn: 0.2705336\ttest: 0.2909867\tbest: 0.2909867 (19)\ttotal: 2.17s\tremaining: 52.1s\n",
      "20:\tlearn: 0.2936917\ttest: 0.3161830\tbest: 0.3161830 (20)\ttotal: 2.27s\tremaining: 51.7s\n",
      "21:\tlearn: 0.3136909\ttest: 0.3379240\tbest: 0.3379240 (21)\ttotal: 2.39s\tremaining: 51.9s\n",
      "22:\tlearn: 0.3356815\ttest: 0.3607588\tbest: 0.3607588 (22)\ttotal: 2.5s\tremaining: 51.9s\n",
      "23:\tlearn: 0.3600024\ttest: 0.3869405\tbest: 0.3869405 (23)\ttotal: 2.63s\tremaining: 52.1s\n",
      "24:\tlearn: 0.3826967\ttest: 0.4116459\tbest: 0.4116459 (24)\ttotal: 2.74s\tremaining: 52s\n",
      "25:\tlearn: 0.4039278\ttest: 0.4362203\tbest: 0.4362203 (25)\ttotal: 2.93s\tremaining: 53.4s\n",
      "26:\tlearn: 0.4267048\ttest: 0.4596065\tbest: 0.4596065 (26)\ttotal: 3.06s\tremaining: 53.6s\n",
      "27:\tlearn: 0.4465027\ttest: 0.4780929\tbest: 0.4780929 (27)\ttotal: 3.19s\tremaining: 53.7s\n",
      "28:\tlearn: 0.4630198\ttest: 0.4962238\tbest: 0.4962238 (28)\ttotal: 3.31s\tremaining: 53.8s\n",
      "29:\tlearn: 0.4827010\ttest: 0.5174737\tbest: 0.5174737 (29)\ttotal: 3.44s\tremaining: 53.9s\n",
      "30:\tlearn: 0.5007143\ttest: 0.5373611\tbest: 0.5373611 (30)\ttotal: 3.57s\tremaining: 54s\n",
      "31:\tlearn: 0.5213934\ttest: 0.5583712\tbest: 0.5583712 (31)\ttotal: 3.7s\tremaining: 54.1s\n",
      "32:\tlearn: 0.5401346\ttest: 0.5753629\tbest: 0.5753629 (32)\ttotal: 3.83s\tremaining: 54.2s\n",
      "33:\tlearn: 0.5565399\ttest: 0.5933058\tbest: 0.5933058 (33)\ttotal: 3.95s\tremaining: 54.2s\n",
      "34:\tlearn: 0.5709432\ttest: 0.6093693\tbest: 0.6093693 (34)\ttotal: 4.09s\tremaining: 54.4s\n",
      "35:\tlearn: 0.5864101\ttest: 0.6260782\tbest: 0.6260782 (35)\ttotal: 4.23s\tremaining: 54.5s\n",
      "36:\tlearn: 0.6004339\ttest: 0.6404832\tbest: 0.6404832 (36)\ttotal: 4.35s\tremaining: 54.5s\n",
      "37:\tlearn: 0.6158307\ttest: 0.6557402\tbest: 0.6557402 (37)\ttotal: 4.49s\tremaining: 54.6s\n",
      "38:\tlearn: 0.6276554\ttest: 0.6676818\tbest: 0.6676818 (38)\ttotal: 4.64s\tremaining: 54.9s\n",
      "39:\tlearn: 0.6413794\ttest: 0.6812979\tbest: 0.6812979 (39)\ttotal: 4.79s\tremaining: 55s\n",
      "40:\tlearn: 0.6531031\ttest: 0.6926835\tbest: 0.6926835 (40)\ttotal: 4.92s\tremaining: 55s\n",
      "41:\tlearn: 0.6645959\ttest: 0.7045710\tbest: 0.7045710 (41)\ttotal: 5.02s\tremaining: 54.8s\n",
      "42:\tlearn: 0.6747236\ttest: 0.7155711\tbest: 0.7155711 (42)\ttotal: 5.16s\tremaining: 54.8s\n",
      "43:\tlearn: 0.6850486\ttest: 0.7254880\tbest: 0.7254880 (43)\ttotal: 5.33s\tremaining: 55.2s\n",
      "44:\tlearn: 0.6961762\ttest: 0.7358260\tbest: 0.7358260 (44)\ttotal: 5.49s\tremaining: 55.5s\n",
      "45:\tlearn: 0.7048719\ttest: 0.7438918\tbest: 0.7438918 (45)\ttotal: 5.64s\tremaining: 55.7s\n",
      "46:\tlearn: 0.7130583\ttest: 0.7513775\tbest: 0.7513775 (46)\ttotal: 5.8s\tremaining: 56s\n",
      "47:\tlearn: 0.7219353\ttest: 0.7602801\tbest: 0.7602801 (47)\ttotal: 5.93s\tremaining: 55.8s\n",
      "48:\tlearn: 0.7303633\ttest: 0.7677490\tbest: 0.7677490 (48)\ttotal: 6.02s\tremaining: 55.4s\n",
      "49:\tlearn: 0.7380172\ttest: 0.7752605\tbest: 0.7752605 (49)\ttotal: 6.12s\tremaining: 55.1s\n",
      "50:\tlearn: 0.7444223\ttest: 0.7821797\tbest: 0.7821797 (50)\ttotal: 6.24s\tremaining: 54.9s\n",
      "51:\tlearn: 0.7497436\ttest: 0.7874310\tbest: 0.7874310 (51)\ttotal: 6.35s\tremaining: 54.7s\n",
      "52:\tlearn: 0.7552996\ttest: 0.7920742\tbest: 0.7920742 (52)\ttotal: 6.45s\tremaining: 54.4s\n",
      "53:\tlearn: 0.7608065\ttest: 0.7965680\tbest: 0.7965680 (53)\ttotal: 6.62s\tremaining: 54.6s\n",
      "54:\tlearn: 0.7657533\ttest: 0.8002191\tbest: 0.8002191 (54)\ttotal: 6.76s\tremaining: 54.7s\n",
      "55:\tlearn: 0.7707526\ttest: 0.8040439\tbest: 0.8040439 (55)\ttotal: 6.91s\tremaining: 54.8s\n",
      "56:\tlearn: 0.7749854\ttest: 0.8079664\tbest: 0.8079664 (56)\ttotal: 7.03s\tremaining: 54.6s\n",
      "57:\tlearn: 0.7795489\ttest: 0.8116894\tbest: 0.8116894 (57)\ttotal: 7.14s\tremaining: 54.4s\n",
      "58:\tlearn: 0.7836351\ttest: 0.8141379\tbest: 0.8141379 (58)\ttotal: 7.24s\tremaining: 54.1s\n",
      "59:\tlearn: 0.7886979\ttest: 0.8176439\tbest: 0.8176439 (59)\ttotal: 7.36s\tremaining: 54s\n",
      "60:\tlearn: 0.7921465\ttest: 0.8210713\tbest: 0.8210713 (60)\ttotal: 7.48s\tremaining: 53.8s\n",
      "61:\tlearn: 0.7956872\ttest: 0.8239910\tbest: 0.8239910 (61)\ttotal: 7.6s\tremaining: 53.7s\n",
      "62:\tlearn: 0.7996483\ttest: 0.8273609\tbest: 0.8273609 (62)\ttotal: 7.71s\tremaining: 53.5s\n",
      "63:\tlearn: 0.8024175\ttest: 0.8296205\tbest: 0.8296205 (63)\ttotal: 7.85s\tremaining: 53.5s\n",
      "64:\tlearn: 0.8053836\ttest: 0.8320917\tbest: 0.8320917 (64)\ttotal: 7.96s\tremaining: 53.3s\n",
      "65:\tlearn: 0.8098042\ttest: 0.8356298\tbest: 0.8356298 (65)\ttotal: 8.08s\tremaining: 53.1s\n",
      "66:\tlearn: 0.8124757\ttest: 0.8378465\tbest: 0.8378465 (66)\ttotal: 8.19s\tremaining: 52.9s\n",
      "67:\tlearn: 0.8156890\ttest: 0.8392931\tbest: 0.8392931 (67)\ttotal: 8.3s\tremaining: 52.7s\n",
      "68:\tlearn: 0.8181682\ttest: 0.8408183\tbest: 0.8408183 (68)\ttotal: 8.39s\tremaining: 52.4s\n",
      "69:\tlearn: 0.8198281\ttest: 0.8422359\tbest: 0.8422359 (69)\ttotal: 8.51s\tremaining: 52.3s\n",
      "70:\tlearn: 0.8222727\ttest: 0.8447782\tbest: 0.8447782 (70)\ttotal: 8.61s\tremaining: 52s\n",
      "71:\tlearn: 0.8241066\ttest: 0.8462885\tbest: 0.8462885 (71)\ttotal: 8.7s\tremaining: 51.7s\n",
      "72:\tlearn: 0.8260672\ttest: 0.8480866\tbest: 0.8480866 (72)\ttotal: 8.83s\tremaining: 51.7s\n",
      "73:\tlearn: 0.8281060\ttest: 0.8497122\tbest: 0.8497122 (73)\ttotal: 8.96s\tremaining: 51.6s\n",
      "74:\tlearn: 0.8306863\ttest: 0.8504878\tbest: 0.8504878 (74)\ttotal: 9.09s\tremaining: 51.5s\n",
      "75:\tlearn: 0.8334560\ttest: 0.8521885\tbest: 0.8521885 (75)\ttotal: 9.2s\tremaining: 51.3s\n",
      "76:\tlearn: 0.8353217\ttest: 0.8529988\tbest: 0.8529988 (76)\ttotal: 9.29s\tremaining: 51.1s\n",
      "77:\tlearn: 0.8371238\ttest: 0.8548242\tbest: 0.8548242 (77)\ttotal: 9.4s\tremaining: 50.9s\n",
      "78:\tlearn: 0.8388341\ttest: 0.8559938\tbest: 0.8559938 (78)\ttotal: 9.5s\tremaining: 50.6s\n",
      "79:\tlearn: 0.8404291\ttest: 0.8574549\tbest: 0.8574549 (79)\ttotal: 9.61s\tremaining: 50.4s\n",
      "80:\tlearn: 0.8419313\ttest: 0.8585080\tbest: 0.8585080 (80)\ttotal: 9.7s\tremaining: 50.2s\n",
      "81:\tlearn: 0.8433399\ttest: 0.8597022\tbest: 0.8597022 (81)\ttotal: 9.8s\tremaining: 50s\n",
      "82:\tlearn: 0.8447443\ttest: 0.8603954\tbest: 0.8603954 (82)\ttotal: 9.91s\tremaining: 49.8s\n",
      "83:\tlearn: 0.8457137\ttest: 0.8611070\tbest: 0.8611070 (83)\ttotal: 10s\tremaining: 49.6s\n",
      "84:\tlearn: 0.8485009\ttest: 0.8629549\tbest: 0.8629549 (84)\ttotal: 10.1s\tremaining: 49.4s\n",
      "85:\tlearn: 0.8503096\ttest: 0.8630631\tbest: 0.8630631 (85)\ttotal: 10.2s\tremaining: 49.2s\n",
      "86:\tlearn: 0.8517146\ttest: 0.8641375\tbest: 0.8641375 (86)\ttotal: 10.3s\tremaining: 49s\n",
      "87:\tlearn: 0.8530193\ttest: 0.8644544\tbest: 0.8644544 (87)\ttotal: 10.4s\tremaining: 48.8s\n",
      "88:\tlearn: 0.8543579\ttest: 0.8652739\tbest: 0.8652739 (88)\ttotal: 10.5s\tremaining: 48.7s\n",
      "89:\tlearn: 0.8554629\ttest: 0.8658444\tbest: 0.8658444 (89)\ttotal: 10.7s\tremaining: 48.5s\n",
      "90:\tlearn: 0.8560823\ttest: 0.8659752\tbest: 0.8659752 (90)\ttotal: 10.8s\tremaining: 48.4s\n",
      "91:\tlearn: 0.8569172\ttest: 0.8661895\tbest: 0.8661895 (91)\ttotal: 10.9s\tremaining: 48.2s\n",
      "92:\tlearn: 0.8577937\ttest: 0.8667020\tbest: 0.8667020 (92)\ttotal: 11s\tremaining: 48.1s\n",
      "93:\tlearn: 0.8584261\ttest: 0.8673630\tbest: 0.8673630 (93)\ttotal: 11.1s\tremaining: 47.9s\n",
      "94:\tlearn: 0.8594989\ttest: 0.8685449\tbest: 0.8685449 (94)\ttotal: 11.2s\tremaining: 47.7s\n",
      "95:\tlearn: 0.8596686\ttest: 0.8685790\tbest: 0.8685790 (95)\ttotal: 11.3s\tremaining: 47.5s\n"
     ]
    },
    {
     "name": "stdout",
     "output_type": "stream",
     "text": [
      "96:\tlearn: 0.8612119\ttest: 0.8690198\tbest: 0.8690198 (96)\ttotal: 11.4s\tremaining: 47.4s\n",
      "97:\tlearn: 0.8627081\ttest: 0.8702038\tbest: 0.8702038 (97)\ttotal: 11.5s\tremaining: 47.2s\n",
      "98:\tlearn: 0.8631601\ttest: 0.8703299\tbest: 0.8703299 (98)\ttotal: 11.6s\tremaining: 47s\n",
      "99:\tlearn: 0.8641414\ttest: 0.8709962\tbest: 0.8709962 (99)\ttotal: 11.7s\tremaining: 46.9s\n",
      "100:\tlearn: 0.8654172\ttest: 0.8716713\tbest: 0.8716713 (100)\ttotal: 11.8s\tremaining: 46.7s\n",
      "101:\tlearn: 0.8662631\ttest: 0.8721876\tbest: 0.8721876 (101)\ttotal: 11.9s\tremaining: 46.6s\n",
      "102:\tlearn: 0.8673257\ttest: 0.8725544\tbest: 0.8725544 (102)\ttotal: 12s\tremaining: 46.4s\n",
      "103:\tlearn: 0.8685748\ttest: 0.8734959\tbest: 0.8734959 (103)\ttotal: 12.1s\tremaining: 46.2s\n",
      "104:\tlearn: 0.8692787\ttest: 0.8740395\tbest: 0.8740395 (104)\ttotal: 12.2s\tremaining: 46.1s\n",
      "105:\tlearn: 0.8700610\ttest: 0.8745322\tbest: 0.8745322 (105)\ttotal: 12.3s\tremaining: 45.9s\n",
      "106:\tlearn: 0.8706963\ttest: 0.8750596\tbest: 0.8750596 (106)\ttotal: 12.5s\tremaining: 45.8s\n",
      "107:\tlearn: 0.8714029\ttest: 0.8751840\tbest: 0.8751840 (107)\ttotal: 12.6s\tremaining: 45.9s\n",
      "108:\tlearn: 0.8715181\ttest: 0.8752435\tbest: 0.8752435 (108)\ttotal: 12.8s\tremaining: 46s\n",
      "109:\tlearn: 0.8723222\ttest: 0.8752987\tbest: 0.8752987 (109)\ttotal: 13s\tremaining: 46.1s\n",
      "110:\tlearn: 0.8733642\ttest: 0.8755198\tbest: 0.8755198 (110)\ttotal: 13.2s\tremaining: 46.1s\n",
      "111:\tlearn: 0.8740442\ttest: 0.8758723\tbest: 0.8758723 (111)\ttotal: 13.3s\tremaining: 46.2s\n",
      "112:\tlearn: 0.8747294\ttest: 0.8764503\tbest: 0.8764503 (112)\ttotal: 13.5s\tremaining: 46.2s\n",
      "113:\tlearn: 0.8759715\ttest: 0.8766062\tbest: 0.8766062 (113)\ttotal: 13.7s\tremaining: 46.4s\n",
      "114:\tlearn: 0.8763931\ttest: 0.8767920\tbest: 0.8767920 (114)\ttotal: 13.9s\tremaining: 46.4s\n",
      "115:\tlearn: 0.8767117\ttest: 0.8770297\tbest: 0.8770297 (115)\ttotal: 14s\tremaining: 46.4s\n",
      "116:\tlearn: 0.8776407\ttest: 0.8769996\tbest: 0.8770297 (115)\ttotal: 14.1s\tremaining: 46.3s\n",
      "117:\tlearn: 0.8791265\ttest: 0.8772340\tbest: 0.8772340 (117)\ttotal: 14.3s\tremaining: 46.1s\n",
      "118:\tlearn: 0.8798213\ttest: 0.8776276\tbest: 0.8776276 (118)\ttotal: 14.4s\tremaining: 46s\n",
      "119:\tlearn: 0.8803811\ttest: 0.8777991\tbest: 0.8777991 (119)\ttotal: 14.5s\tremaining: 45.9s\n",
      "120:\tlearn: 0.8808368\ttest: 0.8779346\tbest: 0.8779346 (120)\ttotal: 14.6s\tremaining: 45.8s\n",
      "121:\tlearn: 0.8811685\ttest: 0.8781885\tbest: 0.8781885 (121)\ttotal: 14.8s\tremaining: 45.7s\n",
      "122:\tlearn: 0.8813252\ttest: 0.8784110\tbest: 0.8784110 (122)\ttotal: 14.8s\tremaining: 45.5s\n",
      "123:\tlearn: 0.8823070\ttest: 0.8787136\tbest: 0.8787136 (123)\ttotal: 14.9s\tremaining: 45.3s\n",
      "124:\tlearn: 0.8830796\ttest: 0.8790514\tbest: 0.8790514 (124)\ttotal: 15.1s\tremaining: 45.2s\n",
      "125:\tlearn: 0.8836514\ttest: 0.8794601\tbest: 0.8794601 (125)\ttotal: 15.2s\tremaining: 45.1s\n",
      "126:\tlearn: 0.8843282\ttest: 0.8795278\tbest: 0.8795278 (126)\ttotal: 15.3s\tremaining: 44.9s\n",
      "127:\tlearn: 0.8847506\ttest: 0.8797516\tbest: 0.8797516 (127)\ttotal: 15.4s\tremaining: 44.7s\n",
      "128:\tlearn: 0.8858616\ttest: 0.8809517\tbest: 0.8809517 (128)\ttotal: 15.5s\tremaining: 44.6s\n",
      "129:\tlearn: 0.8859519\ttest: 0.8810051\tbest: 0.8810051 (129)\ttotal: 15.7s\tremaining: 44.7s\n",
      "130:\tlearn: 0.8861497\ttest: 0.8810123\tbest: 0.8810123 (130)\ttotal: 15.9s\tremaining: 44.7s\n",
      "131:\tlearn: 0.8866538\ttest: 0.8812125\tbest: 0.8812125 (131)\ttotal: 16s\tremaining: 44.7s\n",
      "132:\tlearn: 0.8877367\ttest: 0.8817229\tbest: 0.8817229 (132)\ttotal: 16.2s\tremaining: 44.7s\n",
      "133:\tlearn: 0.8880659\ttest: 0.8818134\tbest: 0.8818134 (133)\ttotal: 16.4s\tremaining: 44.7s\n",
      "134:\tlearn: 0.8888705\ttest: 0.8817833\tbest: 0.8818134 (133)\ttotal: 16.5s\tremaining: 44.7s\n",
      "135:\tlearn: 0.8897790\ttest: 0.8819676\tbest: 0.8819676 (135)\ttotal: 16.7s\tremaining: 44.7s\n",
      "136:\tlearn: 0.8901945\ttest: 0.8821282\tbest: 0.8821282 (136)\ttotal: 16.9s\tremaining: 44.7s\n",
      "137:\tlearn: 0.8905978\ttest: 0.8820793\tbest: 0.8821282 (136)\ttotal: 17s\tremaining: 44.6s\n",
      "138:\tlearn: 0.8908247\ttest: 0.8821095\tbest: 0.8821282 (136)\ttotal: 17.2s\tremaining: 44.6s\n",
      "139:\tlearn: 0.8914415\ttest: 0.8823005\tbest: 0.8823005 (139)\ttotal: 17.3s\tremaining: 44.5s\n",
      "140:\tlearn: 0.8916708\ttest: 0.8822247\tbest: 0.8823005 (139)\ttotal: 17.4s\tremaining: 44.4s\n",
      "141:\tlearn: 0.8920533\ttest: 0.8822595\tbest: 0.8823005 (139)\ttotal: 17.6s\tremaining: 44.3s\n",
      "142:\tlearn: 0.8924068\ttest: 0.8823635\tbest: 0.8823635 (142)\ttotal: 17.7s\tremaining: 44.1s\n",
      "143:\tlearn: 0.8925457\ttest: 0.8822966\tbest: 0.8823635 (142)\ttotal: 17.8s\tremaining: 43.9s\n",
      "144:\tlearn: 0.8927034\ttest: 0.8824734\tbest: 0.8824734 (144)\ttotal: 17.9s\tremaining: 43.8s\n",
      "145:\tlearn: 0.8932705\ttest: 0.8827387\tbest: 0.8827387 (145)\ttotal: 18s\tremaining: 43.6s\n",
      "146:\tlearn: 0.8932944\ttest: 0.8827810\tbest: 0.8827810 (146)\ttotal: 18.1s\tremaining: 43.4s\n",
      "147:\tlearn: 0.8939945\ttest: 0.8829497\tbest: 0.8829497 (147)\ttotal: 18.2s\tremaining: 43.2s\n",
      "148:\tlearn: 0.8944416\ttest: 0.8830558\tbest: 0.8830558 (148)\ttotal: 18.3s\tremaining: 43.1s\n",
      "149:\tlearn: 0.8946021\ttest: 0.8830225\tbest: 0.8830558 (148)\ttotal: 18.4s\tremaining: 42.9s\n",
      "150:\tlearn: 0.8947089\ttest: 0.8830513\tbest: 0.8830558 (148)\ttotal: 18.5s\tremaining: 42.8s\n",
      "151:\tlearn: 0.8953477\ttest: 0.8830689\tbest: 0.8830689 (151)\ttotal: 18.8s\tremaining: 43s\n",
      "152:\tlearn: 0.8958179\ttest: 0.8832548\tbest: 0.8832548 (152)\ttotal: 18.9s\tremaining: 42.9s\n",
      "153:\tlearn: 0.8961060\ttest: 0.8833467\tbest: 0.8833467 (153)\ttotal: 19.1s\tremaining: 42.8s\n",
      "154:\tlearn: 0.8963575\ttest: 0.8832475\tbest: 0.8833467 (153)\ttotal: 19.3s\tremaining: 42.9s\n",
      "155:\tlearn: 0.8966534\ttest: 0.8833772\tbest: 0.8833772 (155)\ttotal: 19.4s\tremaining: 42.9s\n",
      "156:\tlearn: 0.8970045\ttest: 0.8833248\tbest: 0.8833772 (155)\ttotal: 19.6s\tremaining: 42.9s\n",
      "157:\tlearn: 0.8973775\ttest: 0.8834372\tbest: 0.8834372 (157)\ttotal: 19.8s\tremaining: 42.9s\n",
      "158:\tlearn: 0.8979028\ttest: 0.8835003\tbest: 0.8835003 (158)\ttotal: 20s\tremaining: 42.9s\n",
      "159:\tlearn: 0.8980084\ttest: 0.8833903\tbest: 0.8835003 (158)\ttotal: 20.2s\tremaining: 43s\n",
      "160:\tlearn: 0.8981814\ttest: 0.8833689\tbest: 0.8835003 (158)\ttotal: 20.4s\tremaining: 43s\n",
      "161:\tlearn: 0.8983624\ttest: 0.8833964\tbest: 0.8835003 (158)\ttotal: 20.5s\tremaining: 42.9s\n",
      "162:\tlearn: 0.8995655\ttest: 0.8844072\tbest: 0.8844072 (162)\ttotal: 20.7s\tremaining: 42.8s\n",
      "163:\tlearn: 0.9004971\ttest: 0.8846285\tbest: 0.8846285 (163)\ttotal: 20.8s\tremaining: 42.6s\n",
      "164:\tlearn: 0.9005913\ttest: 0.8846302\tbest: 0.8846302 (164)\ttotal: 20.9s\tremaining: 42.5s\n",
      "165:\tlearn: 0.9007250\ttest: 0.8846267\tbest: 0.8846302 (164)\ttotal: 21s\tremaining: 42.3s\n",
      "166:\tlearn: 0.9010136\ttest: 0.8846365\tbest: 0.8846365 (166)\ttotal: 21.2s\tremaining: 42.2s\n",
      "167:\tlearn: 0.9020143\ttest: 0.8858033\tbest: 0.8858033 (167)\ttotal: 21.2s\tremaining: 42s\n",
      "168:\tlearn: 0.9026316\ttest: 0.8856815\tbest: 0.8858033 (167)\ttotal: 21.4s\tremaining: 41.8s\n",
      "169:\tlearn: 0.9032898\ttest: 0.8860477\tbest: 0.8860477 (169)\ttotal: 21.5s\tremaining: 41.6s\n",
      "170:\tlearn: 0.9033402\ttest: 0.8861072\tbest: 0.8861072 (170)\ttotal: 21.6s\tremaining: 41.5s\n",
      "171:\tlearn: 0.9037373\ttest: 0.8862493\tbest: 0.8862493 (171)\ttotal: 21.7s\tremaining: 41.4s\n",
      "172:\tlearn: 0.9043261\ttest: 0.8868118\tbest: 0.8868118 (172)\ttotal: 21.8s\tremaining: 41.2s\n",
      "173:\tlearn: 0.9045157\ttest: 0.8867742\tbest: 0.8868118 (172)\ttotal: 21.9s\tremaining: 41s\n",
      "174:\tlearn: 0.9047044\ttest: 0.8868696\tbest: 0.8868696 (174)\ttotal: 22s\tremaining: 40.9s\n",
      "175:\tlearn: 0.9048401\ttest: 0.8870762\tbest: 0.8870762 (175)\ttotal: 22.1s\tremaining: 40.7s\n",
      "176:\tlearn: 0.9055011\ttest: 0.8870661\tbest: 0.8870762 (175)\ttotal: 22.2s\tremaining: 40.6s\n",
      "177:\tlearn: 0.9059566\ttest: 0.8869931\tbest: 0.8870762 (175)\ttotal: 22.3s\tremaining: 40.4s\n",
      "178:\tlearn: 0.9063403\ttest: 0.8871294\tbest: 0.8871294 (178)\ttotal: 22.4s\tremaining: 40.3s\n",
      "179:\tlearn: 0.9066082\ttest: 0.8871150\tbest: 0.8871294 (178)\ttotal: 22.5s\tremaining: 40.1s\n",
      "180:\tlearn: 0.9067483\ttest: 0.8870319\tbest: 0.8871294 (178)\ttotal: 22.7s\tremaining: 39.9s\n",
      "181:\tlearn: 0.9074669\ttest: 0.8875522\tbest: 0.8875522 (181)\ttotal: 22.8s\tremaining: 39.8s\n",
      "182:\tlearn: 0.9076891\ttest: 0.8875030\tbest: 0.8875522 (181)\ttotal: 22.9s\tremaining: 39.6s\n",
      "183:\tlearn: 0.9081166\ttest: 0.8874586\tbest: 0.8875522 (181)\ttotal: 23s\tremaining: 39.4s\n",
      "184:\tlearn: 0.9084682\ttest: 0.8876125\tbest: 0.8876125 (184)\ttotal: 23.1s\tremaining: 39.3s\n",
      "185:\tlearn: 0.9088314\ttest: 0.8876477\tbest: 0.8876477 (185)\ttotal: 23.2s\tremaining: 39.1s\n",
      "186:\tlearn: 0.9088685\ttest: 0.8876669\tbest: 0.8876669 (186)\ttotal: 23.3s\tremaining: 39s\n",
      "187:\tlearn: 0.9090504\ttest: 0.8876776\tbest: 0.8876776 (187)\ttotal: 23.4s\tremaining: 38.8s\n",
      "188:\tlearn: 0.9091297\ttest: 0.8876231\tbest: 0.8876776 (187)\ttotal: 23.5s\tremaining: 38.6s\n"
     ]
    },
    {
     "name": "stdout",
     "output_type": "stream",
     "text": [
      "189:\tlearn: 0.9093883\ttest: 0.8876207\tbest: 0.8876776 (187)\ttotal: 23.6s\tremaining: 38.6s\n",
      "190:\tlearn: 0.9095058\ttest: 0.8875855\tbest: 0.8876776 (187)\ttotal: 23.8s\tremaining: 38.5s\n",
      "191:\tlearn: 0.9096980\ttest: 0.8876504\tbest: 0.8876776 (187)\ttotal: 24s\tremaining: 38.5s\n",
      "192:\tlearn: 0.9099238\ttest: 0.8876946\tbest: 0.8876946 (192)\ttotal: 24.1s\tremaining: 38.4s\n",
      "193:\tlearn: 0.9100337\ttest: 0.8876877\tbest: 0.8876946 (192)\ttotal: 24.3s\tremaining: 38.3s\n",
      "194:\tlearn: 0.9104435\ttest: 0.8878176\tbest: 0.8878176 (194)\ttotal: 24.4s\tremaining: 38.2s\n",
      "195:\tlearn: 0.9105950\ttest: 0.8877287\tbest: 0.8878176 (194)\ttotal: 24.5s\tremaining: 38s\n",
      "196:\tlearn: 0.9106090\ttest: 0.8877270\tbest: 0.8878176 (194)\ttotal: 24.6s\tremaining: 37.9s\n",
      "197:\tlearn: 0.9111379\ttest: 0.8879013\tbest: 0.8879013 (197)\ttotal: 24.7s\tremaining: 37.7s\n",
      "198:\tlearn: 0.9111608\ttest: 0.8879314\tbest: 0.8879314 (198)\ttotal: 24.8s\tremaining: 37.5s\n",
      "199:\tlearn: 0.9112476\ttest: 0.8879441\tbest: 0.8879441 (199)\ttotal: 24.9s\tremaining: 37.4s\n",
      "200:\tlearn: 0.9114730\ttest: 0.8878531\tbest: 0.8879441 (199)\ttotal: 25s\tremaining: 37.2s\n",
      "201:\tlearn: 0.9114837\ttest: 0.8878566\tbest: 0.8879441 (199)\ttotal: 25.1s\tremaining: 37.1s\n",
      "202:\tlearn: 0.9115571\ttest: 0.8879001\tbest: 0.8879441 (199)\ttotal: 25.2s\tremaining: 36.9s\n",
      "203:\tlearn: 0.9118758\ttest: 0.8882415\tbest: 0.8882415 (203)\ttotal: 25.3s\tremaining: 36.8s\n",
      "204:\tlearn: 0.9120113\ttest: 0.8882658\tbest: 0.8882658 (204)\ttotal: 25.4s\tremaining: 36.6s\n",
      "205:\tlearn: 0.9121545\ttest: 0.8881317\tbest: 0.8882658 (204)\ttotal: 25.6s\tremaining: 36.5s\n",
      "206:\tlearn: 0.9121609\ttest: 0.8881258\tbest: 0.8882658 (204)\ttotal: 25.7s\tremaining: 36.4s\n",
      "207:\tlearn: 0.9124976\ttest: 0.8883073\tbest: 0.8883073 (207)\ttotal: 25.9s\tremaining: 36.3s\n",
      "208:\tlearn: 0.9127275\ttest: 0.8884081\tbest: 0.8884081 (208)\ttotal: 26s\tremaining: 36.3s\n",
      "209:\tlearn: 0.9134988\ttest: 0.8891930\tbest: 0.8891930 (209)\ttotal: 26.2s\tremaining: 36.2s\n",
      "210:\tlearn: 0.9135515\ttest: 0.8891866\tbest: 0.8891930 (209)\ttotal: 26.3s\tremaining: 36.1s\n",
      "211:\tlearn: 0.9138595\ttest: 0.8891741\tbest: 0.8891930 (209)\ttotal: 26.5s\tremaining: 36s\n",
      "212:\tlearn: 0.9139101\ttest: 0.8891349\tbest: 0.8891930 (209)\ttotal: 26.6s\tremaining: 35.9s\n",
      "213:\tlearn: 0.9140611\ttest: 0.8890972\tbest: 0.8891930 (209)\ttotal: 26.7s\tremaining: 35.7s\n",
      "214:\tlearn: 0.9145105\ttest: 0.8897147\tbest: 0.8897147 (214)\ttotal: 26.8s\tremaining: 35.6s\n",
      "215:\tlearn: 0.9146257\ttest: 0.8897595\tbest: 0.8897595 (215)\ttotal: 26.9s\tremaining: 35.4s\n",
      "216:\tlearn: 0.9148071\ttest: 0.8897448\tbest: 0.8897595 (215)\ttotal: 27s\tremaining: 35.3s\n",
      "217:\tlearn: 0.9149321\ttest: 0.8897348\tbest: 0.8897595 (215)\ttotal: 27.1s\tremaining: 35.1s\n",
      "218:\tlearn: 0.9150317\ttest: 0.8897555\tbest: 0.8897595 (215)\ttotal: 27.2s\tremaining: 34.9s\n",
      "219:\tlearn: 0.9151451\ttest: 0.8896785\tbest: 0.8897595 (215)\ttotal: 27.3s\tremaining: 34.8s\n",
      "220:\tlearn: 0.9153921\ttest: 0.8898459\tbest: 0.8898459 (220)\ttotal: 27.4s\tremaining: 34.6s\n",
      "221:\tlearn: 0.9155322\ttest: 0.8897410\tbest: 0.8898459 (220)\ttotal: 27.6s\tremaining: 34.5s\n",
      "222:\tlearn: 0.9159630\ttest: 0.8899083\tbest: 0.8899083 (222)\ttotal: 27.7s\tremaining: 34.4s\n",
      "223:\tlearn: 0.9166938\ttest: 0.8901622\tbest: 0.8901622 (223)\ttotal: 27.8s\tremaining: 34.2s\n",
      "224:\tlearn: 0.9168243\ttest: 0.8900698\tbest: 0.8901622 (223)\ttotal: 27.9s\tremaining: 34s\n",
      "225:\tlearn: 0.9175621\ttest: 0.8909645\tbest: 0.8909645 (225)\ttotal: 28s\tremaining: 33.9s\n",
      "226:\tlearn: 0.9176768\ttest: 0.8909493\tbest: 0.8909645 (225)\ttotal: 28s\tremaining: 33.7s\n",
      "227:\tlearn: 0.9176937\ttest: 0.8909373\tbest: 0.8909645 (225)\ttotal: 28.1s\tremaining: 33.6s\n",
      "228:\tlearn: 0.9177145\ttest: 0.8909086\tbest: 0.8909645 (225)\ttotal: 28.2s\tremaining: 33.4s\n",
      "229:\tlearn: 0.9177685\ttest: 0.8908860\tbest: 0.8909645 (225)\ttotal: 28.3s\tremaining: 33.3s\n",
      "230:\tlearn: 0.9181029\ttest: 0.8909755\tbest: 0.8909755 (230)\ttotal: 28.4s\tremaining: 33.1s\n",
      "231:\tlearn: 0.9181918\ttest: 0.8909826\tbest: 0.8909826 (231)\ttotal: 28.5s\tremaining: 33s\n",
      "232:\tlearn: 0.9182924\ttest: 0.8910451\tbest: 0.8910451 (232)\ttotal: 28.6s\tremaining: 32.8s\n",
      "233:\tlearn: 0.9183382\ttest: 0.8910669\tbest: 0.8910669 (233)\ttotal: 28.7s\tremaining: 32.7s\n",
      "234:\tlearn: 0.9185399\ttest: 0.8911133\tbest: 0.8911133 (234)\ttotal: 28.8s\tremaining: 32.5s\n",
      "235:\tlearn: 0.9187716\ttest: 0.8910181\tbest: 0.8911133 (234)\ttotal: 28.9s\tremaining: 32.4s\n",
      "236:\tlearn: 0.9187828\ttest: 0.8910169\tbest: 0.8911133 (234)\ttotal: 29s\tremaining: 32.2s\n",
      "237:\tlearn: 0.9190843\ttest: 0.8910321\tbest: 0.8911133 (234)\ttotal: 29.1s\tremaining: 32.1s\n",
      "238:\tlearn: 0.9191404\ttest: 0.8909481\tbest: 0.8911133 (234)\ttotal: 29.2s\tremaining: 31.9s\n",
      "239:\tlearn: 0.9194097\ttest: 0.8911621\tbest: 0.8911621 (239)\ttotal: 29.3s\tremaining: 31.8s\n",
      "240:\tlearn: 0.9194125\ttest: 0.8911730\tbest: 0.8911730 (240)\ttotal: 29.4s\tremaining: 31.6s\n",
      "241:\tlearn: 0.9195361\ttest: 0.8912166\tbest: 0.8912166 (241)\ttotal: 29.6s\tremaining: 31.5s\n",
      "242:\tlearn: 0.9198328\ttest: 0.8914965\tbest: 0.8914965 (242)\ttotal: 29.7s\tremaining: 31.4s\n",
      "243:\tlearn: 0.9198572\ttest: 0.8915192\tbest: 0.8915192 (243)\ttotal: 29.8s\tremaining: 31.3s\n",
      "244:\tlearn: 0.9202690\ttest: 0.8917048\tbest: 0.8917048 (244)\ttotal: 29.9s\tremaining: 31.1s\n",
      "245:\tlearn: 0.9203813\ttest: 0.8917351\tbest: 0.8917351 (245)\ttotal: 30s\tremaining: 31s\n",
      "246:\tlearn: 0.9210205\ttest: 0.8922503\tbest: 0.8922503 (246)\ttotal: 30.1s\tremaining: 30.9s\n",
      "247:\tlearn: 0.9210496\ttest: 0.8922511\tbest: 0.8922511 (247)\ttotal: 30.3s\tremaining: 30.8s\n",
      "248:\tlearn: 0.9212583\ttest: 0.8922209\tbest: 0.8922511 (247)\ttotal: 30.4s\tremaining: 30.6s\n",
      "249:\tlearn: 0.9213827\ttest: 0.8921210\tbest: 0.8922511 (247)\ttotal: 30.5s\tremaining: 30.5s\n",
      "250:\tlearn: 0.9214853\ttest: 0.8921359\tbest: 0.8922511 (247)\ttotal: 30.6s\tremaining: 30.3s\n",
      "251:\tlearn: 0.9215783\ttest: 0.8921374\tbest: 0.8922511 (247)\ttotal: 30.7s\tremaining: 30.2s\n",
      "252:\tlearn: 0.9217414\ttest: 0.8921378\tbest: 0.8922511 (247)\ttotal: 30.8s\tremaining: 30.1s\n",
      "253:\tlearn: 0.9218937\ttest: 0.8919513\tbest: 0.8922511 (247)\ttotal: 31s\tremaining: 30s\n",
      "254:\tlearn: 0.9219559\ttest: 0.8919388\tbest: 0.8922511 (247)\ttotal: 31.2s\tremaining: 30s\n",
      "255:\tlearn: 0.9219671\ttest: 0.8919566\tbest: 0.8922511 (247)\ttotal: 31.3s\tremaining: 29.9s\n",
      "256:\tlearn: 0.9219783\ttest: 0.8919709\tbest: 0.8922511 (247)\ttotal: 31.5s\tremaining: 29.8s\n",
      "257:\tlearn: 0.9225764\ttest: 0.8922132\tbest: 0.8922511 (247)\ttotal: 31.6s\tremaining: 29.7s\n",
      "258:\tlearn: 0.9225899\ttest: 0.8921926\tbest: 0.8922511 (247)\ttotal: 31.8s\tremaining: 29.6s\n",
      "259:\tlearn: 0.9226741\ttest: 0.8922216\tbest: 0.8922511 (247)\ttotal: 32s\tremaining: 29.5s\n",
      "260:\tlearn: 0.9227175\ttest: 0.8921434\tbest: 0.8922511 (247)\ttotal: 32.1s\tremaining: 29.4s\n",
      "261:\tlearn: 0.9227905\ttest: 0.8921146\tbest: 0.8922511 (247)\ttotal: 32.3s\tremaining: 29.4s\n",
      "262:\tlearn: 0.9228457\ttest: 0.8921304\tbest: 0.8922511 (247)\ttotal: 32.5s\tremaining: 29.3s\n",
      "263:\tlearn: 0.9228692\ttest: 0.8920326\tbest: 0.8922511 (247)\ttotal: 32.6s\tremaining: 29.2s\n",
      "264:\tlearn: 0.9229527\ttest: 0.8919553\tbest: 0.8922511 (247)\ttotal: 32.8s\tremaining: 29.1s\n",
      "265:\tlearn: 0.9230844\ttest: 0.8917015\tbest: 0.8922511 (247)\ttotal: 32.9s\tremaining: 28.9s\n",
      "266:\tlearn: 0.9234785\ttest: 0.8918078\tbest: 0.8922511 (247)\ttotal: 33.1s\tremaining: 28.9s\n",
      "267:\tlearn: 0.9235270\ttest: 0.8917863\tbest: 0.8922511 (247)\ttotal: 33.2s\tremaining: 28.7s\n",
      "268:\tlearn: 0.9236134\ttest: 0.8918290\tbest: 0.8922511 (247)\ttotal: 33.4s\tremaining: 28.6s\n",
      "269:\tlearn: 0.9237092\ttest: 0.8917447\tbest: 0.8922511 (247)\ttotal: 33.5s\tremaining: 28.6s\n",
      "270:\tlearn: 0.9237671\ttest: 0.8916847\tbest: 0.8922511 (247)\ttotal: 33.7s\tremaining: 28.5s\n",
      "271:\tlearn: 0.9239946\ttest: 0.8918089\tbest: 0.8922511 (247)\ttotal: 33.8s\tremaining: 28.3s\n",
      "272:\tlearn: 0.9240594\ttest: 0.8918198\tbest: 0.8922511 (247)\ttotal: 34s\tremaining: 28.2s\n",
      "273:\tlearn: 0.9242187\ttest: 0.8918383\tbest: 0.8922511 (247)\ttotal: 34.1s\tremaining: 28.1s\n",
      "274:\tlearn: 0.9243162\ttest: 0.8918265\tbest: 0.8922511 (247)\ttotal: 34.3s\tremaining: 28s\n",
      "275:\tlearn: 0.9246360\ttest: 0.8919353\tbest: 0.8922511 (247)\ttotal: 34.4s\tremaining: 27.9s\n",
      "276:\tlearn: 0.9249667\ttest: 0.8918819\tbest: 0.8922511 (247)\ttotal: 34.6s\tremaining: 27.9s\n",
      "277:\tlearn: 0.9249858\ttest: 0.8918884\tbest: 0.8922511 (247)\ttotal: 34.8s\tremaining: 27.8s\n",
      "278:\tlearn: 0.9251051\ttest: 0.8918269\tbest: 0.8922511 (247)\ttotal: 34.9s\tremaining: 27.6s\n",
      "279:\tlearn: 0.9251444\ttest: 0.8918554\tbest: 0.8922511 (247)\ttotal: 35s\tremaining: 27.5s\n",
      "280:\tlearn: 0.9254598\ttest: 0.8918389\tbest: 0.8922511 (247)\ttotal: 35.1s\tremaining: 27.4s\n",
      "281:\tlearn: 0.9255419\ttest: 0.8917759\tbest: 0.8922511 (247)\ttotal: 35.2s\tremaining: 27.2s\n"
     ]
    },
    {
     "name": "stdout",
     "output_type": "stream",
     "text": [
      "282:\tlearn: 0.9255423\ttest: 0.8917753\tbest: 0.8922511 (247)\ttotal: 35.3s\tremaining: 27.1s\n",
      "283:\tlearn: 0.9257983\ttest: 0.8919989\tbest: 0.8922511 (247)\ttotal: 35.5s\tremaining: 27s\n",
      "284:\tlearn: 0.9258597\ttest: 0.8920610\tbest: 0.8922511 (247)\ttotal: 35.6s\tremaining: 26.9s\n",
      "285:\tlearn: 0.9259002\ttest: 0.8920918\tbest: 0.8922511 (247)\ttotal: 35.7s\tremaining: 26.7s\n",
      "286:\tlearn: 0.9259252\ttest: 0.8921324\tbest: 0.8922511 (247)\ttotal: 35.9s\tremaining: 26.6s\n",
      "287:\tlearn: 0.9260939\ttest: 0.8923912\tbest: 0.8923912 (287)\ttotal: 36s\tremaining: 26.5s\n",
      "288:\tlearn: 0.9262383\ttest: 0.8924332\tbest: 0.8924332 (288)\ttotal: 36.1s\tremaining: 26.4s\n",
      "289:\tlearn: 0.9262572\ttest: 0.8923919\tbest: 0.8924332 (288)\ttotal: 36.2s\tremaining: 26.2s\n",
      "290:\tlearn: 0.9263638\ttest: 0.8923908\tbest: 0.8924332 (288)\ttotal: 36.3s\tremaining: 26.1s\n",
      "291:\tlearn: 0.9263646\ttest: 0.8923917\tbest: 0.8924332 (288)\ttotal: 36.5s\tremaining: 26s\n",
      "292:\tlearn: 0.9264186\ttest: 0.8923908\tbest: 0.8924332 (288)\ttotal: 36.6s\tremaining: 25.8s\n",
      "293:\tlearn: 0.9265816\ttest: 0.8925106\tbest: 0.8925106 (293)\ttotal: 36.6s\tremaining: 25.7s\n",
      "294:\tlearn: 0.9266049\ttest: 0.8925221\tbest: 0.8925221 (294)\ttotal: 36.7s\tremaining: 25.5s\n",
      "295:\tlearn: 0.9266588\ttest: 0.8924721\tbest: 0.8925221 (294)\ttotal: 36.8s\tremaining: 25.4s\n",
      "296:\tlearn: 0.9267809\ttest: 0.8924946\tbest: 0.8925221 (294)\ttotal: 37s\tremaining: 25.3s\n",
      "297:\tlearn: 0.9268044\ttest: 0.8925093\tbest: 0.8925221 (294)\ttotal: 37s\tremaining: 25.1s\n",
      "298:\tlearn: 0.9268560\ttest: 0.8926066\tbest: 0.8926066 (298)\ttotal: 37.2s\tremaining: 25s\n",
      "299:\tlearn: 0.9268982\ttest: 0.8925782\tbest: 0.8926066 (298)\ttotal: 37.3s\tremaining: 24.8s\n",
      "300:\tlearn: 0.9269393\ttest: 0.8924967\tbest: 0.8926066 (298)\ttotal: 37.4s\tremaining: 24.7s\n",
      "301:\tlearn: 0.9269502\ttest: 0.8924774\tbest: 0.8926066 (298)\ttotal: 37.5s\tremaining: 24.6s\n",
      "302:\tlearn: 0.9269588\ttest: 0.8924699\tbest: 0.8926066 (298)\ttotal: 37.6s\tremaining: 24.4s\n",
      "303:\tlearn: 0.9270117\ttest: 0.8925175\tbest: 0.8926066 (298)\ttotal: 37.7s\tremaining: 24.3s\n",
      "304:\tlearn: 0.9270367\ttest: 0.8925363\tbest: 0.8926066 (298)\ttotal: 37.9s\tremaining: 24.2s\n",
      "305:\tlearn: 0.9270670\ttest: 0.8925540\tbest: 0.8926066 (298)\ttotal: 38s\tremaining: 24.1s\n",
      "306:\tlearn: 0.9271063\ttest: 0.8925648\tbest: 0.8926066 (298)\ttotal: 38.2s\tremaining: 24s\n",
      "307:\tlearn: 0.9272838\ttest: 0.8925565\tbest: 0.8926066 (298)\ttotal: 38.4s\tremaining: 23.9s\n",
      "308:\tlearn: 0.9275873\ttest: 0.8925210\tbest: 0.8926066 (298)\ttotal: 38.5s\tremaining: 23.8s\n",
      "309:\tlearn: 0.9276023\ttest: 0.8925269\tbest: 0.8926066 (298)\ttotal: 38.7s\tremaining: 23.7s\n",
      "310:\tlearn: 0.9276188\ttest: 0.8925063\tbest: 0.8926066 (298)\ttotal: 38.9s\tremaining: 23.6s\n",
      "311:\tlearn: 0.9276415\ttest: 0.8925143\tbest: 0.8926066 (298)\ttotal: 39s\tremaining: 23.5s\n",
      "312:\tlearn: 0.9277283\ttest: 0.8926328\tbest: 0.8926328 (312)\ttotal: 39.1s\tremaining: 23.4s\n",
      "313:\tlearn: 0.9278609\ttest: 0.8927514\tbest: 0.8927514 (313)\ttotal: 39.2s\tremaining: 23.2s\n",
      "314:\tlearn: 0.9279806\ttest: 0.8927529\tbest: 0.8927529 (314)\ttotal: 39.3s\tremaining: 23.1s\n",
      "315:\tlearn: 0.9280764\ttest: 0.8926969\tbest: 0.8927529 (314)\ttotal: 39.4s\tremaining: 22.9s\n",
      "316:\tlearn: 0.9281060\ttest: 0.8926617\tbest: 0.8927529 (314)\ttotal: 39.5s\tremaining: 22.8s\n",
      "317:\tlearn: 0.9281556\ttest: 0.8926106\tbest: 0.8927529 (314)\ttotal: 39.6s\tremaining: 22.7s\n",
      "318:\tlearn: 0.9282214\ttest: 0.8925533\tbest: 0.8927529 (314)\ttotal: 39.7s\tremaining: 22.5s\n",
      "319:\tlearn: 0.9285123\ttest: 0.8928847\tbest: 0.8928847 (319)\ttotal: 39.8s\tremaining: 22.4s\n",
      "320:\tlearn: 0.9285344\ttest: 0.8928730\tbest: 0.8928847 (319)\ttotal: 39.9s\tremaining: 22.3s\n",
      "321:\tlearn: 0.9285500\ttest: 0.8928566\tbest: 0.8928847 (319)\ttotal: 40s\tremaining: 22.1s\n",
      "322:\tlearn: 0.9287003\ttest: 0.8927615\tbest: 0.8928847 (319)\ttotal: 40.1s\tremaining: 22s\n",
      "323:\tlearn: 0.9287544\ttest: 0.8927726\tbest: 0.8928847 (319)\ttotal: 40.2s\tremaining: 21.8s\n",
      "324:\tlearn: 0.9288082\ttest: 0.8927978\tbest: 0.8928847 (319)\ttotal: 40.3s\tremaining: 21.7s\n",
      "325:\tlearn: 0.9288595\ttest: 0.8927987\tbest: 0.8928847 (319)\ttotal: 40.4s\tremaining: 21.6s\n",
      "326:\tlearn: 0.9290071\ttest: 0.8927813\tbest: 0.8928847 (319)\ttotal: 40.5s\tremaining: 21.4s\n",
      "327:\tlearn: 0.9290313\ttest: 0.8928018\tbest: 0.8928847 (319)\ttotal: 40.6s\tremaining: 21.3s\n",
      "328:\tlearn: 0.9290565\ttest: 0.8927982\tbest: 0.8928847 (319)\ttotal: 40.8s\tremaining: 21.2s\n",
      "329:\tlearn: 0.9290847\ttest: 0.8927998\tbest: 0.8928847 (319)\ttotal: 41s\tremaining: 21.1s\n",
      "330:\tlearn: 0.9291087\ttest: 0.8927615\tbest: 0.8928847 (319)\ttotal: 41.1s\tremaining: 21s\n",
      "331:\tlearn: 0.9291539\ttest: 0.8927184\tbest: 0.8928847 (319)\ttotal: 41.2s\tremaining: 20.9s\n",
      "332:\tlearn: 0.9292722\ttest: 0.8926595\tbest: 0.8928847 (319)\ttotal: 41.4s\tremaining: 20.8s\n",
      "333:\tlearn: 0.9292849\ttest: 0.8926787\tbest: 0.8928847 (319)\ttotal: 41.6s\tremaining: 20.7s\n",
      "334:\tlearn: 0.9293675\ttest: 0.8926707\tbest: 0.8928847 (319)\ttotal: 41.7s\tremaining: 20.5s\n",
      "335:\tlearn: 0.9295092\ttest: 0.8927845\tbest: 0.8928847 (319)\ttotal: 41.9s\tremaining: 20.4s\n",
      "336:\tlearn: 0.9295309\ttest: 0.8927721\tbest: 0.8928847 (319)\ttotal: 42s\tremaining: 20.3s\n",
      "337:\tlearn: 0.9295563\ttest: 0.8927380\tbest: 0.8928847 (319)\ttotal: 42.1s\tremaining: 20.2s\n",
      "338:\tlearn: 0.9295902\ttest: 0.8927704\tbest: 0.8928847 (319)\ttotal: 42.2s\tremaining: 20s\n",
      "339:\tlearn: 0.9297495\ttest: 0.8926548\tbest: 0.8928847 (319)\ttotal: 42.3s\tremaining: 19.9s\n",
      "340:\tlearn: 0.9298022\ttest: 0.8927199\tbest: 0.8928847 (319)\ttotal: 42.4s\tremaining: 19.8s\n",
      "341:\tlearn: 0.9299736\ttest: 0.8925071\tbest: 0.8928847 (319)\ttotal: 42.5s\tremaining: 19.6s\n",
      "342:\tlearn: 0.9299852\ttest: 0.8925042\tbest: 0.8928847 (319)\ttotal: 42.6s\tremaining: 19.5s\n",
      "343:\tlearn: 0.9300334\ttest: 0.8925198\tbest: 0.8928847 (319)\ttotal: 42.7s\tremaining: 19.4s\n",
      "344:\tlearn: 0.9300719\ttest: 0.8925205\tbest: 0.8928847 (319)\ttotal: 42.8s\tremaining: 19.2s\n",
      "345:\tlearn: 0.9301362\ttest: 0.8926448\tbest: 0.8928847 (319)\ttotal: 42.9s\tremaining: 19.1s\n",
      "346:\tlearn: 0.9301650\ttest: 0.8926548\tbest: 0.8928847 (319)\ttotal: 43.1s\tremaining: 19s\n",
      "347:\tlearn: 0.9304291\ttest: 0.8930562\tbest: 0.8930562 (347)\ttotal: 43.2s\tremaining: 18.9s\n",
      "348:\tlearn: 0.9308056\ttest: 0.8933098\tbest: 0.8933098 (348)\ttotal: 43.4s\tremaining: 18.8s\n",
      "349:\tlearn: 0.9308686\ttest: 0.8934505\tbest: 0.8934505 (349)\ttotal: 43.5s\tremaining: 18.7s\n",
      "350:\tlearn: 0.9309451\ttest: 0.8934874\tbest: 0.8934874 (350)\ttotal: 43.7s\tremaining: 18.5s\n",
      "351:\tlearn: 0.9309546\ttest: 0.8934712\tbest: 0.8934874 (350)\ttotal: 43.8s\tremaining: 18.4s\n",
      "352:\tlearn: 0.9309722\ttest: 0.8934793\tbest: 0.8934874 (350)\ttotal: 44s\tremaining: 18.3s\n",
      "353:\tlearn: 0.9312738\ttest: 0.8933704\tbest: 0.8934874 (350)\ttotal: 44.1s\tremaining: 18.2s\n",
      "354:\tlearn: 0.9313287\ttest: 0.8933866\tbest: 0.8934874 (350)\ttotal: 44.2s\tremaining: 18.1s\n",
      "355:\tlearn: 0.9314308\ttest: 0.8933657\tbest: 0.8934874 (350)\ttotal: 44.3s\tremaining: 17.9s\n",
      "356:\tlearn: 0.9314588\ttest: 0.8933602\tbest: 0.8934874 (350)\ttotal: 44.4s\tremaining: 17.8s\n",
      "357:\tlearn: 0.9316080\ttest: 0.8933688\tbest: 0.8934874 (350)\ttotal: 44.6s\tremaining: 17.7s\n",
      "358:\tlearn: 0.9317824\ttest: 0.8934869\tbest: 0.8934874 (350)\ttotal: 44.7s\tremaining: 17.5s\n",
      "359:\tlearn: 0.9318619\ttest: 0.8934767\tbest: 0.8934874 (350)\ttotal: 44.9s\tremaining: 17.4s\n",
      "360:\tlearn: 0.9319029\ttest: 0.8934073\tbest: 0.8934874 (350)\ttotal: 45.1s\tremaining: 17.3s\n",
      "361:\tlearn: 0.9319123\ttest: 0.8934062\tbest: 0.8934874 (350)\ttotal: 45.2s\tremaining: 17.2s\n",
      "362:\tlearn: 0.9319810\ttest: 0.8934621\tbest: 0.8934874 (350)\ttotal: 45.4s\tremaining: 17.1s\n",
      "363:\tlearn: 0.9320234\ttest: 0.8934733\tbest: 0.8934874 (350)\ttotal: 45.5s\tremaining: 17s\n",
      "364:\tlearn: 0.9320308\ttest: 0.8934566\tbest: 0.8934874 (350)\ttotal: 45.7s\tremaining: 16.9s\n",
      "365:\tlearn: 0.9320340\ttest: 0.8934753\tbest: 0.8934874 (350)\ttotal: 45.8s\tremaining: 16.8s\n",
      "366:\tlearn: 0.9320863\ttest: 0.8934768\tbest: 0.8934874 (350)\ttotal: 46s\tremaining: 16.7s\n",
      "367:\tlearn: 0.9321475\ttest: 0.8934419\tbest: 0.8934874 (350)\ttotal: 46.2s\tremaining: 16.6s\n",
      "368:\tlearn: 0.9322822\ttest: 0.8933743\tbest: 0.8934874 (350)\ttotal: 46.3s\tremaining: 16.4s\n",
      "369:\tlearn: 0.9323068\ttest: 0.8934223\tbest: 0.8934874 (350)\ttotal: 46.5s\tremaining: 16.3s\n",
      "370:\tlearn: 0.9323151\ttest: 0.8934021\tbest: 0.8934874 (350)\ttotal: 46.6s\tremaining: 16.2s\n",
      "371:\tlearn: 0.9323459\ttest: 0.8933828\tbest: 0.8934874 (350)\ttotal: 46.8s\tremaining: 16.1s\n",
      "372:\tlearn: 0.9324175\ttest: 0.8933756\tbest: 0.8934874 (350)\ttotal: 47s\tremaining: 16s\n",
      "373:\tlearn: 0.9324974\ttest: 0.8933191\tbest: 0.8934874 (350)\ttotal: 47.2s\tremaining: 15.9s\n"
     ]
    },
    {
     "name": "stdout",
     "output_type": "stream",
     "text": [
      "374:\tlearn: 0.9325234\ttest: 0.8933055\tbest: 0.8934874 (350)\ttotal: 47.3s\tremaining: 15.8s\n",
      "375:\tlearn: 0.9325534\ttest: 0.8932755\tbest: 0.8934874 (350)\ttotal: 47.5s\tremaining: 15.7s\n",
      "376:\tlearn: 0.9326312\ttest: 0.8931972\tbest: 0.8934874 (350)\ttotal: 47.6s\tremaining: 15.5s\n",
      "377:\tlearn: 0.9326928\ttest: 0.8931702\tbest: 0.8934874 (350)\ttotal: 47.8s\tremaining: 15.4s\n",
      "378:\tlearn: 0.9327361\ttest: 0.8931719\tbest: 0.8934874 (350)\ttotal: 48s\tremaining: 15.3s\n",
      "379:\tlearn: 0.9327551\ttest: 0.8931795\tbest: 0.8934874 (350)\ttotal: 48.1s\tremaining: 15.2s\n",
      "380:\tlearn: 0.9327705\ttest: 0.8931872\tbest: 0.8934874 (350)\ttotal: 48.2s\tremaining: 15.1s\n",
      "381:\tlearn: 0.9327913\ttest: 0.8931525\tbest: 0.8934874 (350)\ttotal: 48.3s\tremaining: 14.9s\n",
      "382:\tlearn: 0.9328055\ttest: 0.8931257\tbest: 0.8934874 (350)\ttotal: 48.5s\tremaining: 14.8s\n",
      "383:\tlearn: 0.9328185\ttest: 0.8930648\tbest: 0.8934874 (350)\ttotal: 48.6s\tremaining: 14.7s\n",
      "384:\tlearn: 0.9328256\ttest: 0.8930667\tbest: 0.8934874 (350)\ttotal: 48.7s\tremaining: 14.6s\n",
      "385:\tlearn: 0.9328350\ttest: 0.8930642\tbest: 0.8934874 (350)\ttotal: 48.9s\tremaining: 14.4s\n",
      "386:\tlearn: 0.9328601\ttest: 0.8930668\tbest: 0.8934874 (350)\ttotal: 49.1s\tremaining: 14.3s\n",
      "387:\tlearn: 0.9329124\ttest: 0.8931101\tbest: 0.8934874 (350)\ttotal: 49.2s\tremaining: 14.2s\n",
      "388:\tlearn: 0.9329215\ttest: 0.8931151\tbest: 0.8934874 (350)\ttotal: 49.4s\tremaining: 14.1s\n",
      "389:\tlearn: 0.9329882\ttest: 0.8930792\tbest: 0.8934874 (350)\ttotal: 49.5s\tremaining: 14s\n",
      "390:\tlearn: 0.9332301\ttest: 0.8932584\tbest: 0.8934874 (350)\ttotal: 49.7s\tremaining: 13.9s\n",
      "391:\tlearn: 0.9332508\ttest: 0.8932300\tbest: 0.8934874 (350)\ttotal: 49.9s\tremaining: 13.7s\n",
      "392:\tlearn: 0.9332532\ttest: 0.8932305\tbest: 0.8934874 (350)\ttotal: 50s\tremaining: 13.6s\n",
      "393:\tlearn: 0.9332787\ttest: 0.8932224\tbest: 0.8934874 (350)\ttotal: 50.1s\tremaining: 13.5s\n",
      "394:\tlearn: 0.9333106\ttest: 0.8932268\tbest: 0.8934874 (350)\ttotal: 50.3s\tremaining: 13.4s\n",
      "395:\tlearn: 0.9333174\ttest: 0.8932295\tbest: 0.8934874 (350)\ttotal: 50.4s\tremaining: 13.2s\n",
      "396:\tlearn: 0.9333498\ttest: 0.8932088\tbest: 0.8934874 (350)\ttotal: 50.6s\tremaining: 13.1s\n",
      "397:\tlearn: 0.9333732\ttest: 0.8932082\tbest: 0.8934874 (350)\ttotal: 50.7s\tremaining: 13s\n",
      "398:\tlearn: 0.9333845\ttest: 0.8932068\tbest: 0.8934874 (350)\ttotal: 50.8s\tremaining: 12.9s\n",
      "399:\tlearn: 0.9333866\ttest: 0.8932207\tbest: 0.8934874 (350)\ttotal: 50.9s\tremaining: 12.7s\n",
      "400:\tlearn: 0.9333955\ttest: 0.8931798\tbest: 0.8934874 (350)\ttotal: 51.2s\tremaining: 12.6s\n",
      "401:\tlearn: 0.9335221\ttest: 0.8932815\tbest: 0.8934874 (350)\ttotal: 51.4s\tremaining: 12.5s\n",
      "402:\tlearn: 0.9335372\ttest: 0.8932738\tbest: 0.8934874 (350)\ttotal: 51.5s\tremaining: 12.4s\n",
      "403:\tlearn: 0.9335452\ttest: 0.8932647\tbest: 0.8934874 (350)\ttotal: 51.7s\tremaining: 12.3s\n",
      "404:\tlearn: 0.9335857\ttest: 0.8932462\tbest: 0.8934874 (350)\ttotal: 51.9s\tremaining: 12.2s\n",
      "405:\tlearn: 0.9336563\ttest: 0.8932434\tbest: 0.8934874 (350)\ttotal: 52.1s\tremaining: 12.1s\n",
      "406:\tlearn: 0.9337167\ttest: 0.8933146\tbest: 0.8934874 (350)\ttotal: 52.3s\tremaining: 11.9s\n",
      "407:\tlearn: 0.9337437\ttest: 0.8933095\tbest: 0.8934874 (350)\ttotal: 52.4s\tremaining: 11.8s\n",
      "408:\tlearn: 0.9338038\ttest: 0.8933884\tbest: 0.8934874 (350)\ttotal: 52.6s\tremaining: 11.7s\n",
      "409:\tlearn: 0.9338079\ttest: 0.8933885\tbest: 0.8934874 (350)\ttotal: 52.7s\tremaining: 11.6s\n",
      "410:\tlearn: 0.9338160\ttest: 0.8933678\tbest: 0.8934874 (350)\ttotal: 52.9s\tremaining: 11.4s\n",
      "411:\tlearn: 0.9338334\ttest: 0.8933590\tbest: 0.8934874 (350)\ttotal: 53s\tremaining: 11.3s\n",
      "412:\tlearn: 0.9338493\ttest: 0.8933485\tbest: 0.8934874 (350)\ttotal: 53.1s\tremaining: 11.2s\n",
      "413:\tlearn: 0.9338508\ttest: 0.8933488\tbest: 0.8934874 (350)\ttotal: 53.3s\tremaining: 11.1s\n",
      "414:\tlearn: 0.9338630\ttest: 0.8933508\tbest: 0.8934874 (350)\ttotal: 53.5s\tremaining: 10.9s\n",
      "415:\tlearn: 0.9338979\ttest: 0.8933423\tbest: 0.8934874 (350)\ttotal: 53.6s\tremaining: 10.8s\n",
      "416:\tlearn: 0.9339337\ttest: 0.8933123\tbest: 0.8934874 (350)\ttotal: 53.8s\tremaining: 10.7s\n",
      "417:\tlearn: 0.9339759\ttest: 0.8933292\tbest: 0.8934874 (350)\ttotal: 53.9s\tremaining: 10.6s\n",
      "418:\tlearn: 0.9342430\ttest: 0.8935942\tbest: 0.8935942 (418)\ttotal: 54s\tremaining: 10.4s\n",
      "419:\tlearn: 0.9342481\ttest: 0.8935789\tbest: 0.8935942 (418)\ttotal: 54.2s\tremaining: 10.3s\n",
      "420:\tlearn: 0.9342790\ttest: 0.8935718\tbest: 0.8935942 (418)\ttotal: 54.3s\tremaining: 10.2s\n",
      "421:\tlearn: 0.9345738\ttest: 0.8935949\tbest: 0.8935949 (421)\ttotal: 54.4s\tremaining: 10.1s\n",
      "422:\tlearn: 0.9345856\ttest: 0.8936185\tbest: 0.8936185 (422)\ttotal: 54.5s\tremaining: 9.92s\n",
      "423:\tlearn: 0.9346410\ttest: 0.8936952\tbest: 0.8936952 (423)\ttotal: 54.6s\tremaining: 9.78s\n",
      "424:\tlearn: 0.9346469\ttest: 0.8936747\tbest: 0.8936952 (423)\ttotal: 54.7s\tremaining: 9.65s\n",
      "425:\tlearn: 0.9347592\ttest: 0.8937071\tbest: 0.8937071 (425)\ttotal: 54.8s\tremaining: 9.52s\n",
      "426:\tlearn: 0.9347823\ttest: 0.8937071\tbest: 0.8937071 (426)\ttotal: 54.9s\tremaining: 9.39s\n",
      "427:\tlearn: 0.9348117\ttest: 0.8937069\tbest: 0.8937071 (426)\ttotal: 55s\tremaining: 9.26s\n",
      "428:\tlearn: 0.9349801\ttest: 0.8937745\tbest: 0.8937745 (428)\ttotal: 55.1s\tremaining: 9.13s\n",
      "429:\tlearn: 0.9349908\ttest: 0.8937750\tbest: 0.8937750 (429)\ttotal: 55.2s\tremaining: 8.99s\n",
      "430:\tlearn: 0.9350042\ttest: 0.8937791\tbest: 0.8937791 (430)\ttotal: 55.3s\tremaining: 8.86s\n",
      "431:\tlearn: 0.9350405\ttest: 0.8937934\tbest: 0.8937934 (431)\ttotal: 55.5s\tremaining: 8.73s\n",
      "432:\tlearn: 0.9352934\ttest: 0.8939338\tbest: 0.8939338 (432)\ttotal: 55.6s\tremaining: 8.6s\n",
      "433:\tlearn: 0.9353004\ttest: 0.8939252\tbest: 0.8939338 (432)\ttotal: 55.7s\tremaining: 8.46s\n",
      "434:\tlearn: 0.9354587\ttest: 0.8940264\tbest: 0.8940264 (434)\ttotal: 55.8s\tremaining: 8.33s\n",
      "435:\tlearn: 0.9354842\ttest: 0.8940787\tbest: 0.8940787 (435)\ttotal: 55.9s\tremaining: 8.2s\n",
      "436:\tlearn: 0.9354906\ttest: 0.8940763\tbest: 0.8940787 (435)\ttotal: 56s\tremaining: 8.07s\n",
      "437:\tlearn: 0.9355156\ttest: 0.8940945\tbest: 0.8940945 (437)\ttotal: 56.1s\tremaining: 7.94s\n",
      "438:\tlearn: 0.9355312\ttest: 0.8941272\tbest: 0.8941272 (438)\ttotal: 56.2s\tremaining: 7.81s\n",
      "439:\tlearn: 0.9355451\ttest: 0.8941661\tbest: 0.8941661 (439)\ttotal: 56.3s\tremaining: 7.68s\n",
      "440:\tlearn: 0.9357718\ttest: 0.8942279\tbest: 0.8942279 (440)\ttotal: 56.4s\tremaining: 7.54s\n",
      "441:\tlearn: 0.9361618\ttest: 0.8946441\tbest: 0.8946441 (441)\ttotal: 56.5s\tremaining: 7.41s\n",
      "442:\tlearn: 0.9362365\ttest: 0.8946276\tbest: 0.8946441 (441)\ttotal: 56.6s\tremaining: 7.28s\n",
      "443:\tlearn: 0.9362638\ttest: 0.8946260\tbest: 0.8946441 (441)\ttotal: 56.7s\tremaining: 7.15s\n",
      "444:\tlearn: 0.9363057\ttest: 0.8946032\tbest: 0.8946441 (441)\ttotal: 56.8s\tremaining: 7.02s\n",
      "445:\tlearn: 0.9363097\ttest: 0.8945957\tbest: 0.8946441 (441)\ttotal: 56.9s\tremaining: 6.89s\n",
      "446:\tlearn: 0.9363696\ttest: 0.8946291\tbest: 0.8946441 (441)\ttotal: 57s\tremaining: 6.75s\n",
      "447:\tlearn: 0.9363850\ttest: 0.8946323\tbest: 0.8946441 (441)\ttotal: 57.1s\tremaining: 6.63s\n",
      "448:\tlearn: 0.9364080\ttest: 0.8946244\tbest: 0.8946441 (441)\ttotal: 57.2s\tremaining: 6.5s\n",
      "449:\tlearn: 0.9367262\ttest: 0.8945428\tbest: 0.8946441 (441)\ttotal: 57.3s\tremaining: 6.37s\n",
      "450:\tlearn: 0.9367338\ttest: 0.8945512\tbest: 0.8946441 (441)\ttotal: 57.4s\tremaining: 6.24s\n",
      "451:\tlearn: 0.9367876\ttest: 0.8946145\tbest: 0.8946441 (441)\ttotal: 57.5s\tremaining: 6.1s\n",
      "452:\tlearn: 0.9367896\ttest: 0.8946076\tbest: 0.8946441 (441)\ttotal: 57.6s\tremaining: 5.97s\n",
      "453:\tlearn: 0.9368230\ttest: 0.8945981\tbest: 0.8946441 (441)\ttotal: 57.7s\tremaining: 5.84s\n",
      "454:\tlearn: 0.9368301\ttest: 0.8946066\tbest: 0.8946441 (441)\ttotal: 57.8s\tremaining: 5.72s\n",
      "455:\tlearn: 0.9368312\ttest: 0.8946164\tbest: 0.8946441 (441)\ttotal: 57.9s\tremaining: 5.59s\n",
      "456:\tlearn: 0.9368467\ttest: 0.8946220\tbest: 0.8946441 (441)\ttotal: 58s\tremaining: 5.46s\n",
      "457:\tlearn: 0.9368522\ttest: 0.8946186\tbest: 0.8946441 (441)\ttotal: 58.1s\tremaining: 5.33s\n",
      "458:\tlearn: 0.9368546\ttest: 0.8946129\tbest: 0.8946441 (441)\ttotal: 58.2s\tremaining: 5.2s\n",
      "459:\tlearn: 0.9371358\ttest: 0.8947847\tbest: 0.8947847 (459)\ttotal: 58.3s\tremaining: 5.07s\n",
      "460:\tlearn: 0.9371600\ttest: 0.8948108\tbest: 0.8948108 (460)\ttotal: 58.4s\tremaining: 4.94s\n",
      "461:\tlearn: 0.9372835\ttest: 0.8947393\tbest: 0.8948108 (460)\ttotal: 58.5s\tremaining: 4.81s\n",
      "462:\tlearn: 0.9373387\ttest: 0.8947733\tbest: 0.8948108 (460)\ttotal: 58.6s\tremaining: 4.68s\n",
      "463:\tlearn: 0.9373400\ttest: 0.8947801\tbest: 0.8948108 (460)\ttotal: 58.7s\tremaining: 4.56s\n",
      "464:\tlearn: 0.9373440\ttest: 0.8947802\tbest: 0.8948108 (460)\ttotal: 58.8s\tremaining: 4.42s\n",
      "465:\tlearn: 0.9374189\ttest: 0.8946955\tbest: 0.8948108 (460)\ttotal: 58.9s\tremaining: 4.3s\n",
      "466:\tlearn: 0.9374231\ttest: 0.8946873\tbest: 0.8948108 (460)\ttotal: 59s\tremaining: 4.17s\n",
      "467:\tlearn: 0.9374467\ttest: 0.8946671\tbest: 0.8948108 (460)\ttotal: 59.1s\tremaining: 4.04s\n"
     ]
    },
    {
     "name": "stdout",
     "output_type": "stream",
     "text": [
      "468:\tlearn: 0.9374825\ttest: 0.8946665\tbest: 0.8948108 (460)\ttotal: 59.2s\tremaining: 3.91s\n",
      "469:\tlearn: 0.9374887\ttest: 0.8946593\tbest: 0.8948108 (460)\ttotal: 59.3s\tremaining: 3.78s\n",
      "470:\tlearn: 0.9375235\ttest: 0.8946298\tbest: 0.8948108 (460)\ttotal: 59.4s\tremaining: 3.66s\n",
      "471:\tlearn: 0.9375550\ttest: 0.8946878\tbest: 0.8948108 (460)\ttotal: 59.5s\tremaining: 3.53s\n",
      "472:\tlearn: 0.9375970\ttest: 0.8947009\tbest: 0.8948108 (460)\ttotal: 59.6s\tremaining: 3.4s\n",
      "473:\tlearn: 0.9375994\ttest: 0.8946974\tbest: 0.8948108 (460)\ttotal: 59.7s\tremaining: 3.27s\n",
      "474:\tlearn: 0.9376190\ttest: 0.8947035\tbest: 0.8948108 (460)\ttotal: 59.8s\tremaining: 3.15s\n",
      "475:\tlearn: 0.9376233\ttest: 0.8946968\tbest: 0.8948108 (460)\ttotal: 59.9s\tremaining: 3.02s\n",
      "476:\tlearn: 0.9376359\ttest: 0.8946923\tbest: 0.8948108 (460)\ttotal: 60s\tremaining: 2.89s\n",
      "477:\tlearn: 0.9376914\ttest: 0.8947065\tbest: 0.8948108 (460)\ttotal: 1m\tremaining: 2.77s\n",
      "478:\tlearn: 0.9376924\ttest: 0.8947068\tbest: 0.8948108 (460)\ttotal: 1m\tremaining: 2.64s\n",
      "479:\tlearn: 0.9376938\ttest: 0.8947162\tbest: 0.8948108 (460)\ttotal: 1m\tremaining: 2.51s\n",
      "480:\tlearn: 0.9377030\ttest: 0.8947473\tbest: 0.8948108 (460)\ttotal: 1m\tremaining: 2.39s\n",
      "481:\tlearn: 0.9379270\ttest: 0.8948746\tbest: 0.8948746 (481)\ttotal: 1m\tremaining: 2.26s\n",
      "482:\tlearn: 0.9379355\ttest: 0.8948726\tbest: 0.8948746 (481)\ttotal: 1m\tremaining: 2.13s\n",
      "483:\tlearn: 0.9379772\ttest: 0.8948143\tbest: 0.8948746 (481)\ttotal: 1m\tremaining: 2.01s\n",
      "484:\tlearn: 0.9380037\ttest: 0.8948149\tbest: 0.8948746 (481)\ttotal: 1m\tremaining: 1.88s\n",
      "485:\tlearn: 0.9380073\ttest: 0.8948077\tbest: 0.8948746 (481)\ttotal: 1m\tremaining: 1.75s\n",
      "486:\tlearn: 0.9380091\ttest: 0.8948028\tbest: 0.8948746 (481)\ttotal: 1m\tremaining: 1.63s\n",
      "487:\tlearn: 0.9380160\ttest: 0.8947883\tbest: 0.8948746 (481)\ttotal: 1m 1s\tremaining: 1.5s\n",
      "488:\tlearn: 0.9380229\ttest: 0.8947734\tbest: 0.8948746 (481)\ttotal: 1m 1s\tremaining: 1.38s\n",
      "489:\tlearn: 0.9380429\ttest: 0.8947175\tbest: 0.8948746 (481)\ttotal: 1m 1s\tremaining: 1.25s\n",
      "490:\tlearn: 0.9380521\ttest: 0.8947149\tbest: 0.8948746 (481)\ttotal: 1m 1s\tremaining: 1.13s\n",
      "491:\tlearn: 0.9380834\ttest: 0.8947076\tbest: 0.8948746 (481)\ttotal: 1m 1s\tremaining: 1s\n",
      "492:\tlearn: 0.9380874\ttest: 0.8947070\tbest: 0.8948746 (481)\ttotal: 1m 1s\tremaining: 875ms\n",
      "493:\tlearn: 0.9381346\ttest: 0.8946508\tbest: 0.8948746 (481)\ttotal: 1m 1s\tremaining: 749ms\n",
      "494:\tlearn: 0.9381391\ttest: 0.8946454\tbest: 0.8948746 (481)\ttotal: 1m 1s\tremaining: 624ms\n",
      "495:\tlearn: 0.9381606\ttest: 0.8946318\tbest: 0.8948746 (481)\ttotal: 1m 1s\tremaining: 499ms\n",
      "496:\tlearn: 0.9381686\ttest: 0.8946515\tbest: 0.8948746 (481)\ttotal: 1m 2s\tremaining: 374ms\n",
      "497:\tlearn: 0.9381866\ttest: 0.8946524\tbest: 0.8948746 (481)\ttotal: 1m 2s\tremaining: 249ms\n",
      "498:\tlearn: 0.9382735\ttest: 0.8946676\tbest: 0.8948746 (481)\ttotal: 1m 2s\tremaining: 125ms\n",
      "499:\tlearn: 0.9383001\ttest: 0.8946687\tbest: 0.8948746 (481)\ttotal: 1m 2s\tremaining: 0us\n",
      "\n",
      "bestTest = 0.8948746318\n",
      "bestIteration = 481\n",
      "\n",
      "Shrink model to first 482 iterations.\n"
     ]
    },
    {
     "data": {
      "text/plain": [
       "<catboost.core.CatBoostRegressor at 0x1f55f3f7a90>"
      ]
     },
     "execution_count": 66,
     "metadata": {},
     "output_type": "execute_result"
    }
   ],
   "source": [
    "model.fit(train_data, eval_set = val_data)"
   ]
  },
  {
   "cell_type": "code",
   "execution_count": 71,
   "metadata": {},
   "outputs": [],
   "source": [
    "X_train2, X_test2, y_train2, y_test2 = train_test_split(X, y, test_size=0.2, random_state=42)"
   ]
  },
  {
   "cell_type": "code",
   "execution_count": 72,
   "metadata": {},
   "outputs": [],
   "source": [
    "train_data2 = Pool(X_train2, y_train2)\n",
    "test_data2 = Pool(X_test2,y_test2)"
   ]
  },
  {
   "cell_type": "code",
   "execution_count": 73,
   "metadata": {},
   "outputs": [],
   "source": [
    "model2 = CatBoostRegressor(**params)"
   ]
  },
  {
   "cell_type": "code",
   "execution_count": 74,
   "metadata": {},
   "outputs": [
    {
     "name": "stdout",
     "output_type": "stream",
     "text": [
      "0:\tlearn: 0.0089885\ttotal: 152ms\tremaining: 1m 15s\n",
      "1:\tlearn: 0.0143129\ttotal: 248ms\tremaining: 1m 1s\n",
      "2:\tlearn: 0.0212342\ttotal: 344ms\tremaining: 57.1s\n",
      "3:\tlearn: 0.0300042\ttotal: 464ms\tremaining: 57.5s\n",
      "4:\tlearn: 0.0396972\ttotal: 568ms\tremaining: 56.3s\n",
      "5:\tlearn: 0.0539090\ttotal: 685ms\tremaining: 56.4s\n",
      "6:\tlearn: 0.0660059\ttotal: 784ms\tremaining: 55.2s\n",
      "7:\tlearn: 0.0784657\ttotal: 927ms\tremaining: 57s\n",
      "8:\tlearn: 0.0918784\ttotal: 1.09s\tremaining: 59.3s\n",
      "9:\tlearn: 0.1108682\ttotal: 1.23s\tremaining: 1m\n",
      "10:\tlearn: 0.1270435\ttotal: 1.37s\tremaining: 1m\n",
      "11:\tlearn: 0.1416847\ttotal: 1.49s\tremaining: 1m\n",
      "12:\tlearn: 0.1631788\ttotal: 1.62s\tremaining: 1m\n",
      "13:\tlearn: 0.1813693\ttotal: 1.75s\tremaining: 1m\n",
      "14:\tlearn: 0.2012446\ttotal: 1.88s\tremaining: 1m\n",
      "15:\tlearn: 0.2208104\ttotal: 2.01s\tremaining: 1m\n",
      "16:\tlearn: 0.2447263\ttotal: 2.15s\tremaining: 1m 1s\n",
      "17:\tlearn: 0.2685117\ttotal: 2.27s\tremaining: 1m\n",
      "18:\tlearn: 0.2930872\ttotal: 2.4s\tremaining: 1m\n",
      "19:\tlearn: 0.3151857\ttotal: 2.53s\tremaining: 1m\n",
      "20:\tlearn: 0.3390673\ttotal: 2.67s\tremaining: 1m\n",
      "21:\tlearn: 0.3634050\ttotal: 2.83s\tremaining: 1m 1s\n",
      "22:\tlearn: 0.3869205\ttotal: 2.98s\tremaining: 1m 1s\n",
      "23:\tlearn: 0.4077857\ttotal: 3.13s\tremaining: 1m 2s\n",
      "24:\tlearn: 0.4316730\ttotal: 3.28s\tremaining: 1m 2s\n",
      "25:\tlearn: 0.4537573\ttotal: 3.42s\tremaining: 1m 2s\n",
      "26:\tlearn: 0.4741718\ttotal: 3.59s\tremaining: 1m 2s\n",
      "27:\tlearn: 0.4937825\ttotal: 3.74s\tremaining: 1m 3s\n",
      "28:\tlearn: 0.5145247\ttotal: 3.9s\tremaining: 1m 3s\n",
      "29:\tlearn: 0.5339663\ttotal: 4.05s\tremaining: 1m 3s\n",
      "30:\tlearn: 0.5532532\ttotal: 4.19s\tremaining: 1m 3s\n",
      "31:\tlearn: 0.5700163\ttotal: 4.32s\tremaining: 1m 3s\n",
      "32:\tlearn: 0.5864990\ttotal: 4.48s\tremaining: 1m 3s\n",
      "33:\tlearn: 0.6042840\ttotal: 4.64s\tremaining: 1m 3s\n",
      "34:\tlearn: 0.6203585\ttotal: 4.81s\tremaining: 1m 3s\n",
      "35:\tlearn: 0.6337108\ttotal: 4.94s\tremaining: 1m 3s\n",
      "36:\tlearn: 0.6485003\ttotal: 5.1s\tremaining: 1m 3s\n",
      "37:\tlearn: 0.6607469\ttotal: 5.27s\tremaining: 1m 4s\n",
      "38:\tlearn: 0.6723432\ttotal: 5.42s\tremaining: 1m 4s\n",
      "39:\tlearn: 0.6849837\ttotal: 5.58s\tremaining: 1m 4s\n",
      "40:\tlearn: 0.6962675\ttotal: 5.74s\tremaining: 1m 4s\n",
      "41:\tlearn: 0.7072731\ttotal: 5.93s\tremaining: 1m 4s\n",
      "42:\tlearn: 0.7184187\ttotal: 6.13s\tremaining: 1m 5s\n",
      "43:\tlearn: 0.7278305\ttotal: 6.32s\tremaining: 1m 5s\n",
      "44:\tlearn: 0.7363461\ttotal: 6.52s\tremaining: 1m 5s\n",
      "45:\tlearn: 0.7442626\ttotal: 6.71s\tremaining: 1m 6s\n",
      "46:\tlearn: 0.7528942\ttotal: 6.9s\tremaining: 1m 6s\n",
      "47:\tlearn: 0.7601357\ttotal: 7.1s\tremaining: 1m 6s\n",
      "48:\tlearn: 0.7662417\ttotal: 7.28s\tremaining: 1m 6s\n",
      "49:\tlearn: 0.7725841\ttotal: 7.42s\tremaining: 1m 6s\n",
      "50:\tlearn: 0.7786929\ttotal: 7.58s\tremaining: 1m 6s\n",
      "51:\tlearn: 0.7842120\ttotal: 7.72s\tremaining: 1m 6s\n",
      "52:\tlearn: 0.7892557\ttotal: 7.82s\tremaining: 1m 5s\n",
      "53:\tlearn: 0.7937050\ttotal: 7.93s\tremaining: 1m 5s\n",
      "54:\tlearn: 0.7984853\ttotal: 8.07s\tremaining: 1m 5s\n",
      "55:\tlearn: 0.8032398\ttotal: 8.22s\tremaining: 1m 5s\n",
      "56:\tlearn: 0.8068325\ttotal: 8.37s\tremaining: 1m 5s\n",
      "57:\tlearn: 0.8098870\ttotal: 8.5s\tremaining: 1m 4s\n",
      "58:\tlearn: 0.8127042\ttotal: 8.63s\tremaining: 1m 4s\n",
      "59:\tlearn: 0.8153015\ttotal: 8.73s\tremaining: 1m 4s\n",
      "60:\tlearn: 0.8189249\ttotal: 8.86s\tremaining: 1m 3s\n",
      "61:\tlearn: 0.8217204\ttotal: 9.01s\tremaining: 1m 3s\n",
      "62:\tlearn: 0.8243553\ttotal: 9.14s\tremaining: 1m 3s\n",
      "63:\tlearn: 0.8263122\ttotal: 9.29s\tremaining: 1m 3s\n",
      "64:\tlearn: 0.8288154\ttotal: 9.44s\tremaining: 1m 3s\n",
      "65:\tlearn: 0.8318193\ttotal: 9.58s\tremaining: 1m 2s\n",
      "66:\tlearn: 0.8336896\ttotal: 9.71s\tremaining: 1m 2s\n",
      "67:\tlearn: 0.8359580\ttotal: 9.83s\tremaining: 1m 2s\n",
      "68:\tlearn: 0.8380297\ttotal: 9.97s\tremaining: 1m 2s\n",
      "69:\tlearn: 0.8400732\ttotal: 10.1s\tremaining: 1m 2s\n",
      "70:\tlearn: 0.8434193\ttotal: 10.2s\tremaining: 1m 1s\n",
      "71:\tlearn: 0.8452169\ttotal: 10.3s\tremaining: 1m 1s\n",
      "72:\tlearn: 0.8470718\ttotal: 10.4s\tremaining: 1m 1s\n",
      "73:\tlearn: 0.8489107\ttotal: 10.5s\tremaining: 1m\n",
      "74:\tlearn: 0.8510811\ttotal: 10.7s\tremaining: 1m\n",
      "75:\tlearn: 0.8538377\ttotal: 10.8s\tremaining: 1m\n",
      "76:\tlearn: 0.8551948\ttotal: 10.9s\tremaining: 59.9s\n",
      "77:\tlearn: 0.8571980\ttotal: 11s\tremaining: 59.7s\n",
      "78:\tlearn: 0.8583453\ttotal: 11.1s\tremaining: 59.2s\n",
      "79:\tlearn: 0.8601098\ttotal: 11.2s\tremaining: 58.9s\n",
      "80:\tlearn: 0.8613861\ttotal: 11.3s\tremaining: 58.6s\n",
      "81:\tlearn: 0.8626007\ttotal: 11.5s\tremaining: 58.4s\n",
      "82:\tlearn: 0.8634624\ttotal: 11.6s\tremaining: 58.1s\n",
      "83:\tlearn: 0.8645182\ttotal: 11.7s\tremaining: 57.8s\n",
      "84:\tlearn: 0.8652799\ttotal: 11.8s\tremaining: 57.5s\n",
      "85:\tlearn: 0.8668132\ttotal: 11.9s\tremaining: 57.5s\n",
      "86:\tlearn: 0.8686206\ttotal: 12.1s\tremaining: 57.3s\n",
      "87:\tlearn: 0.8694433\ttotal: 12.2s\tremaining: 57s\n",
      "88:\tlearn: 0.8703639\ttotal: 12.3s\tremaining: 56.7s\n",
      "89:\tlearn: 0.8711038\ttotal: 12.4s\tremaining: 56.6s\n",
      "90:\tlearn: 0.8730097\ttotal: 12.6s\tremaining: 56.7s\n",
      "91:\tlearn: 0.8742991\ttotal: 12.8s\tremaining: 56.7s\n",
      "92:\tlearn: 0.8747835\ttotal: 12.9s\tremaining: 56.5s\n",
      "93:\tlearn: 0.8758365\ttotal: 13.1s\tremaining: 56.4s\n",
      "94:\tlearn: 0.8763122\ttotal: 13.2s\tremaining: 56.4s\n",
      "95:\tlearn: 0.8765151\ttotal: 13.3s\tremaining: 56.2s\n",
      "96:\tlearn: 0.8772265\ttotal: 13.5s\tremaining: 55.9s\n",
      "97:\tlearn: 0.8781557\ttotal: 13.6s\tremaining: 55.7s\n",
      "98:\tlearn: 0.8790232\ttotal: 13.7s\tremaining: 55.6s\n",
      "99:\tlearn: 0.8797358\ttotal: 13.9s\tremaining: 55.5s\n",
      "100:\tlearn: 0.8806849\ttotal: 14s\tremaining: 55.4s\n",
      "101:\tlearn: 0.8814891\ttotal: 14.2s\tremaining: 55.6s\n",
      "102:\tlearn: 0.8824989\ttotal: 14.4s\tremaining: 55.4s\n",
      "103:\tlearn: 0.8829956\ttotal: 14.5s\tremaining: 55.2s\n",
      "104:\tlearn: 0.8834625\ttotal: 14.6s\tremaining: 55s\n",
      "105:\tlearn: 0.8836501\ttotal: 14.7s\tremaining: 54.7s\n",
      "106:\tlearn: 0.8844396\ttotal: 14.9s\tremaining: 54.5s\n",
      "107:\tlearn: 0.8849699\ttotal: 15s\tremaining: 54.4s\n",
      "108:\tlearn: 0.8856898\ttotal: 15.1s\tremaining: 54.1s\n",
      "109:\tlearn: 0.8861956\ttotal: 15.2s\tremaining: 53.9s\n",
      "110:\tlearn: 0.8868513\ttotal: 15.3s\tremaining: 53.6s\n",
      "111:\tlearn: 0.8879351\ttotal: 15.4s\tremaining: 53.4s\n",
      "112:\tlearn: 0.8883194\ttotal: 15.5s\tremaining: 53.1s\n",
      "113:\tlearn: 0.8893582\ttotal: 15.6s\tremaining: 52.9s\n",
      "114:\tlearn: 0.8897479\ttotal: 15.7s\tremaining: 52.7s\n",
      "115:\tlearn: 0.8908364\ttotal: 15.9s\tremaining: 52.5s\n",
      "116:\tlearn: 0.8913439\ttotal: 16s\tremaining: 52.3s\n",
      "117:\tlearn: 0.8922710\ttotal: 16.1s\tremaining: 52s\n",
      "118:\tlearn: 0.8929489\ttotal: 16.2s\tremaining: 51.8s\n",
      "119:\tlearn: 0.8936056\ttotal: 16.3s\tremaining: 51.6s\n",
      "120:\tlearn: 0.8940210\ttotal: 16.4s\tremaining: 51.5s\n",
      "121:\tlearn: 0.8949872\ttotal: 16.5s\tremaining: 51.2s\n",
      "122:\tlearn: 0.8956332\ttotal: 16.6s\tremaining: 51s\n",
      "123:\tlearn: 0.8958844\ttotal: 16.8s\tremaining: 50.9s\n",
      "124:\tlearn: 0.8964460\ttotal: 16.9s\tremaining: 50.7s\n",
      "125:\tlearn: 0.8968083\ttotal: 17s\tremaining: 50.6s\n",
      "126:\tlearn: 0.8975592\ttotal: 17.2s\tremaining: 50.4s\n",
      "127:\tlearn: 0.8981728\ttotal: 17.3s\tremaining: 50.3s\n",
      "128:\tlearn: 0.8985322\ttotal: 17.4s\tremaining: 50.2s\n",
      "129:\tlearn: 0.8992544\ttotal: 17.6s\tremaining: 50.1s\n",
      "130:\tlearn: 0.8993703\ttotal: 17.8s\tremaining: 50s\n",
      "131:\tlearn: 0.8996890\ttotal: 17.9s\tremaining: 50s\n",
      "132:\tlearn: 0.9004226\ttotal: 18s\tremaining: 49.8s\n",
      "133:\tlearn: 0.9008817\ttotal: 18.2s\tremaining: 49.7s\n",
      "134:\tlearn: 0.9016418\ttotal: 18.3s\tremaining: 49.6s\n",
      "135:\tlearn: 0.9019178\ttotal: 18.5s\tremaining: 49.6s\n",
      "136:\tlearn: 0.9024746\ttotal: 18.7s\tremaining: 49.6s\n",
      "137:\tlearn: 0.9027661\ttotal: 18.9s\tremaining: 49.7s\n",
      "138:\tlearn: 0.9034694\ttotal: 19.2s\tremaining: 49.8s\n",
      "139:\tlearn: 0.9037921\ttotal: 19.3s\tremaining: 49.6s\n",
      "140:\tlearn: 0.9040476\ttotal: 19.4s\tremaining: 49.4s\n",
      "141:\tlearn: 0.9042135\ttotal: 19.5s\tremaining: 49.2s\n",
      "142:\tlearn: 0.9043209\ttotal: 19.6s\tremaining: 49s\n",
      "143:\tlearn: 0.9048222\ttotal: 19.7s\tremaining: 48.8s\n",
      "144:\tlearn: 0.9048685\ttotal: 19.9s\tremaining: 48.6s\n",
      "145:\tlearn: 0.9050307\ttotal: 20s\tremaining: 48.4s\n",
      "146:\tlearn: 0.9051026\ttotal: 20.1s\tremaining: 48.2s\n",
      "147:\tlearn: 0.9051359\ttotal: 20.2s\tremaining: 48s\n",
      "148:\tlearn: 0.9053565\ttotal: 20.3s\tremaining: 47.8s\n",
      "149:\tlearn: 0.9056710\ttotal: 20.4s\tremaining: 47.6s\n",
      "150:\tlearn: 0.9057661\ttotal: 20.5s\tremaining: 47.4s\n",
      "151:\tlearn: 0.9061911\ttotal: 20.6s\tremaining: 47.1s\n",
      "152:\tlearn: 0.9064477\ttotal: 20.7s\tremaining: 47s\n",
      "153:\tlearn: 0.9067062\ttotal: 20.8s\tremaining: 46.8s\n",
      "154:\tlearn: 0.9071324\ttotal: 20.9s\tremaining: 46.6s\n",
      "155:\tlearn: 0.9076836\ttotal: 21s\tremaining: 46.4s\n",
      "156:\tlearn: 0.9080077\ttotal: 21.2s\tremaining: 46.2s\n",
      "157:\tlearn: 0.9082981\ttotal: 21.3s\tremaining: 46s\n",
      "158:\tlearn: 0.9087455\ttotal: 21.4s\tremaining: 45.9s\n",
      "159:\tlearn: 0.9089310\ttotal: 21.5s\tremaining: 45.6s\n",
      "160:\tlearn: 0.9092848\ttotal: 21.6s\tremaining: 45.5s\n",
      "161:\tlearn: 0.9097972\ttotal: 21.7s\tremaining: 45.3s\n",
      "162:\tlearn: 0.9100069\ttotal: 21.8s\tremaining: 45s\n"
     ]
    },
    {
     "name": "stdout",
     "output_type": "stream",
     "text": [
      "163:\tlearn: 0.9104044\ttotal: 21.9s\tremaining: 44.9s\n",
      "164:\tlearn: 0.9106634\ttotal: 22s\tremaining: 44.7s\n",
      "165:\tlearn: 0.9108486\ttotal: 22.1s\tremaining: 44.5s\n",
      "166:\tlearn: 0.9110047\ttotal: 22.2s\tremaining: 44.3s\n",
      "167:\tlearn: 0.9111812\ttotal: 22.3s\tremaining: 44.1s\n",
      "168:\tlearn: 0.9115141\ttotal: 22.4s\tremaining: 43.9s\n",
      "169:\tlearn: 0.9118644\ttotal: 22.5s\tremaining: 43.7s\n",
      "170:\tlearn: 0.9123111\ttotal: 22.6s\tremaining: 43.6s\n",
      "171:\tlearn: 0.9126440\ttotal: 22.8s\tremaining: 43.4s\n",
      "172:\tlearn: 0.9127812\ttotal: 22.9s\tremaining: 43.2s\n",
      "173:\tlearn: 0.9131282\ttotal: 23s\tremaining: 43s\n",
      "174:\tlearn: 0.9136205\ttotal: 23.1s\tremaining: 42.8s\n",
      "175:\tlearn: 0.9139019\ttotal: 23.2s\tremaining: 42.7s\n",
      "176:\tlearn: 0.9139201\ttotal: 23.3s\tremaining: 42.5s\n",
      "177:\tlearn: 0.9139979\ttotal: 23.3s\tremaining: 42.2s\n",
      "178:\tlearn: 0.9143706\ttotal: 23.4s\tremaining: 42s\n",
      "179:\tlearn: 0.9144936\ttotal: 23.5s\tremaining: 41.9s\n",
      "180:\tlearn: 0.9145174\ttotal: 23.6s\tremaining: 41.6s\n",
      "181:\tlearn: 0.9151612\ttotal: 23.7s\tremaining: 41.4s\n",
      "182:\tlearn: 0.9156752\ttotal: 23.8s\tremaining: 41.3s\n",
      "183:\tlearn: 0.9158735\ttotal: 23.9s\tremaining: 41.1s\n",
      "184:\tlearn: 0.9160711\ttotal: 24s\tremaining: 40.9s\n",
      "185:\tlearn: 0.9164321\ttotal: 24.1s\tremaining: 40.7s\n",
      "186:\tlearn: 0.9165544\ttotal: 24.2s\tremaining: 40.5s\n",
      "187:\tlearn: 0.9166565\ttotal: 24.3s\tremaining: 40.4s\n",
      "188:\tlearn: 0.9168904\ttotal: 24.4s\tremaining: 40.2s\n",
      "189:\tlearn: 0.9174792\ttotal: 24.5s\tremaining: 40s\n",
      "190:\tlearn: 0.9176817\ttotal: 24.6s\tremaining: 39.9s\n",
      "191:\tlearn: 0.9176908\ttotal: 24.7s\tremaining: 39.7s\n",
      "192:\tlearn: 0.9177894\ttotal: 24.9s\tremaining: 39.5s\n",
      "193:\tlearn: 0.9179051\ttotal: 25s\tremaining: 39.4s\n",
      "194:\tlearn: 0.9181400\ttotal: 25.1s\tremaining: 39.2s\n",
      "195:\tlearn: 0.9183699\ttotal: 25.2s\tremaining: 39s\n",
      "196:\tlearn: 0.9185223\ttotal: 25.3s\tremaining: 38.9s\n",
      "197:\tlearn: 0.9187568\ttotal: 25.4s\tremaining: 38.7s\n",
      "198:\tlearn: 0.9188803\ttotal: 25.5s\tremaining: 38.5s\n",
      "199:\tlearn: 0.9189010\ttotal: 25.6s\tremaining: 38.4s\n",
      "200:\tlearn: 0.9189783\ttotal: 25.7s\tremaining: 38.2s\n",
      "201:\tlearn: 0.9190716\ttotal: 25.8s\tremaining: 38.1s\n",
      "202:\tlearn: 0.9193219\ttotal: 25.9s\tremaining: 37.9s\n",
      "203:\tlearn: 0.9195168\ttotal: 26s\tremaining: 37.8s\n",
      "204:\tlearn: 0.9197529\ttotal: 26.1s\tremaining: 37.6s\n",
      "205:\tlearn: 0.9198385\ttotal: 26.2s\tremaining: 37.5s\n",
      "206:\tlearn: 0.9199572\ttotal: 26.3s\tremaining: 37.3s\n",
      "207:\tlearn: 0.9203101\ttotal: 26.4s\tremaining: 37.1s\n",
      "208:\tlearn: 0.9203631\ttotal: 26.6s\tremaining: 37s\n",
      "209:\tlearn: 0.9204831\ttotal: 26.7s\tremaining: 36.8s\n",
      "210:\tlearn: 0.9205115\ttotal: 26.8s\tremaining: 36.7s\n",
      "211:\tlearn: 0.9205900\ttotal: 26.9s\tremaining: 36.5s\n",
      "212:\tlearn: 0.9207468\ttotal: 27s\tremaining: 36.4s\n",
      "213:\tlearn: 0.9209076\ttotal: 27.1s\tremaining: 36.2s\n",
      "214:\tlearn: 0.9209212\ttotal: 27.2s\tremaining: 36s\n",
      "215:\tlearn: 0.9209693\ttotal: 27.3s\tremaining: 35.9s\n",
      "216:\tlearn: 0.9209912\ttotal: 27.4s\tremaining: 35.7s\n",
      "217:\tlearn: 0.9210632\ttotal: 27.5s\tremaining: 35.6s\n",
      "218:\tlearn: 0.9210812\ttotal: 27.6s\tremaining: 35.4s\n",
      "219:\tlearn: 0.9211907\ttotal: 27.7s\tremaining: 35.2s\n",
      "220:\tlearn: 0.9212431\ttotal: 27.8s\tremaining: 35.1s\n",
      "221:\tlearn: 0.9212571\ttotal: 27.9s\tremaining: 35s\n",
      "222:\tlearn: 0.9212784\ttotal: 28s\tremaining: 34.8s\n",
      "223:\tlearn: 0.9212909\ttotal: 28.1s\tremaining: 34.7s\n",
      "224:\tlearn: 0.9213224\ttotal: 28.2s\tremaining: 34.5s\n",
      "225:\tlearn: 0.9213395\ttotal: 28.3s\tremaining: 34.4s\n",
      "226:\tlearn: 0.9213826\ttotal: 28.4s\tremaining: 34.2s\n",
      "227:\tlearn: 0.9214536\ttotal: 28.5s\tremaining: 34.1s\n",
      "228:\tlearn: 0.9216144\ttotal: 28.6s\tremaining: 33.9s\n",
      "229:\tlearn: 0.9219034\ttotal: 28.8s\tremaining: 33.8s\n",
      "230:\tlearn: 0.9219860\ttotal: 28.9s\tremaining: 33.6s\n",
      "231:\tlearn: 0.9220475\ttotal: 29s\tremaining: 33.5s\n",
      "232:\tlearn: 0.9221935\ttotal: 29.1s\tremaining: 33.3s\n",
      "233:\tlearn: 0.9222028\ttotal: 29.2s\tremaining: 33.2s\n",
      "234:\tlearn: 0.9226990\ttotal: 29.3s\tremaining: 33s\n",
      "235:\tlearn: 0.9227271\ttotal: 29.4s\tremaining: 32.9s\n",
      "236:\tlearn: 0.9227906\ttotal: 29.5s\tremaining: 32.7s\n",
      "237:\tlearn: 0.9233794\ttotal: 29.6s\tremaining: 32.6s\n",
      "238:\tlearn: 0.9234433\ttotal: 29.7s\tremaining: 32.5s\n",
      "239:\tlearn: 0.9236110\ttotal: 29.8s\tremaining: 32.3s\n",
      "240:\tlearn: 0.9237236\ttotal: 30s\tremaining: 32.2s\n",
      "241:\tlearn: 0.9237794\ttotal: 30.1s\tremaining: 32s\n",
      "242:\tlearn: 0.9237912\ttotal: 30.2s\tremaining: 31.9s\n",
      "243:\tlearn: 0.9239156\ttotal: 30.3s\tremaining: 31.8s\n",
      "244:\tlearn: 0.9244023\ttotal: 30.4s\tremaining: 31.6s\n",
      "245:\tlearn: 0.9244453\ttotal: 30.5s\tremaining: 31.5s\n",
      "246:\tlearn: 0.9245255\ttotal: 30.6s\tremaining: 31.3s\n",
      "247:\tlearn: 0.9247119\ttotal: 30.7s\tremaining: 31.2s\n",
      "248:\tlearn: 0.9248380\ttotal: 30.8s\tremaining: 31s\n",
      "249:\tlearn: 0.9249273\ttotal: 30.9s\tremaining: 30.9s\n",
      "250:\tlearn: 0.9250530\ttotal: 31s\tremaining: 30.8s\n",
      "251:\tlearn: 0.9250995\ttotal: 31.1s\tremaining: 30.6s\n",
      "252:\tlearn: 0.9251196\ttotal: 31.2s\tremaining: 30.5s\n",
      "253:\tlearn: 0.9252078\ttotal: 31.3s\tremaining: 30.3s\n",
      "254:\tlearn: 0.9254263\ttotal: 31.4s\tremaining: 30.2s\n",
      "255:\tlearn: 0.9254420\ttotal: 31.5s\tremaining: 30s\n",
      "256:\tlearn: 0.9254517\ttotal: 31.6s\tremaining: 29.9s\n",
      "257:\tlearn: 0.9254848\ttotal: 31.7s\tremaining: 29.8s\n",
      "258:\tlearn: 0.9255057\ttotal: 31.8s\tremaining: 29.6s\n",
      "259:\tlearn: 0.9255430\ttotal: 31.9s\tremaining: 29.5s\n",
      "260:\tlearn: 0.9255704\ttotal: 32s\tremaining: 29.3s\n",
      "261:\tlearn: 0.9258365\ttotal: 32.1s\tremaining: 29.2s\n",
      "262:\tlearn: 0.9258761\ttotal: 32.2s\tremaining: 29s\n",
      "263:\tlearn: 0.9260526\ttotal: 32.3s\tremaining: 28.9s\n",
      "264:\tlearn: 0.9262049\ttotal: 32.4s\tremaining: 28.8s\n",
      "265:\tlearn: 0.9267152\ttotal: 32.6s\tremaining: 28.7s\n",
      "266:\tlearn: 0.9267526\ttotal: 32.7s\tremaining: 28.5s\n",
      "267:\tlearn: 0.9267601\ttotal: 32.8s\tremaining: 28.4s\n",
      "268:\tlearn: 0.9267723\ttotal: 33s\tremaining: 28.3s\n",
      "269:\tlearn: 0.9270177\ttotal: 33.1s\tremaining: 28.2s\n",
      "270:\tlearn: 0.9270310\ttotal: 33.2s\tremaining: 28.1s\n",
      "271:\tlearn: 0.9270378\ttotal: 33.3s\tremaining: 27.9s\n",
      "272:\tlearn: 0.9271161\ttotal: 33.5s\tremaining: 27.8s\n",
      "273:\tlearn: 0.9271553\ttotal: 33.6s\tremaining: 27.7s\n",
      "274:\tlearn: 0.9272225\ttotal: 33.7s\tremaining: 27.6s\n",
      "275:\tlearn: 0.9272272\ttotal: 33.8s\tremaining: 27.5s\n",
      "276:\tlearn: 0.9274737\ttotal: 34s\tremaining: 27.4s\n",
      "277:\tlearn: 0.9274825\ttotal: 34.1s\tremaining: 27.2s\n",
      "278:\tlearn: 0.9275187\ttotal: 34.2s\tremaining: 27.1s\n",
      "279:\tlearn: 0.9275568\ttotal: 34.3s\tremaining: 27s\n",
      "280:\tlearn: 0.9275875\ttotal: 34.5s\tremaining: 26.9s\n",
      "281:\tlearn: 0.9276164\ttotal: 34.6s\tremaining: 26.7s\n",
      "282:\tlearn: 0.9277264\ttotal: 34.7s\tremaining: 26.6s\n",
      "283:\tlearn: 0.9277579\ttotal: 34.8s\tremaining: 26.5s\n",
      "284:\tlearn: 0.9278270\ttotal: 34.9s\tremaining: 26.3s\n",
      "285:\tlearn: 0.9279189\ttotal: 35s\tremaining: 26.2s\n",
      "286:\tlearn: 0.9279395\ttotal: 35.1s\tremaining: 26.1s\n",
      "287:\tlearn: 0.9280042\ttotal: 35.2s\tremaining: 25.9s\n",
      "288:\tlearn: 0.9280865\ttotal: 35.3s\tremaining: 25.8s\n",
      "289:\tlearn: 0.9280917\ttotal: 35.4s\tremaining: 25.7s\n",
      "290:\tlearn: 0.9281353\ttotal: 35.5s\tremaining: 25.5s\n",
      "291:\tlearn: 0.9281494\ttotal: 35.6s\tremaining: 25.4s\n",
      "292:\tlearn: 0.9281743\ttotal: 35.8s\tremaining: 25.3s\n",
      "293:\tlearn: 0.9282106\ttotal: 35.9s\tremaining: 25.1s\n",
      "294:\tlearn: 0.9282837\ttotal: 36s\tremaining: 25s\n",
      "295:\tlearn: 0.9283411\ttotal: 36.1s\tremaining: 24.9s\n",
      "296:\tlearn: 0.9288637\ttotal: 36.2s\tremaining: 24.7s\n",
      "297:\tlearn: 0.9289411\ttotal: 36.3s\tremaining: 24.6s\n",
      "298:\tlearn: 0.9290041\ttotal: 36.4s\tremaining: 24.5s\n",
      "299:\tlearn: 0.9291271\ttotal: 36.5s\tremaining: 24.3s\n",
      "300:\tlearn: 0.9291457\ttotal: 36.6s\tremaining: 24.2s\n",
      "301:\tlearn: 0.9291504\ttotal: 36.7s\tremaining: 24.1s\n",
      "302:\tlearn: 0.9292304\ttotal: 36.8s\tremaining: 23.9s\n",
      "303:\tlearn: 0.9292763\ttotal: 36.9s\tremaining: 23.8s\n",
      "304:\tlearn: 0.9292807\ttotal: 37s\tremaining: 23.7s\n",
      "305:\tlearn: 0.9293242\ttotal: 37.1s\tremaining: 23.5s\n",
      "306:\tlearn: 0.9293285\ttotal: 37.2s\tremaining: 23.4s\n",
      "307:\tlearn: 0.9294700\ttotal: 37.3s\tremaining: 23.3s\n",
      "308:\tlearn: 0.9295056\ttotal: 37.4s\tremaining: 23.1s\n",
      "309:\tlearn: 0.9295535\ttotal: 37.5s\tremaining: 23s\n",
      "310:\tlearn: 0.9295740\ttotal: 37.7s\tremaining: 22.9s\n",
      "311:\tlearn: 0.9296212\ttotal: 37.8s\tremaining: 22.8s\n",
      "312:\tlearn: 0.9296352\ttotal: 37.9s\tremaining: 22.6s\n",
      "313:\tlearn: 0.9298417\ttotal: 38s\tremaining: 22.5s\n",
      "314:\tlearn: 0.9298832\ttotal: 38.1s\tremaining: 22.4s\n",
      "315:\tlearn: 0.9298887\ttotal: 38.2s\tremaining: 22.2s\n",
      "316:\tlearn: 0.9299123\ttotal: 38.3s\tremaining: 22.1s\n",
      "317:\tlearn: 0.9299791\ttotal: 38.4s\tremaining: 22s\n",
      "318:\tlearn: 0.9299964\ttotal: 38.5s\tremaining: 21.8s\n",
      "319:\tlearn: 0.9300109\ttotal: 38.6s\tremaining: 21.7s\n",
      "320:\tlearn: 0.9301913\ttotal: 38.7s\tremaining: 21.6s\n",
      "321:\tlearn: 0.9302171\ttotal: 38.8s\tremaining: 21.5s\n",
      "322:\tlearn: 0.9304394\ttotal: 38.9s\tremaining: 21.3s\n"
     ]
    },
    {
     "name": "stdout",
     "output_type": "stream",
     "text": [
      "323:\tlearn: 0.9305458\ttotal: 39s\tremaining: 21.2s\n",
      "324:\tlearn: 0.9305488\ttotal: 39.1s\tremaining: 21.1s\n",
      "325:\tlearn: 0.9306745\ttotal: 39.3s\tremaining: 21s\n",
      "326:\tlearn: 0.9307124\ttotal: 39.4s\tremaining: 20.8s\n",
      "327:\tlearn: 0.9307273\ttotal: 39.5s\tremaining: 20.7s\n",
      "328:\tlearn: 0.9314799\ttotal: 39.6s\tremaining: 20.6s\n",
      "329:\tlearn: 0.9314953\ttotal: 39.7s\tremaining: 20.5s\n",
      "330:\tlearn: 0.9315257\ttotal: 39.8s\tremaining: 20.3s\n",
      "331:\tlearn: 0.9315444\ttotal: 39.9s\tremaining: 20.2s\n",
      "332:\tlearn: 0.9315692\ttotal: 40s\tremaining: 20.1s\n",
      "333:\tlearn: 0.9316111\ttotal: 40.1s\tremaining: 20s\n",
      "334:\tlearn: 0.9316204\ttotal: 40.2s\tremaining: 19.8s\n",
      "335:\tlearn: 0.9316465\ttotal: 40.4s\tremaining: 19.7s\n",
      "336:\tlearn: 0.9318656\ttotal: 40.5s\tremaining: 19.6s\n",
      "337:\tlearn: 0.9318781\ttotal: 40.6s\tremaining: 19.5s\n",
      "338:\tlearn: 0.9319120\ttotal: 40.7s\tremaining: 19.3s\n",
      "339:\tlearn: 0.9319208\ttotal: 40.8s\tremaining: 19.2s\n",
      "340:\tlearn: 0.9319520\ttotal: 40.9s\tremaining: 19.1s\n",
      "341:\tlearn: 0.9319544\ttotal: 41s\tremaining: 18.9s\n",
      "342:\tlearn: 0.9320005\ttotal: 41.1s\tremaining: 18.8s\n",
      "343:\tlearn: 0.9320129\ttotal: 41.2s\tremaining: 18.7s\n",
      "344:\tlearn: 0.9320369\ttotal: 41.3s\tremaining: 18.6s\n",
      "345:\tlearn: 0.9320394\ttotal: 41.4s\tremaining: 18.4s\n",
      "346:\tlearn: 0.9320594\ttotal: 41.5s\tremaining: 18.3s\n",
      "347:\tlearn: 0.9322826\ttotal: 41.6s\tremaining: 18.2s\n",
      "348:\tlearn: 0.9322970\ttotal: 41.7s\tremaining: 18.1s\n",
      "349:\tlearn: 0.9323416\ttotal: 41.8s\tremaining: 17.9s\n",
      "350:\tlearn: 0.9327852\ttotal: 41.9s\tremaining: 17.8s\n",
      "351:\tlearn: 0.9328026\ttotal: 42s\tremaining: 17.7s\n",
      "352:\tlearn: 0.9328074\ttotal: 42.1s\tremaining: 17.5s\n",
      "353:\tlearn: 0.9328252\ttotal: 42.2s\tremaining: 17.4s\n",
      "354:\tlearn: 0.9328387\ttotal: 42.3s\tremaining: 17.3s\n",
      "355:\tlearn: 0.9328659\ttotal: 42.5s\tremaining: 17.2s\n",
      "356:\tlearn: 0.9328831\ttotal: 42.6s\tremaining: 17.1s\n",
      "357:\tlearn: 0.9330474\ttotal: 42.7s\tremaining: 16.9s\n",
      "358:\tlearn: 0.9333481\ttotal: 42.8s\tremaining: 16.8s\n",
      "359:\tlearn: 0.9333994\ttotal: 42.9s\tremaining: 16.7s\n",
      "360:\tlearn: 0.9334298\ttotal: 43s\tremaining: 16.6s\n",
      "361:\tlearn: 0.9334362\ttotal: 43.1s\tremaining: 16.4s\n",
      "362:\tlearn: 0.9335011\ttotal: 43.2s\tremaining: 16.3s\n",
      "363:\tlearn: 0.9335077\ttotal: 43.3s\tremaining: 16.2s\n",
      "364:\tlearn: 0.9335814\ttotal: 43.4s\tremaining: 16s\n",
      "365:\tlearn: 0.9335854\ttotal: 43.5s\tremaining: 15.9s\n",
      "366:\tlearn: 0.9335924\ttotal: 43.6s\tremaining: 15.8s\n",
      "367:\tlearn: 0.9335977\ttotal: 43.7s\tremaining: 15.7s\n",
      "368:\tlearn: 0.9336058\ttotal: 43.8s\tremaining: 15.5s\n",
      "369:\tlearn: 0.9337509\ttotal: 43.9s\tremaining: 15.4s\n",
      "370:\tlearn: 0.9337590\ttotal: 44s\tremaining: 15.3s\n",
      "371:\tlearn: 0.9340944\ttotal: 44.1s\tremaining: 15.2s\n",
      "372:\tlearn: 0.9342645\ttotal: 44.2s\tremaining: 15.1s\n",
      "373:\tlearn: 0.9345194\ttotal: 44.3s\tremaining: 14.9s\n",
      "374:\tlearn: 0.9345281\ttotal: 44.4s\tremaining: 14.8s\n",
      "375:\tlearn: 0.9345604\ttotal: 44.5s\tremaining: 14.7s\n",
      "376:\tlearn: 0.9347403\ttotal: 44.6s\tremaining: 14.6s\n",
      "377:\tlearn: 0.9347459\ttotal: 44.7s\tremaining: 14.4s\n",
      "378:\tlearn: 0.9347515\ttotal: 44.8s\tremaining: 14.3s\n",
      "379:\tlearn: 0.9347562\ttotal: 44.9s\tremaining: 14.2s\n",
      "380:\tlearn: 0.9347573\ttotal: 45s\tremaining: 14.1s\n",
      "381:\tlearn: 0.9347738\ttotal: 45.1s\tremaining: 13.9s\n",
      "382:\tlearn: 0.9349759\ttotal: 45.3s\tremaining: 13.8s\n",
      "383:\tlearn: 0.9350007\ttotal: 45.4s\tremaining: 13.7s\n",
      "384:\tlearn: 0.9350066\ttotal: 45.5s\tremaining: 13.6s\n",
      "385:\tlearn: 0.9350130\ttotal: 45.6s\tremaining: 13.5s\n",
      "386:\tlearn: 0.9350197\ttotal: 45.7s\tremaining: 13.4s\n",
      "387:\tlearn: 0.9350404\ttotal: 45.8s\tremaining: 13.2s\n",
      "388:\tlearn: 0.9350415\ttotal: 45.9s\tremaining: 13.1s\n",
      "389:\tlearn: 0.9350466\ttotal: 46.1s\tremaining: 13s\n",
      "390:\tlearn: 0.9350608\ttotal: 46.2s\tremaining: 12.9s\n",
      "391:\tlearn: 0.9350671\ttotal: 46.3s\tremaining: 12.8s\n",
      "392:\tlearn: 0.9350767\ttotal: 46.4s\tremaining: 12.6s\n",
      "393:\tlearn: 0.9351048\ttotal: 46.5s\tremaining: 12.5s\n",
      "394:\tlearn: 0.9351182\ttotal: 46.6s\tremaining: 12.4s\n",
      "395:\tlearn: 0.9351227\ttotal: 46.7s\tremaining: 12.3s\n",
      "396:\tlearn: 0.9351271\ttotal: 46.8s\tremaining: 12.1s\n",
      "397:\tlearn: 0.9351384\ttotal: 46.9s\tremaining: 12s\n",
      "398:\tlearn: 0.9351551\ttotal: 47s\tremaining: 11.9s\n",
      "399:\tlearn: 0.9351711\ttotal: 47.1s\tremaining: 11.8s\n",
      "400:\tlearn: 0.9351806\ttotal: 47.2s\tremaining: 11.7s\n",
      "401:\tlearn: 0.9352090\ttotal: 47.3s\tremaining: 11.5s\n",
      "402:\tlearn: 0.9352191\ttotal: 47.4s\tremaining: 11.4s\n",
      "403:\tlearn: 0.9352264\ttotal: 47.5s\tremaining: 11.3s\n",
      "404:\tlearn: 0.9352288\ttotal: 47.6s\tremaining: 11.2s\n",
      "405:\tlearn: 0.9352343\ttotal: 47.7s\tremaining: 11.1s\n",
      "406:\tlearn: 0.9352422\ttotal: 47.8s\tremaining: 10.9s\n",
      "407:\tlearn: 0.9356874\ttotal: 47.9s\tremaining: 10.8s\n",
      "408:\tlearn: 0.9360921\ttotal: 48.1s\tremaining: 10.7s\n",
      "409:\tlearn: 0.9362228\ttotal: 48.2s\tremaining: 10.6s\n",
      "410:\tlearn: 0.9362251\ttotal: 48.3s\tremaining: 10.5s\n",
      "411:\tlearn: 0.9362365\ttotal: 48.4s\tremaining: 10.3s\n",
      "412:\tlearn: 0.9363277\ttotal: 48.6s\tremaining: 10.2s\n",
      "413:\tlearn: 0.9363296\ttotal: 48.7s\tremaining: 10.1s\n",
      "414:\tlearn: 0.9363328\ttotal: 48.8s\tremaining: 9.99s\n",
      "415:\tlearn: 0.9365031\ttotal: 48.9s\tremaining: 9.88s\n",
      "416:\tlearn: 0.9365109\ttotal: 49s\tremaining: 9.76s\n",
      "417:\tlearn: 0.9365212\ttotal: 49.2s\tremaining: 9.64s\n",
      "418:\tlearn: 0.9365233\ttotal: 49.3s\tremaining: 9.53s\n",
      "419:\tlearn: 0.9365312\ttotal: 49.4s\tremaining: 9.41s\n",
      "420:\tlearn: 0.9365352\ttotal: 49.6s\tremaining: 9.3s\n",
      "421:\tlearn: 0.9365875\ttotal: 49.7s\tremaining: 9.19s\n",
      "422:\tlearn: 0.9366789\ttotal: 49.8s\tremaining: 9.07s\n",
      "423:\tlearn: 0.9366797\ttotal: 50s\tremaining: 8.95s\n",
      "424:\tlearn: 0.9367118\ttotal: 50.1s\tremaining: 8.84s\n",
      "425:\tlearn: 0.9367138\ttotal: 50.2s\tremaining: 8.72s\n",
      "426:\tlearn: 0.9367207\ttotal: 50.3s\tremaining: 8.6s\n",
      "427:\tlearn: 0.9367837\ttotal: 50.4s\tremaining: 8.48s\n",
      "428:\tlearn: 0.9367908\ttotal: 50.5s\tremaining: 8.37s\n",
      "429:\tlearn: 0.9367943\ttotal: 50.6s\tremaining: 8.24s\n",
      "430:\tlearn: 0.9368000\ttotal: 50.8s\tremaining: 8.13s\n",
      "431:\tlearn: 0.9368217\ttotal: 50.9s\tremaining: 8s\n",
      "432:\tlearn: 0.9368245\ttotal: 51s\tremaining: 7.89s\n",
      "433:\tlearn: 0.9368289\ttotal: 51.1s\tremaining: 7.77s\n",
      "434:\tlearn: 0.9368340\ttotal: 51.2s\tremaining: 7.65s\n",
      "435:\tlearn: 0.9368894\ttotal: 51.3s\tremaining: 7.53s\n",
      "436:\tlearn: 0.9368958\ttotal: 51.4s\tremaining: 7.41s\n",
      "437:\tlearn: 0.9369010\ttotal: 51.5s\tremaining: 7.29s\n",
      "438:\tlearn: 0.9369073\ttotal: 51.6s\tremaining: 7.17s\n",
      "439:\tlearn: 0.9369126\ttotal: 51.7s\tremaining: 7.05s\n",
      "440:\tlearn: 0.9369172\ttotal: 51.8s\tremaining: 6.93s\n",
      "441:\tlearn: 0.9369384\ttotal: 51.9s\tremaining: 6.81s\n",
      "442:\tlearn: 0.9369433\ttotal: 52s\tremaining: 6.69s\n",
      "443:\tlearn: 0.9369641\ttotal: 52.1s\tremaining: 6.57s\n",
      "444:\tlearn: 0.9369668\ttotal: 52.2s\tremaining: 6.45s\n",
      "445:\tlearn: 0.9369690\ttotal: 52.3s\tremaining: 6.33s\n",
      "446:\tlearn: 0.9369972\ttotal: 52.4s\tremaining: 6.22s\n",
      "447:\tlearn: 0.9370369\ttotal: 52.5s\tremaining: 6.1s\n",
      "448:\tlearn: 0.9370405\ttotal: 52.7s\tremaining: 5.98s\n",
      "449:\tlearn: 0.9370445\ttotal: 52.8s\tremaining: 5.86s\n",
      "450:\tlearn: 0.9370497\ttotal: 52.9s\tremaining: 5.74s\n",
      "451:\tlearn: 0.9370617\ttotal: 53s\tremaining: 5.62s\n",
      "452:\tlearn: 0.9370673\ttotal: 53.1s\tremaining: 5.5s\n",
      "453:\tlearn: 0.9370721\ttotal: 53.2s\tremaining: 5.39s\n",
      "454:\tlearn: 0.9371059\ttotal: 53.3s\tremaining: 5.27s\n",
      "455:\tlearn: 0.9371111\ttotal: 53.4s\tremaining: 5.15s\n",
      "456:\tlearn: 0.9371144\ttotal: 53.5s\tremaining: 5.03s\n",
      "457:\tlearn: 0.9372050\ttotal: 53.6s\tremaining: 4.91s\n",
      "458:\tlearn: 0.9372079\ttotal: 53.7s\tremaining: 4.8s\n",
      "459:\tlearn: 0.9372517\ttotal: 53.8s\tremaining: 4.68s\n",
      "460:\tlearn: 0.9372868\ttotal: 53.9s\tremaining: 4.56s\n",
      "461:\tlearn: 0.9372918\ttotal: 54s\tremaining: 4.44s\n",
      "462:\tlearn: 0.9372974\ttotal: 54.1s\tremaining: 4.32s\n",
      "463:\tlearn: 0.9373016\ttotal: 54.2s\tremaining: 4.21s\n",
      "464:\tlearn: 0.9373034\ttotal: 54.3s\tremaining: 4.09s\n",
      "465:\tlearn: 0.9373038\ttotal: 54.4s\tremaining: 3.97s\n",
      "466:\tlearn: 0.9373163\ttotal: 54.5s\tremaining: 3.85s\n",
      "467:\tlearn: 0.9373393\ttotal: 54.6s\tremaining: 3.74s\n",
      "468:\tlearn: 0.9373441\ttotal: 54.7s\tremaining: 3.62s\n",
      "469:\tlearn: 0.9373507\ttotal: 54.8s\tremaining: 3.5s\n",
      "470:\tlearn: 0.9373772\ttotal: 55s\tremaining: 3.38s\n",
      "471:\tlearn: 0.9373854\ttotal: 55.1s\tremaining: 3.27s\n",
      "472:\tlearn: 0.9373858\ttotal: 55.2s\tremaining: 3.15s\n",
      "473:\tlearn: 0.9373885\ttotal: 55.3s\tremaining: 3.03s\n",
      "474:\tlearn: 0.9373907\ttotal: 55.4s\tremaining: 2.92s\n",
      "475:\tlearn: 0.9373997\ttotal: 55.5s\tremaining: 2.8s\n",
      "476:\tlearn: 0.9374062\ttotal: 55.6s\tremaining: 2.68s\n",
      "477:\tlearn: 0.9374158\ttotal: 55.7s\tremaining: 2.56s\n",
      "478:\tlearn: 0.9374175\ttotal: 55.8s\tremaining: 2.45s\n",
      "479:\tlearn: 0.9375099\ttotal: 55.9s\tremaining: 2.33s\n",
      "480:\tlearn: 0.9375113\ttotal: 56s\tremaining: 2.21s\n",
      "481:\tlearn: 0.9375137\ttotal: 56.1s\tremaining: 2.1s\n",
      "482:\tlearn: 0.9375148\ttotal: 56.2s\tremaining: 1.98s\n"
     ]
    },
    {
     "name": "stdout",
     "output_type": "stream",
     "text": [
      "483:\tlearn: 0.9375326\ttotal: 56.4s\tremaining: 1.86s\n",
      "484:\tlearn: 0.9375423\ttotal: 56.5s\tremaining: 1.75s\n",
      "485:\tlearn: 0.9375466\ttotal: 56.6s\tremaining: 1.63s\n",
      "486:\tlearn: 0.9375514\ttotal: 56.7s\tremaining: 1.51s\n",
      "487:\tlearn: 0.9375518\ttotal: 56.8s\tremaining: 1.4s\n",
      "488:\tlearn: 0.9375543\ttotal: 56.9s\tremaining: 1.28s\n",
      "489:\tlearn: 0.9375566\ttotal: 57s\tremaining: 1.16s\n",
      "490:\tlearn: 0.9375592\ttotal: 57.1s\tremaining: 1.05s\n",
      "491:\tlearn: 0.9375713\ttotal: 57.2s\tremaining: 930ms\n",
      "492:\tlearn: 0.9375777\ttotal: 57.3s\tremaining: 814ms\n",
      "493:\tlearn: 0.9375914\ttotal: 57.4s\tremaining: 697ms\n",
      "494:\tlearn: 0.9375920\ttotal: 57.5s\tremaining: 581ms\n",
      "495:\tlearn: 0.9375963\ttotal: 57.6s\tremaining: 465ms\n",
      "496:\tlearn: 0.9376344\ttotal: 57.7s\tremaining: 348ms\n",
      "497:\tlearn: 0.9376353\ttotal: 57.8s\tremaining: 232ms\n",
      "498:\tlearn: 0.9376391\ttotal: 57.9s\tremaining: 116ms\n",
      "499:\tlearn: 0.9376428\ttotal: 58s\tremaining: 0us\n"
     ]
    },
    {
     "data": {
      "text/plain": [
       "<catboost.core.CatBoostRegressor at 0x1f55f3f6a90>"
      ]
     },
     "execution_count": 74,
     "metadata": {},
     "output_type": "execute_result"
    }
   ],
   "source": [
    "model2.fit(train_data2)"
   ]
  },
  {
   "cell_type": "code",
   "execution_count": 76,
   "metadata": {},
   "outputs": [],
   "source": [
    "res = model2.predict(test_data2)"
   ]
  },
  {
   "cell_type": "code",
   "execution_count": 78,
   "metadata": {},
   "outputs": [
    {
     "data": {
      "text/plain": [
       "-0.6423411235746708"
      ]
     },
     "execution_count": 78,
     "metadata": {},
     "output_type": "execute_result"
    }
   ],
   "source": [
    "metrics.r2_score(y_test, res)"
   ]
  },
  {
   "cell_type": "code",
   "execution_count": null,
   "metadata": {},
   "outputs": [],
   "source": []
  },
  {
   "cell_type": "markdown",
   "metadata": {},
   "source": [
    "Модели для ансамблей"
   ]
  },
  {
   "cell_type": "code",
   "execution_count": 54,
   "metadata": {},
   "outputs": [
    {
     "data": {
      "text/plain": [
       "0.8179863828691867"
      ]
     },
     "execution_count": 54,
     "metadata": {},
     "output_type": "execute_result"
    }
   ],
   "source": [
    "linclf = LinearRegression()\n",
    "linclf.fit(X_train, y_train)\n",
    "linclf_res = linclf.predict(X_test)\n",
    "metrics.r2_score(y_test, linclf_res)"
   ]
  },
  {
   "cell_type": "code",
   "execution_count": 55,
   "metadata": {},
   "outputs": [
    {
     "data": {
      "text/plain": [
       "-0.024972991901176522"
      ]
     },
     "execution_count": 55,
     "metadata": {},
     "output_type": "execute_result"
    }
   ],
   "source": [
    "smc_clf = SVR()\n",
    "smc_clf.fit(X_train, y_train)\n",
    "smc_clf_res = smc_clf.predict(X_test)\n",
    "metrics.r2_score(y_test, smc_clf_res)"
   ]
  },
  {
   "cell_type": "code",
   "execution_count": 56,
   "metadata": {},
   "outputs": [
    {
     "data": {
      "text/plain": [
       "0.8862225729262996"
      ]
     },
     "execution_count": 56,
     "metadata": {},
     "output_type": "execute_result"
    }
   ],
   "source": [
    "rndf_clf = RandomForestRegressor()\n",
    "rndf_clf.fit(X_train, y_train)\n",
    "rndf_clf_res = rndf_clf.predict(X_test)\n",
    "metrics.r2_score(y_test, rndf_clf_res)"
   ]
  },
  {
   "cell_type": "code",
   "execution_count": 45,
   "metadata": {},
   "outputs": [],
   "source": [
    "from sklearn.ensemble import VotingClassifier\n",
    "from sklearn.neighbors import KNeighborsClassifier"
   ]
  },
  {
   "cell_type": "code",
   "execution_count": 46,
   "metadata": {},
   "outputs": [],
   "source": [
    "clf1 = KNeighborsClassifier(n_neighbors=7)\n",
    "clf2 = SVC()\n",
    "clf3 = RandomForestClassifier()"
   ]
  },
  {
   "cell_type": "code",
   "execution_count": 50,
   "metadata": {},
   "outputs": [],
   "source": [
    "voit_clf = VotingClassifier(estimators=[ ('knn', clf1), ('svc', clf2),('rf', clf3)], voting='hard')"
   ]
  },
  {
   "cell_type": "code",
   "execution_count": 51,
   "metadata": {},
   "outputs": [
    {
     "data": {
      "text/plain": [
       "VotingClassifier(estimators=[('knn', KNeighborsClassifier(algorithm='auto', leaf_size=30, metric='minkowski',\n",
       "           metric_params=None, n_jobs=None, n_neighbors=7, p=2,\n",
       "           weights='uniform')), ('svc', SVC(C=1.0, cache_size=200, class_weight=None, coef0=0.0,\n",
       "  decision_function_shape='ovr', degree=3, gam...obs=None,\n",
       "            oob_score=False, random_state=None, verbose=0,\n",
       "            warm_start=False))],\n",
       "         flatten_transform=None, n_jobs=None, voting='hard', weights=None)"
      ]
     },
     "execution_count": 51,
     "metadata": {},
     "output_type": "execute_result"
    }
   ],
   "source": [
    "voit_clf.fit(X_train, y_train)"
   ]
  },
  {
   "cell_type": "code",
   "execution_count": 52,
   "metadata": {},
   "outputs": [
    {
     "data": {
      "text/plain": [
       "-0.3031421955898208"
      ]
     },
     "execution_count": 52,
     "metadata": {},
     "output_type": "execute_result"
    }
   ],
   "source": [
    "voit_res = voit_clf.predict(X_test)\n",
    "metrics.r2_score(y_test, voit_res)"
   ]
  },
  {
   "cell_type": "code",
   "execution_count": null,
   "metadata": {},
   "outputs": [],
   "source": []
  },
  {
   "cell_type": "code",
   "execution_count": null,
   "metadata": {},
   "outputs": [],
   "source": []
  },
  {
   "cell_type": "code",
   "execution_count": null,
   "metadata": {},
   "outputs": [],
   "source": []
  },
  {
   "cell_type": "code",
   "execution_count": null,
   "metadata": {},
   "outputs": [],
   "source": []
  },
  {
   "cell_type": "code",
   "execution_count": null,
   "metadata": {},
   "outputs": [],
   "source": []
  },
  {
   "cell_type": "code",
   "execution_count": 12,
   "metadata": {},
   "outputs": [],
   "source": [
    "\n",
    "from sklearn.preprocessing import StandardScaler\n",
    "scaler = StandardScaler()"
   ]
  },
  {
   "cell_type": "code",
   "execution_count": 15,
   "metadata": {},
   "outputs": [],
   "source": [
    "# нормировка\n",
    "def scale(df):\n",
    "    return ((df - df.mean()) / df.std())"
   ]
  },
  {
   "cell_type": "code",
   "execution_count": 16,
   "metadata": {},
   "outputs": [],
   "source": [
    "X = scale(data.drop('SalePrice', axis=1))\n",
    "y = scale(data['SalePrice'])"
   ]
  },
  {
   "cell_type": "code",
   "execution_count": 17,
   "metadata": {},
   "outputs": [],
   "source": [
    "X_train, X_test, y_train, y_test = train_test_split(X, y, test_size=0.4, random_state=42)\n",
    "\n",
    "X_test, X_val, y_test, y_val  = train_test_split(X_test, y_test, test_size=0.5, random_state=42)"
   ]
  },
  {
   "cell_type": "code",
   "execution_count": 29,
   "metadata": {},
   "outputs": [
    {
     "name": "stdout",
     "output_type": "stream",
     "text": [
      "Model1, validate, R2= 0.880048331067863  tets r2 = 0.7206415595130361\n",
      "Model2, validate, R2= 0.8767771408738437  tets r2 = 0.7686229178244182\n"
     ]
    }
   ],
   "source": [
    "regressor = SVR()\n",
    "model = regressor.fit(X_train,y_train)\n",
    "regressor2 = SVR(C = 4)\n",
    "model2 = regressor2.fit(X_train,y_train)\n",
    "\n",
    "predict = model.predict(X_val)\n",
    "predict_t = model.predict(X_test)\n",
    "predict2 = model2.predict(X_val)\n",
    "predict2_t = model2.predict(X_test)\n",
    "print('Model1, validate, R2=',metrics.r2_score(y_val, predict),' tets r2 =',metrics.r2_score(y_test, predict_t))\n",
    "print('Model2, validate, R2=',metrics.r2_score(y_val, predict2),' tets r2 =',metrics.r2_score(y_test, predict2_t))"
   ]
  },
  {
   "cell_type": "code",
   "execution_count": 19,
   "metadata": {},
   "outputs": [
    {
     "data": {
      "text/plain": [
       "0.8800547431944821"
      ]
     },
     "execution_count": 19,
     "metadata": {},
     "output_type": "execute_result"
    }
   ],
   "source": [
    "metrics.explained_variance_score(y_val, predict, multioutput='uniform_average')"
   ]
  },
  {
   "cell_type": "code",
   "execution_count": 20,
   "metadata": {},
   "outputs": [
    {
     "data": {
      "text/plain": [
       "array([0.20764064])"
      ]
     },
     "execution_count": 20,
     "metadata": {},
     "output_type": "execute_result"
    }
   ],
   "source": [
    "metrics.mean_absolute_error(y_val, predict, multioutput='raw_values')"
   ]
  },
  {
   "cell_type": "code",
   "execution_count": 21,
   "metadata": {},
   "outputs": [
    {
     "data": {
      "text/plain": [
       "0.09295262161369049"
      ]
     },
     "execution_count": 21,
     "metadata": {},
     "output_type": "execute_result"
    }
   ],
   "source": [
    "metrics.mean_squared_error(y_val, predict) "
   ]
  },
  {
   "cell_type": "code",
   "execution_count": 22,
   "metadata": {},
   "outputs": [
    {
     "ename": "ValueError",
     "evalue": "Mean Squared Logarithmic Error cannot be used when targets contain negative values.",
     "output_type": "error",
     "traceback": [
      "\u001b[1;31m---------------------------------------------------------------------------\u001b[0m",
      "\u001b[1;31mValueError\u001b[0m                                Traceback (most recent call last)",
      "\u001b[1;32m<ipython-input-22-a320820fac7b>\u001b[0m in \u001b[0;36m<module>\u001b[1;34m\u001b[0m\n\u001b[1;32m----> 1\u001b[1;33m \u001b[0mmetrics\u001b[0m\u001b[1;33m.\u001b[0m\u001b[0mmean_squared_log_error\u001b[0m\u001b[1;33m(\u001b[0m\u001b[0my_val\u001b[0m\u001b[1;33m,\u001b[0m \u001b[0mpredict\u001b[0m\u001b[1;33m)\u001b[0m\u001b[1;33m\u001b[0m\u001b[1;33m\u001b[0m\u001b[0m\n\u001b[0m",
      "\u001b[1;32mC:\\01Dev\\anaconda\\lib\\site-packages\\sklearn\\metrics\\regression.py\u001b[0m in \u001b[0;36mmean_squared_log_error\u001b[1;34m(y_true, y_pred, sample_weight, multioutput)\u001b[0m\n\u001b[0;32m    312\u001b[0m \u001b[1;33m\u001b[0m\u001b[0m\n\u001b[0;32m    313\u001b[0m     \u001b[1;32mif\u001b[0m \u001b[1;33m(\u001b[0m\u001b[0my_true\u001b[0m \u001b[1;33m<\u001b[0m \u001b[1;36m0\u001b[0m\u001b[1;33m)\u001b[0m\u001b[1;33m.\u001b[0m\u001b[0many\u001b[0m\u001b[1;33m(\u001b[0m\u001b[1;33m)\u001b[0m \u001b[1;32mor\u001b[0m \u001b[1;33m(\u001b[0m\u001b[0my_pred\u001b[0m \u001b[1;33m<\u001b[0m \u001b[1;36m0\u001b[0m\u001b[1;33m)\u001b[0m\u001b[1;33m.\u001b[0m\u001b[0many\u001b[0m\u001b[1;33m(\u001b[0m\u001b[1;33m)\u001b[0m\u001b[1;33m:\u001b[0m\u001b[1;33m\u001b[0m\u001b[1;33m\u001b[0m\u001b[0m\n\u001b[1;32m--> 314\u001b[1;33m         raise ValueError(\"Mean Squared Logarithmic Error cannot be used when \"\n\u001b[0m\u001b[0;32m    315\u001b[0m                          \"targets contain negative values.\")\n\u001b[0;32m    316\u001b[0m \u001b[1;33m\u001b[0m\u001b[0m\n",
      "\u001b[1;31mValueError\u001b[0m: Mean Squared Logarithmic Error cannot be used when targets contain negative values."
     ]
    }
   ],
   "source": [
    "metrics.mean_squared_log_error(y_val, predict) "
   ]
  },
  {
   "cell_type": "code",
   "execution_count": 23,
   "metadata": {},
   "outputs": [
    {
     "data": {
      "text/plain": [
       "0.13980152997872802"
      ]
     },
     "execution_count": 23,
     "metadata": {},
     "output_type": "execute_result"
    }
   ],
   "source": [
    "metrics.median_absolute_error(y_val, predict)"
   ]
  },
  {
   "cell_type": "code",
   "execution_count": 24,
   "metadata": {},
   "outputs": [],
   "source": [
    "from sklearn.model_selection import KFold"
   ]
  },
  {
   "cell_type": "code",
   "execution_count": 26,
   "metadata": {},
   "outputs": [
    {
     "name": "stdout",
     "output_type": "stream",
     "text": [
      "0.8371607378418412\n",
      "0.8532357033126186\n",
      "0.784405562954529\n",
      "0.8861705530969383\n",
      "0.7121534506156204\n"
     ]
    }
   ],
   "source": [
    "kf=KFold(n_splits=5, random_state=42, shuffle=False)\n",
    "for tr_fold, tst_fold in kf.split(X):\n",
    "    X_tr, X_tst = X.iloc[tr_fold], X.iloc[tst_fold]\n",
    "    y_tr, y_tst = y.iloc[tr_fold], y.iloc[tst_fold]\n",
    "    model = regressor.fit(X_tr,y_tr)\n",
    "    predict = model.predict(X_tst)\n",
    "    print(sklearn.metrics.r2_score(y_tst, predict))"
   ]
  },
  {
   "cell_type": "markdown",
   "metadata": {},
   "source": [
    "#### Корреляционная матрица:"
   ]
  },
  {
   "cell_type": "code",
   "execution_count": 5,
   "metadata": {},
   "outputs": [
    {
     "data": {
      "image/png": "[encoded data removed]",
      "text/plain": [
       "<Figure size 792x648 with 2 Axes>"
      ]
     },
     "metadata": {},
     "output_type": "display_data"
    }
   ],
   "source": [
    "dt=data.copy()\n",
    "sns.set(style=\"white\")\n",
    "\n",
    "# Compute the correlation matrix\n",
    "corr = dt.corr()\n",
    "\n",
    "# Generate a mask for the upper triangle\n",
    "mask = np.zeros_like(corr, dtype=np.bool)\n",
    "mask[np.triu_indices_from(mask)] = True\n",
    "\n",
    "# Set up the matplotlib figure\n",
    "f, ax = plt.subplots(figsize=(11, 9))\n",
    "\n",
    "# Generate a custom diverging colormap\n",
    "cmap = sns.diverging_palette(220, 10, as_cmap=True)\n",
    "\n",
    "# Draw the heatmap with the mask and correct aspect ratio\n",
    "sns.heatmap(corr, mask=mask, cmap=cmap, center=0,\n",
    "            square=True, linewidths=.5, cbar_kws={\"shrink\": .5})\n",
    "plt.show()"
   ]
  },
  {
   "cell_type": "markdown",
   "metadata": {},
   "source": [
    "### Наилучшая модель, которая у нас получилась, выглядела так (домашнее задание):"
   ]
  },
  {
   "cell_type": "code",
   "execution_count": 6,
   "metadata": {},
   "outputs": [],
   "source": [
    "X = data.drop(['SalePrice', 'GrLivArea'], axis=1)\n",
    "Y = data.SalePrice\n",
    "#add the constant term to the data\n",
    "X = sm.add_constant(X)\n",
    "#define the model\n",
    "model = sm.OLS(Y, X)\n",
    "#fit the model\n",
    "results = model.fit()"
   ]
  },
  {
   "cell_type": "code",
   "execution_count": 7,
   "metadata": {},
   "outputs": [],
   "source": [
    "cols2 = ['MSSubClass', 'LotArea', 'OverallQual', 'OverallCond', 'YearBuilt', 'YearRemodAdd', 'BsmtUnfSF',\\\n",
    "         'TotalBsmtSF', '1stFlrSF', '2ndFlrSF', 'LowQualFinSF', 'GrLivArea', 'BsmtFullBath', 'FullBath', 'HalfBath',\\\n",
    " 'BedroomAbvGr', 'KitchenAbvGr', 'TotRmsAbvGrd', 'Fireplaces', 'GarageCars', 'GarageArea', 'WoodDeckSF', 'OpenPorchSF',\\\n",
    " 'EnclosedPorch', '3SsnPorch', 'ScreenPorch', 'PoolArea', 'MiscVal', 'MoSold', 'YrSold']"
   ]
  },
  {
   "cell_type": "code",
   "execution_count": 8,
   "metadata": {},
   "outputs": [],
   "source": [
    "# choose alpha level\n",
    "alpha = 0.05\n",
    "\n",
    "# perform feature elimination\n",
    "while results.pvalues[results.pvalues > 0.05].shape[0] > 0:\n",
    "    use_cols=results.pvalues[results.pvalues != results.pvalues.max()].keys().tolist()\n",
    "    X = X[use_cols]\n",
    "    Y = data.SalePrice\n",
    "    #define the model\n",
    "    model = sm.OLS(Y, X)\n",
    "    #fit the model\n",
    "    results = model.fit()\n",
    "    #print the results\n",
    "    #print(results.summary2())\n",
    "    #print('\\n\\n\\n')"
   ]
  },
  {
   "cell_type": "code",
   "execution_count": 9,
   "metadata": {},
   "outputs": [
    {
     "name": "stdout",
     "output_type": "stream",
     "text": [
      "                    Results: Ordinary least squares\n",
      "========================================================================\n",
      "Model:                 OLS               Adj. R-squared:      0.968     \n",
      "Dependent Variable:    SalePrice         AIC:                 34726.4699\n",
      "Date:                  2019-04-15 06:21  BIC:                 34821.6214\n",
      "No. Observations:      1460              Log-Likelihood:      -17345.   \n",
      "Df Model:              18                F-statistic:         2482.     \n",
      "Df Residuals:          1442              Prob (F-statistic):  0.00      \n",
      "R-squared:             0.969             Scale:               1.2360e+09\n",
      "------------------------------------------------------------------------\n",
      "                Coef.     Std.Err.    t    P>|t|     [0.025     0.975]  \n",
      "------------------------------------------------------------------------\n",
      "MSSubClass     -154.9909   26.0905 -5.9405 0.0000   -206.1703  -103.8115\n",
      "LotArea           0.4183    0.1004  4.1667 0.0000      0.2214     0.6153\n",
      "OverallQual   18577.5690 1170.0852 15.8771 0.0000  16282.3176 20872.8205\n",
      "OverallCond    4247.3816 1015.3204  4.1833 0.0000   2255.7186  6239.0447\n",
      "YearBuilt       340.5722   51.9930  6.5504 0.0000    238.5822   442.5621\n",
      "YearRemodAdd    144.2172   64.8469  2.2240 0.0263     17.0129   271.4216\n",
      "BsmtUnfSF        -9.3898    3.1149 -3.0145 0.0026    -15.4999    -3.2796\n",
      "TotalBsmtSF      19.0279    4.5322  4.1984 0.0000     10.1374    27.9183\n",
      "1stFlrSF         54.1013    5.3899 10.0376 0.0000     43.5285    64.6741\n",
      "2ndFlrSF         51.1951    4.0608 12.6071 0.0000     43.2294    59.1608\n",
      "BsmtFullBath   8139.6176 2475.3952  3.2882 0.0010   3283.8564 12995.3787\n",
      "BedroomAbvGr -10533.7748 1672.1280 -6.2996 0.0000 -13813.8386 -7253.7109\n",
      "KitchenAbvGr -13846.8623 5082.1054 -2.7246 0.0065 -23815.9734 -3877.7512\n",
      "TotRmsAbvGrd   5496.6009 1225.3124  4.4859 0.0000   3093.0153  7900.1865\n",
      "GarageCars    11334.2597 1706.0494  6.6436 0.0000   7987.6554 14680.8640\n",
      "WoodDeckSF       25.6380    7.9574  3.2219 0.0013     10.0287    41.2472\n",
      "ScreenPorch      55.6250   16.9254  3.2865 0.0010     22.4239    88.8261\n",
      "YrSold         -509.3121   57.8676 -8.8013 0.0000   -622.8258  -395.7984\n",
      "------------------------------------------------------------------------\n",
      "Omnibus:              629.368        Durbin-Watson:           1.962     \n",
      "Prob(Omnibus):        0.000          Jarque-Bera (JB):        112587.593\n",
      "Skew:                 -0.877         Prob(JB):                0.000     \n",
      "Kurtosis:             45.985         Condition No.:           81964     \n",
      "========================================================================\n",
      "* The condition number is large (8e+04). This might indicate\n",
      "strong multicollinearity or other numerical problems.\n"
     ]
    }
   ],
   "source": [
    "print(results.summary2())"
   ]
  },
  {
   "cell_type": "markdown",
   "metadata": {},
   "source": [
    "### Давайте попробуем смоделировать зависимость при помощи линейного SVM"
   ]
  },
  {
   "cell_type": "markdown",
   "metadata": {},
   "source": [
    "* Какие параметры есть у sklearn-реализации SVR?"
   ]
  },
  {
   "cell_type": "code",
   "execution_count": 10,
   "metadata": {},
   "outputs": [],
   "source": [
    "SVR?"
   ]
  },
  {
   "cell_type": "markdown",
   "metadata": {},
   "source": [
    "* Зададим параметры для SVR \"из коробки\":"
   ]
  },
  {
   "cell_type": "code",
   "execution_count": 9,
   "metadata": {},
   "outputs": [],
   "source": [
    "regressor = SVR(kernel='linear', verbose=True)"
   ]
  },
  {
   "cell_type": "code",
   "execution_count": 10,
   "metadata": {},
   "outputs": [
    {
     "name": "stdout",
     "output_type": "stream",
     "text": [
      "[LibSVM]"
     ]
    }
   ],
   "source": [
    "X = data.drop('SalePrice', axis=1)\n",
    "model = regressor.fit(X,Y)"
   ]
  },
  {
   "cell_type": "code",
   "execution_count": 11,
   "metadata": {},
   "outputs": [],
   "source": [
    "predictions = model.predict(X)"
   ]
  },
  {
   "cell_type": "code",
   "execution_count": 12,
   "metadata": {},
   "outputs": [
    {
     "data": {
      "text/plain": [
       "0.7332931748395889"
      ]
     },
     "execution_count": 12,
     "metadata": {},
     "output_type": "execute_result"
    }
   ],
   "source": [
    "sklearn.metrics.r2_score(Y, predictions)"
   ]
  },
  {
   "cell_type": "code",
   "execution_count": 13,
   "metadata": {},
   "outputs": [
    {
     "data": {
      "text/plain": [
       "0.7332931748395889"
      ]
     },
     "execution_count": 13,
     "metadata": {},
     "output_type": "execute_result"
    }
   ],
   "source": [
    "model.score(X,Y)"
   ]
  },
  {
   "cell_type": "markdown",
   "metadata": {},
   "source": [
    "* Можно ли сделать \"лучше\", не переходя к ядрам? \n",
    "\n",
    "Попробуем варьировать дефолтные параметры:"
   ]
  },
  {
   "cell_type": "code",
   "execution_count": 14,
   "metadata": {},
   "outputs": [],
   "source": [
    "C = [0.1, 1, 10, 50, 100]\n",
    "epsilon = [0.1, 1, 10]"
   ]
  },
  {
   "cell_type": "code",
   "execution_count": 15,
   "metadata": {},
   "outputs": [
    {
     "data": {
      "text/plain": [
       "0.7440140726936351"
      ]
     },
     "execution_count": 15,
     "metadata": {},
     "output_type": "execute_result"
    }
   ],
   "source": [
    "regressor = SVR(kernel='linear', C=5, epsilon=0.01)\n",
    "model = regressor.fit(X,Y)\n",
    "predictions = model.predict(X)\n",
    "sklearn.metrics.r2_score(Y, predictions)"
   ]
  },
  {
   "cell_type": "markdown",
   "metadata": {},
   "source": [
    "* А теперь давайте посмотрим, как изменится ситуация при использовании ядер:"
   ]
  },
  {
   "cell_type": "markdown",
   "metadata": {},
   "source": [
    "### SVM c ядрами"
   ]
  },
  {
   "cell_type": "markdown",
   "metadata": {},
   "source": [
    "* для некоторых ядер требуется \"стандартизировать\" данные\n",
    "* два основных способа: нормировка и преобразование к интервалу [0, 1]"
   ]
  },
  {
   "cell_type": "code",
   "execution_count": 46,
   "metadata": {},
   "outputs": [],
   "source": [
    "# нормировка\n",
    "def scale(df):\n",
    "    return ((df - df.mean()) / df.std())\n",
    "\n",
    "# преобразование к интервалу [0, 1]\n",
    "def scaling_to_zero_one(df):\n",
    "    return (df - df.min()) / (df.max() - df.min())"
   ]
  },
  {
   "cell_type": "markdown",
   "metadata": {},
   "source": [
    "* что будет без нормировки? **rbf-ядро**"
   ]
  },
  {
   "cell_type": "code",
   "execution_count": 36,
   "metadata": {},
   "outputs": [
    {
     "data": {
      "text/plain": [
       "-0.05090661307666644"
      ]
     },
     "execution_count": 36,
     "metadata": {},
     "output_type": "execute_result"
    }
   ],
   "source": [
    "regressor = SVR(kernel='rbf')\n",
    "model = regressor.fit(X,Y)\n",
    "predictions = model.predict(X)\n",
    "sklearn.metrics.r2_score(Y, predictions)"
   ]
  },
  {
   "cell_type": "markdown",
   "metadata": {},
   "source": [
    "* а с нормировкой:"
   ]
  },
  {
   "cell_type": "code",
   "execution_count": 50,
   "metadata": {},
   "outputs": [
    {
     "data": {
      "text/plain": [
       "0.7594568446517388"
      ]
     },
     "execution_count": 50,
     "metadata": {},
     "output_type": "execute_result"
    }
   ],
   "source": [
    "regressor = SVR(kernel='rbf')\n",
    "model = regressor.fit(scaling_to_zero_one(X),scaling_to_zero_one(Y))\n",
    "predictions = model.predict(scaling_to_zero_one(X))\n",
    "sklearn.metrics.r2_score(scaling_to_zero_one(Y), predictions)"
   ]
  },
  {
   "cell_type": "code",
   "execution_count": 51,
   "metadata": {},
   "outputs": [
    {
     "data": {
      "text/plain": [
       "0.9077426725932015"
      ]
     },
     "execution_count": 51,
     "metadata": {},
     "output_type": "execute_result"
    }
   ],
   "source": [
    "regressor = SVR(kernel='rbf')\n",
    "model = regressor.fit(scale(X),scale(Y))\n",
    "predictions = model.predict(scale(X))\n",
    "sklearn.metrics.r2_score(scale(Y), predictions)"
   ]
  },
  {
   "cell_type": "markdown",
   "metadata": {},
   "source": [
    "* другие ядра"
   ]
  },
  {
   "cell_type": "code",
   "execution_count": 54,
   "metadata": {},
   "outputs": [],
   "source": [
    "SVR?"
   ]
  },
  {
   "cell_type": "code",
   "execution_count": 75,
   "metadata": {},
   "outputs": [
    {
     "data": {
      "text/plain": [
       "0.9554741547329938"
      ]
     },
     "execution_count": 75,
     "metadata": {},
     "output_type": "execute_result"
    }
   ],
   "source": [
    "regressor = SVR(kernel='poly')\n",
    "model = regressor.fit(scale(X),scale(Y))\n",
    "predictions = model.predict(scale(X))\n",
    "sklearn.metrics.r2_score(scale(Y), predictions)"
   ]
  },
  {
   "cell_type": "code",
   "execution_count": 78,
   "metadata": {},
   "outputs": [
    {
     "data": {
      "image/png": "[encoded data removed]",
      "text/plain": [
       "<matplotlib.figure.Figure at 0x1644b4c72b0>"
      ]
     },
     "metadata": {},
     "output_type": "display_data"
    }
   ],
   "source": [
    "plt.figure(figsize=(7,7))\n",
    "plt.scatter(scale(Y), predictions)\n",
    "#plt.plot(scaling_to_zero_one(np.arange(Y.shape[0])), scaling_to_zero_one(np.arange(Y.shape[0])))\n",
    "plt.title('True values vs Predictions')\n",
    "plt.xlabel('True values')\n",
    "plt.ylabel('Predictions')\n",
    "plt.show()"
   ]
  },
  {
   "cell_type": "code",
   "execution_count": 59,
   "metadata": {},
   "outputs": [
    {
     "data": {
      "text/plain": [
       "0.623755208317478"
      ]
     },
     "execution_count": 59,
     "metadata": {},
     "output_type": "execute_result"
    }
   ],
   "source": [
    "regressor = SVR(kernel='poly')\n",
    "model = regressor.fit(scaling_to_zero_one(X),scaling_to_zero_one(Y))\n",
    "predictions = model.predict(scaling_to_zero_one(X))\n",
    "sklearn.metrics.r2_score(scaling_to_zero_one(Y), predictions)"
   ]
  },
  {
   "cell_type": "code",
   "execution_count": 57,
   "metadata": {},
   "outputs": [
    {
     "data": {
      "text/plain": [
       "-61.04574932486763"
      ]
     },
     "execution_count": 57,
     "metadata": {},
     "output_type": "execute_result"
    }
   ],
   "source": [
    "regressor = SVR(kernel='sigmoid')\n",
    "model = regressor.fit(scale(X),scale(Y))\n",
    "predictions = model.predict(scale(X))\n",
    "sklearn.metrics.r2_score(scale(Y), predictions)"
   ]
  },
  {
   "cell_type": "code",
   "execution_count": 58,
   "metadata": {},
   "outputs": [
    {
     "data": {
      "text/plain": [
       "0.7260144900568251"
      ]
     },
     "execution_count": 58,
     "metadata": {},
     "output_type": "execute_result"
    }
   ],
   "source": [
    "regressor = SVR(kernel='sigmoid')\n",
    "model = regressor.fit(scaling_to_zero_one(X),scaling_to_zero_one(Y))\n",
    "predictions = model.predict(scaling_to_zero_one(X))\n",
    "sklearn.metrics.r2_score(scaling_to_zero_one(Y), predictions)"
   ]
  },
  {
   "cell_type": "code",
   "execution_count": 74,
   "metadata": {},
   "outputs": [
    {
     "data": {
      "image/png": "[encoded data removed]",
      "text/plain": [
       "<matplotlib.figure.Figure at 0x1644b4cb240>"
      ]
     },
     "metadata": {},
     "output_type": "display_data"
    }
   ],
   "source": [
    "plt.figure(figsize=(7,7))\n",
    "plt.scatter(scaling_to_zero_one(Y), predictions)\n",
    "plt.plot(scaling_to_zero_one(np.arange(Y.shape[0])), scaling_to_zero_one(np.arange(Y.shape[0])))\n",
    "plt.title('True values vs Predictions')\n",
    "plt.xlabel('True values')\n",
    "plt.ylabel('Predictions')\n",
    "plt.show()"
   ]
  },
  {
   "cell_type": "markdown",
   "metadata": {},
   "source": [
    "### Задание 1\n",
    "\n",
    "Подобрать конфигурацию SVR (хоть с ядром, хоть без ядра), которая наилучшим образом моделирует существующую зависимость.\n",
    "* подобрать ядро\n",
    "* подобрать параметры"
   ]
  },
  {
   "cell_type": "code",
   "execution_count": 16,
   "metadata": {},
   "outputs": [
    {
     "ename": "SyntaxError",
     "evalue": "invalid syntax (<ipython-input-16-299d382eefc5>, line 1)",
     "output_type": "error",
     "traceback": [
      "\u001b[1;36m  File \u001b[1;32m\"<ipython-input-16-299d382eefc5>\"\u001b[1;36m, line \u001b[1;32m1\u001b[0m\n\u001b[1;33m    Найти лучший скор лучше с кроссвалидацией\u001b[0m\n\u001b[1;37m               ^\u001b[0m\n\u001b[1;31mSyntaxError\u001b[0m\u001b[1;31m:\u001b[0m invalid syntax\n"
     ]
    }
   ],
   "source": [
    "Найти лучший скор лучше с кроссвалидацией"
   ]
  },
  {
   "cell_type": "markdown",
   "metadata": {},
   "source": [
    "## 2. Метод опорных векторов для задачи классификации"
   ]
  },
  {
   "cell_type": "markdown",
   "metadata": {},
   "source": [
    "В прошлый раз мы работали с датасетом \"ирисы\":"
   ]
  },
  {
   "cell_type": "code",
   "execution_count": 80,
   "metadata": {},
   "outputs": [
    {
     "data": {
      "text/html": [
       "<div>\n",
       "<style scoped>\n",
       "    .dataframe tbody tr th:only-of-type {\n",
       "        vertical-align: middle;\n",
       "    }\n",
       "\n",
       "    .dataframe tbody tr th {\n",
       "        vertical-align: top;\n",
       "    }\n",
       "\n",
       "    .dataframe thead th {\n",
       "        text-align: right;\n",
       "    }\n",
       "</style>\n",
       "<table border=\"1\" class=\"dataframe\">\n",
       "  <thead>\n",
       "    <tr style=\"text-align: right;\">\n",
       "      <th></th>\n",
       "      <th>sepal length</th>\n",
       "      <th>sepal width</th>\n",
       "      <th>petal length</th>\n",
       "      <th>petal width</th>\n",
       "    </tr>\n",
       "  </thead>\n",
       "  <tbody>\n",
       "    <tr>\n",
       "      <th>0</th>\n",
       "      <td>5.1</td>\n",
       "      <td>3.5</td>\n",
       "      <td>1.4</td>\n",
       "      <td>0.2</td>\n",
       "    </tr>\n",
       "    <tr>\n",
       "      <th>1</th>\n",
       "      <td>4.9</td>\n",
       "      <td>3.0</td>\n",
       "      <td>1.4</td>\n",
       "      <td>0.2</td>\n",
       "    </tr>\n",
       "    <tr>\n",
       "      <th>2</th>\n",
       "      <td>4.7</td>\n",
       "      <td>3.2</td>\n",
       "      <td>1.3</td>\n",
       "      <td>0.2</td>\n",
       "    </tr>\n",
       "    <tr>\n",
       "      <th>3</th>\n",
       "      <td>4.6</td>\n",
       "      <td>3.1</td>\n",
       "      <td>1.5</td>\n",
       "      <td>0.2</td>\n",
       "    </tr>\n",
       "    <tr>\n",
       "      <th>4</th>\n",
       "      <td>5.0</td>\n",
       "      <td>3.6</td>\n",
       "      <td>1.4</td>\n",
       "      <td>0.2</td>\n",
       "    </tr>\n",
       "  </tbody>\n",
       "</table>\n",
       "</div>"
      ],
      "text/plain": [
       "   sepal length  sepal width  petal length  petal width\n",
       "0           5.1          3.5           1.4          0.2\n",
       "1           4.9          3.0           1.4          0.2\n",
       "2           4.7          3.2           1.3          0.2\n",
       "3           4.6          3.1           1.5          0.2\n",
       "4           5.0          3.6           1.4          0.2"
      ]
     },
     "execution_count": 80,
     "metadata": {},
     "output_type": "execute_result"
    }
   ],
   "source": [
    "X, Y = sklearn.datasets.load_iris(return_X_y=True)\n",
    "names = ['sepal length', 'sepal width', 'petal length', 'petal width']\n",
    "classes = ['setosa', 'versicolor', 'virginica']\n",
    "#create pandas object\n",
    "X = pd.DataFrame(X, columns=names)\n",
    "X.head()"
   ]
  },
  {
   "cell_type": "markdown",
   "metadata": {},
   "source": [
    "Target variable is already encoded:\n",
    "    * 0 - Setosa\n",
    "    * 1 - Versicolor\n",
    "    * 2 - Verginica\n",
    "    \n",
    "<img style=\"float: left;\" src=\"iris.jpg\" br>\n"
   ]
  },
  {
   "cell_type": "markdown",
   "metadata": {},
   "source": [
    "Корреляция:"
   ]
  },
  {
   "cell_type": "code",
   "execution_count": 81,
   "metadata": {},
   "outputs": [
    {
     "data": {
      "image/png": "[encoded data removed]",
      "text/plain": [
       "<matplotlib.figure.Figure at 0x16447aab4e0>"
      ]
     },
     "metadata": {},
     "output_type": "display_data"
    }
   ],
   "source": [
    "dt=pd.concat([X,pd.DataFrame(Y, columns=['target'])], axis=1)\n",
    "sns.set(style=\"white\")\n",
    "\n",
    "# Compute the correlation matrix\n",
    "corr = dt.corr()\n",
    "\n",
    "# Generate a mask for the upper triangle\n",
    "mask = np.zeros_like(corr, dtype=np.bool)\n",
    "mask[np.triu_indices_from(mask)] = True\n",
    "\n",
    "# Set up the matplotlib figure\n",
    "f, ax = plt.subplots(figsize=(11, 9))\n",
    "\n",
    "# Generate a custom diverging colormap\n",
    "cmap = sns.diverging_palette(220, 10, as_cmap=True)\n",
    "\n",
    "# Draw the heatmap with the mask and correct aspect ratio\n",
    "\n",
    "sns.heatmap(corr, mask=mask, cmap=cmap, center=0,\n",
    "            square=True, linewidths=.5, cbar_kws={\"shrink\": .5})\n",
    "plt.show()"
   ]
  },
  {
   "cell_type": "markdown",
   "metadata": {},
   "source": [
    "Красивые графики :)"
   ]
  },
  {
   "cell_type": "code",
   "execution_count": 148,
   "metadata": {},
   "outputs": [
    {
     "data": {
      "image/png": "[encoded data removed]",
      "text/plain": [
       "<matplotlib.figure.Figure at 0x1e668f7bb38>"
      ]
     },
     "metadata": {},
     "output_type": "display_data"
    }
   ],
   "source": [
    "sns.pairplot(dt, kind='scatter', hue='target')\n",
    "plt.show()"
   ]
  },
  {
   "cell_type": "markdown",
   "metadata": {},
   "source": [
    "**Обычная логистическая регрессия**"
   ]
  },
  {
   "cell_type": "code",
   "execution_count": 83,
   "metadata": {},
   "outputs": [
    {
     "name": "stdout",
     "output_type": "stream",
     "text": [
      "Warning: Maximum number of iterations has been exceeded.\n",
      "         Current function value: 0.072266\n",
      "         Iterations: 35\n"
     ]
    },
    {
     "data": {
      "text/plain": [
       "0.9666666666666667"
      ]
     },
     "execution_count": 83,
     "metadata": {},
     "output_type": "execute_result"
    }
   ],
   "source": [
    "#from sklearn import metrics \n",
    "logit = sm.MNLogit(Y, X)\n",
    "result = logit.fit()\n",
    "preds=np.argmax(result.predict(X).values,axis=1)\n",
    "accuracy_score(Y,preds)"
   ]
  },
  {
   "cell_type": "markdown",
   "metadata": {},
   "source": [
    "**Логистическая регрессия с L1 регуляризацией**"
   ]
  },
  {
   "cell_type": "code",
   "execution_count": 84,
   "metadata": {},
   "outputs": [
    {
     "data": {
      "text/plain": [
       "0.98"
      ]
     },
     "execution_count": 84,
     "metadata": {},
     "output_type": "execute_result"
    }
   ],
   "source": [
    "from sklearn import linear_model\n",
    "model=sklearn.linear_model.LogisticRegression(penalty='l1',multi_class='multinomial', solver='saga').fit(X,Y)\n",
    "preds=model.predict(X)\n",
    "accuracy_score(Y, preds)"
   ]
  },
  {
   "cell_type": "markdown",
   "metadata": {},
   "source": [
    "**Логистическая регрессия с L2 регуляризацией**"
   ]
  },
  {
   "cell_type": "code",
   "execution_count": 85,
   "metadata": {},
   "outputs": [
    {
     "data": {
      "text/plain": [
       "0.9866666666666667"
      ]
     },
     "execution_count": 85,
     "metadata": {},
     "output_type": "execute_result"
    }
   ],
   "source": [
    "from sklearn import linear_model\n",
    "model=sklearn.linear_model.LogisticRegression(penalty='l2',multi_class='multinomial', solver='saga', fit_intercept=True).fit(X,Y)\n",
    "preds=model.predict(X)\n",
    "accuracy_score(Y, preds)"
   ]
  },
  {
   "cell_type": "markdown",
   "metadata": {},
   "source": [
    "### SVC \"из коробки\""
   ]
  },
  {
   "cell_type": "code",
   "execution_count": 92,
   "metadata": {},
   "outputs": [],
   "source": [
    "clf = sklearn.svm.SVC(kernel='linear')"
   ]
  },
  {
   "cell_type": "code",
   "execution_count": 93,
   "metadata": {},
   "outputs": [],
   "source": [
    "model = clf.fit(X,Y)"
   ]
  },
  {
   "cell_type": "code",
   "execution_count": 96,
   "metadata": {},
   "outputs": [],
   "source": [
    "predictions = model.predict(X)"
   ]
  },
  {
   "cell_type": "code",
   "execution_count": 95,
   "metadata": {},
   "outputs": [
    {
     "data": {
      "text/plain": [
       "0.9933333333333333"
      ]
     },
     "execution_count": 95,
     "metadata": {},
     "output_type": "execute_result"
    }
   ],
   "source": [
    "model.score(X,Y)"
   ]
  },
  {
   "cell_type": "code",
   "execution_count": 98,
   "metadata": {},
   "outputs": [
    {
     "data": {
      "text/plain": [
       "0.9933333333333333"
      ]
     },
     "execution_count": 98,
     "metadata": {},
     "output_type": "execute_result"
    }
   ],
   "source": [
    "accuracy_score(Y, predictions)"
   ]
  },
  {
   "cell_type": "markdown",
   "metadata": {},
   "source": [
    "* Что с ядрами?"
   ]
  },
  {
   "cell_type": "code",
   "execution_count": 99,
   "metadata": {},
   "outputs": [
    {
     "data": {
      "text/plain": [
       "0.9866666666666667"
      ]
     },
     "execution_count": 99,
     "metadata": {},
     "output_type": "execute_result"
    }
   ],
   "source": [
    "clf = sklearn.svm.SVC(kernel='rbf')\n",
    "model = clf.fit(X, Y)\n",
    "predictions = model.predict(X)\n",
    "accuracy_score(Y, predictions)"
   ]
  },
  {
   "cell_type": "markdown",
   "metadata": {},
   "source": [
    "* Почему \"работает\" без стандартизации?"
   ]
  },
  {
   "cell_type": "code",
   "execution_count": 101,
   "metadata": {},
   "outputs": [
    {
     "data": {
      "text/html": [
       "<div>\n",
       "<style scoped>\n",
       "    .dataframe tbody tr th:only-of-type {\n",
       "        vertical-align: middle;\n",
       "    }\n",
       "\n",
       "    .dataframe tbody tr th {\n",
       "        vertical-align: top;\n",
       "    }\n",
       "\n",
       "    .dataframe thead th {\n",
       "        text-align: right;\n",
       "    }\n",
       "</style>\n",
       "<table border=\"1\" class=\"dataframe\">\n",
       "  <thead>\n",
       "    <tr style=\"text-align: right;\">\n",
       "      <th></th>\n",
       "      <th>sepal length</th>\n",
       "      <th>sepal width</th>\n",
       "      <th>petal length</th>\n",
       "      <th>petal width</th>\n",
       "    </tr>\n",
       "  </thead>\n",
       "  <tbody>\n",
       "    <tr>\n",
       "      <th>0</th>\n",
       "      <td>5.1</td>\n",
       "      <td>3.5</td>\n",
       "      <td>1.4</td>\n",
       "      <td>0.2</td>\n",
       "    </tr>\n",
       "    <tr>\n",
       "      <th>1</th>\n",
       "      <td>4.9</td>\n",
       "      <td>3.0</td>\n",
       "      <td>1.4</td>\n",
       "      <td>0.2</td>\n",
       "    </tr>\n",
       "    <tr>\n",
       "      <th>2</th>\n",
       "      <td>4.7</td>\n",
       "      <td>3.2</td>\n",
       "      <td>1.3</td>\n",
       "      <td>0.2</td>\n",
       "    </tr>\n",
       "    <tr>\n",
       "      <th>3</th>\n",
       "      <td>4.6</td>\n",
       "      <td>3.1</td>\n",
       "      <td>1.5</td>\n",
       "      <td>0.2</td>\n",
       "    </tr>\n",
       "    <tr>\n",
       "      <th>4</th>\n",
       "      <td>5.0</td>\n",
       "      <td>3.6</td>\n",
       "      <td>1.4</td>\n",
       "      <td>0.2</td>\n",
       "    </tr>\n",
       "  </tbody>\n",
       "</table>\n",
       "</div>"
      ],
      "text/plain": [
       "   sepal length  sepal width  petal length  petal width\n",
       "0           5.1          3.5           1.4          0.2\n",
       "1           4.9          3.0           1.4          0.2\n",
       "2           4.7          3.2           1.3          0.2\n",
       "3           4.6          3.1           1.5          0.2\n",
       "4           5.0          3.6           1.4          0.2"
      ]
     },
     "execution_count": 101,
     "metadata": {},
     "output_type": "execute_result"
    }
   ],
   "source": [
    "X.head()"
   ]
  },
  {
   "cell_type": "code",
   "execution_count": 102,
   "metadata": {},
   "outputs": [
    {
     "data": {
      "text/html": [
       "<div>\n",
       "<style scoped>\n",
       "    .dataframe tbody tr th:only-of-type {\n",
       "        vertical-align: middle;\n",
       "    }\n",
       "\n",
       "    .dataframe tbody tr th {\n",
       "        vertical-align: top;\n",
       "    }\n",
       "\n",
       "    .dataframe thead th {\n",
       "        text-align: right;\n",
       "    }\n",
       "</style>\n",
       "<table border=\"1\" class=\"dataframe\">\n",
       "  <thead>\n",
       "    <tr style=\"text-align: right;\">\n",
       "      <th></th>\n",
       "      <th>sepal length</th>\n",
       "      <th>sepal width</th>\n",
       "      <th>petal length</th>\n",
       "      <th>petal width</th>\n",
       "    </tr>\n",
       "  </thead>\n",
       "  <tbody>\n",
       "    <tr>\n",
       "      <th>count</th>\n",
       "      <td>150.000000</td>\n",
       "      <td>150.000000</td>\n",
       "      <td>150.000000</td>\n",
       "      <td>150.000000</td>\n",
       "    </tr>\n",
       "    <tr>\n",
       "      <th>mean</th>\n",
       "      <td>5.843333</td>\n",
       "      <td>3.057333</td>\n",
       "      <td>3.758000</td>\n",
       "      <td>1.199333</td>\n",
       "    </tr>\n",
       "    <tr>\n",
       "      <th>std</th>\n",
       "      <td>0.828066</td>\n",
       "      <td>0.435866</td>\n",
       "      <td>1.765298</td>\n",
       "      <td>0.762238</td>\n",
       "    </tr>\n",
       "    <tr>\n",
       "      <th>min</th>\n",
       "      <td>4.300000</td>\n",
       "      <td>2.000000</td>\n",
       "      <td>1.000000</td>\n",
       "      <td>0.100000</td>\n",
       "    </tr>\n",
       "    <tr>\n",
       "      <th>25%</th>\n",
       "      <td>5.100000</td>\n",
       "      <td>2.800000</td>\n",
       "      <td>1.600000</td>\n",
       "      <td>0.300000</td>\n",
       "    </tr>\n",
       "    <tr>\n",
       "      <th>50%</th>\n",
       "      <td>5.800000</td>\n",
       "      <td>3.000000</td>\n",
       "      <td>4.350000</td>\n",
       "      <td>1.300000</td>\n",
       "    </tr>\n",
       "    <tr>\n",
       "      <th>75%</th>\n",
       "      <td>6.400000</td>\n",
       "      <td>3.300000</td>\n",
       "      <td>5.100000</td>\n",
       "      <td>1.800000</td>\n",
       "    </tr>\n",
       "    <tr>\n",
       "      <th>max</th>\n",
       "      <td>7.900000</td>\n",
       "      <td>4.400000</td>\n",
       "      <td>6.900000</td>\n",
       "      <td>2.500000</td>\n",
       "    </tr>\n",
       "  </tbody>\n",
       "</table>\n",
       "</div>"
      ],
      "text/plain": [
       "       sepal length  sepal width  petal length  petal width\n",
       "count    150.000000   150.000000    150.000000   150.000000\n",
       "mean       5.843333     3.057333      3.758000     1.199333\n",
       "std        0.828066     0.435866      1.765298     0.762238\n",
       "min        4.300000     2.000000      1.000000     0.100000\n",
       "25%        5.100000     2.800000      1.600000     0.300000\n",
       "50%        5.800000     3.000000      4.350000     1.300000\n",
       "75%        6.400000     3.300000      5.100000     1.800000\n",
       "max        7.900000     4.400000      6.900000     2.500000"
      ]
     },
     "execution_count": 102,
     "metadata": {},
     "output_type": "execute_result"
    }
   ],
   "source": [
    "X.describe()"
   ]
  },
  {
   "cell_type": "markdown",
   "metadata": {},
   "source": [
    "* А если добавить стандартизацию?"
   ]
  },
  {
   "cell_type": "code",
   "execution_count": 103,
   "metadata": {},
   "outputs": [
    {
     "data": {
      "text/plain": [
       "0.9733333333333334"
      ]
     },
     "execution_count": 103,
     "metadata": {},
     "output_type": "execute_result"
    }
   ],
   "source": [
    "clf = sklearn.svm.SVC(kernel='rbf')\n",
    "model = clf.fit(scale(X), Y)\n",
    "predictions = model.predict(scale(X))\n",
    "accuracy_score(Y, predictions)"
   ]
  },
  {
   "cell_type": "code",
   "execution_count": 105,
   "metadata": {},
   "outputs": [
    {
     "data": {
      "text/plain": [
       "0.9666666666666667"
      ]
     },
     "execution_count": 105,
     "metadata": {},
     "output_type": "execute_result"
    }
   ],
   "source": [
    "clf = sklearn.svm.SVC(kernel='rbf')\n",
    "model = clf.fit(scaling_to_zero_one(X), Y)\n",
    "predictions = model.predict(scaling_to_zero_one(X))\n",
    "accuracy_score(Y, predictions)"
   ]
  },
  {
   "cell_type": "markdown",
   "metadata": {},
   "source": [
    "* А теперь другие ядра:"
   ]
  },
  {
   "cell_type": "code",
   "execution_count": 106,
   "metadata": {},
   "outputs": [
    {
     "data": {
      "text/plain": [
       "0.98"
      ]
     },
     "execution_count": 106,
     "metadata": {},
     "output_type": "execute_result"
    }
   ],
   "source": [
    "clf = sklearn.svm.SVC(kernel='poly')\n",
    "model = clf.fit(X, Y)\n",
    "predictions = model.predict(X)\n",
    "accuracy_score(Y, predictions)"
   ]
  },
  {
   "cell_type": "code",
   "execution_count": 107,
   "metadata": {},
   "outputs": [
    {
     "data": {
      "text/plain": [
       "0.9533333333333334"
      ]
     },
     "execution_count": 107,
     "metadata": {},
     "output_type": "execute_result"
    }
   ],
   "source": [
    "clf = sklearn.svm.SVC(kernel='poly')\n",
    "model = clf.fit(scale(X), Y)\n",
    "predictions = model.predict(scale(X))\n",
    "accuracy_score(Y, predictions)"
   ]
  },
  {
   "cell_type": "code",
   "execution_count": 108,
   "metadata": {},
   "outputs": [
    {
     "data": {
      "text/plain": [
       "0.7333333333333333"
      ]
     },
     "execution_count": 108,
     "metadata": {},
     "output_type": "execute_result"
    }
   ],
   "source": [
    "clf = sklearn.svm.SVC(kernel='poly')\n",
    "model = clf.fit(scaling_to_zero_one(X), Y)\n",
    "predictions = model.predict(scaling_to_zero_one(X))\n",
    "accuracy_score(Y, predictions)"
   ]
  },
  {
   "cell_type": "code",
   "execution_count": 109,
   "metadata": {},
   "outputs": [
    {
     "data": {
      "text/plain": [
       "0.04"
      ]
     },
     "execution_count": 109,
     "metadata": {},
     "output_type": "execute_result"
    }
   ],
   "source": [
    "clf = sklearn.svm.SVC(kernel='sigmoid')\n",
    "model = clf.fit(X, Y)\n",
    "predictions = model.predict(X)\n",
    "accuracy_score(Y, predictions)"
   ]
  },
  {
   "cell_type": "code",
   "execution_count": 110,
   "metadata": {},
   "outputs": [
    {
     "data": {
      "text/plain": [
       "0.8866666666666667"
      ]
     },
     "execution_count": 110,
     "metadata": {},
     "output_type": "execute_result"
    }
   ],
   "source": [
    "clf = sklearn.svm.SVC(kernel='sigmoid')\n",
    "model = clf.fit(scale(X), Y)\n",
    "predictions = model.predict(scale(X))\n",
    "accuracy_score(Y, predictions)"
   ]
  },
  {
   "cell_type": "code",
   "execution_count": 111,
   "metadata": {},
   "outputs": [
    {
     "data": {
      "text/plain": [
       "0.9333333333333333"
      ]
     },
     "execution_count": 111,
     "metadata": {},
     "output_type": "execute_result"
    }
   ],
   "source": [
    "clf = sklearn.svm.SVC(kernel='sigmoid')\n",
    "model = clf.fit(scaling_to_zero_one(X), Y)\n",
    "predictions = model.predict(scaling_to_zero_one(X))\n",
    "accuracy_score(Y, predictions)"
   ]
  },
  {
   "cell_type": "markdown",
   "metadata": {},
   "source": [
    "### Задание 2\n",
    "\n",
    "Подобрать параметры для SVC, дающие наибольшую точность (accuracy score)"
   ]
  },
  {
   "cell_type": "code",
   "execution_count": null,
   "metadata": {},
   "outputs": [],
   "source": [
    "Подобрать лучшие параметры для лучшего скора моделей выше"
   ]
  },
  {
   "cell_type": "markdown",
   "metadata": {},
   "source": [
    "### Analysing the results"
   ]
  },
  {
   "cell_type": "markdown",
   "metadata": {},
   "source": [
    "Predictions:"
   ]
  },
  {
   "cell_type": "code",
   "execution_count": 114,
   "metadata": {},
   "outputs": [
    {
     "data": {
      "text/plain": [
       "<seaborn.axisgrid.FacetGrid at 0x1644b909358>"
      ]
     },
     "execution_count": 114,
     "metadata": {},
     "output_type": "execute_result"
    },
    {
     "data": {
      "image/png": "[encoded data removed]",
      "text/plain": [
       "<matplotlib.figure.Figure at 0x1644b91def0>"
      ]
     },
     "metadata": {},
     "output_type": "display_data"
    }
   ],
   "source": [
    "df=pd.concat([X, pd.DataFrame(predictions, columns=['predictions'])], axis=1)\n",
    "sns.set_style('darkgrid')\n",
    "sns.lmplot('petal length', 'petal width', df, hue='predictions', scatter=True, fit_reg=False)"
   ]
  },
  {
   "cell_type": "markdown",
   "metadata": {},
   "source": [
    "**Confusion matrix**"
   ]
  },
  {
   "cell_type": "code",
   "execution_count": 115,
   "metadata": {},
   "outputs": [
    {
     "data": {
      "image/png": "[encoded data removed]",
      "text/plain": [
       "<matplotlib.figure.Figure at 0x1644bb7beb8>"
      ]
     },
     "metadata": {},
     "output_type": "display_data"
    }
   ],
   "source": [
    "import itertools\n",
    "from sklearn.metrics import confusion_matrix\n",
    "sns.set_style('white')\n",
    "def plot_confusion_matrix(cm, classes,\n",
    "                          title='Confusion matrix',\n",
    "                          cmap=plt.cm.Blues):\n",
    "    \n",
    "    plt.imshow(cm, interpolation='nearest', cmap=cmap)\n",
    "    plt.title(title)\n",
    "    plt.colorbar()\n",
    "    tick_marks = np.arange(len(classes))\n",
    "    plt.xticks(tick_marks, classes, rotation=45)\n",
    "    plt.yticks(tick_marks, classes)\n",
    "\n",
    "    fmt = 'd'\n",
    "    thresh = cm.max() / 2.\n",
    "    for i, j in itertools.product(range(cm.shape[0]), range(cm.shape[1])):\n",
    "        plt.text(j, i, format(cm[i, j], fmt),\n",
    "                 horizontalalignment=\"center\",\n",
    "                 color=\"white\" if cm[i, j] > thresh else \"black\")\n",
    "\n",
    "    plt.ylabel('True label')\n",
    "    plt.xlabel('Predicted label')\n",
    "    plt.tight_layout()\n",
    "\n",
    "\n",
    "# Compute confusion matrix\n",
    "cnf_matrix = confusion_matrix(Y, predictions)\n",
    "np.set_printoptions(precision=2)\n",
    "\n",
    "# Plot non-normalized confusion matrix\n",
    "plt.figure()\n",
    "plot_confusion_matrix(cnf_matrix, classes=classes,\\\n",
    "                      title='Confusion matrix, without normalization')\n",
    "\n",
    "plt.show()"
   ]
  }
 ],
 "metadata": {
  "kernelspec": {
   "display_name": "Python 3",
   "language": "python",
   "name": "python3"
  },
  "language_info": {
   "codemirror_mode": {
    "name": "ipython",
    "version": 3
   },
   "file_extension": ".py",
   "mimetype": "text/x-python",
   "name": "python",
   "nbconvert_exporter": "python",
   "pygments_lexer": "ipython3",
   "version": "3.7.1"
  }
 },
 "nbformat": 4,
 "nbformat_minor": 2
}
