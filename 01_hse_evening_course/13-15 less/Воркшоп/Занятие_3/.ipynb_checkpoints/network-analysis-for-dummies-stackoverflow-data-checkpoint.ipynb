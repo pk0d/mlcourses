{
 "cells": [
  {
   "cell_type": "markdown",
   "metadata": {
    "_cell_guid": "3b7764f1-1f96-4694-9d9f-21179ab48313",
    "_uuid": "1daab2dd356b66aff2a3219cedff2862c5f25f88"
   },
   "source": [
    "# StackOverFlow Tag Network Visualization and Analysis Outline : \n",
    "\n",
    "* Making the network\n",
    "* Network Visualization\n",
    "* Finding Cliques \n",
    "* Visualizing Maximal Clique \n",
    "* Visualizing SubGraph of Programming Languages\n",
    "* Degree Distribution \n",
    "* Node metadata distributions(group and nodesize)\n",
    "* Centrality Measures (degree and betweenness centrality)\n"
   ]
  },
  {
   "cell_type": "markdown",
   "metadata": {
    "_cell_guid": "ab0d59c9-f550-4254-9735-e598c2ec160c",
    "_uuid": "bd36e776f7cdd10edf7137e7443569f1dd1fe6a0",
    "heading_collapsed": true
   },
   "source": [
    "# Build Network"
   ]
  },
  {
   "cell_type": "code",
   "execution_count": null,
   "metadata": {
    "_cell_guid": "9f51ed77-7511-4d8b-b5f0-ce5500c5c4d7",
    "_uuid": "3fb4a83e7eb9d9f6a25d07070ee0e2bca4eabcc4",
    "collapsed": true,
    "hidden": true
   },
   "outputs": [],
   "source": [
    "import networkx as nx\n",
    "import pandas as pd\n",
    "import numpy as np\n",
    "import matplotlib.pyplot as plt\n",
    "%matplotlib inline"
   ]
  },
  {
   "cell_type": "code",
   "execution_count": null,
   "metadata": {
    "_cell_guid": "731af220-86b3-4b96-ba20-ff89fb7fd9e5",
    "_uuid": "721992390231c57532b05e0e4fe2c8a4c21f1386",
    "collapsed": true,
    "hidden": true
   },
   "outputs": [],
   "source": [
    "nodes = pd.read_csv('stack_network_nodes.csv')\n",
    "edges = pd.read_csv('stack_network_links.csv')"
   ]
  },
  {
   "cell_type": "code",
   "execution_count": null,
   "metadata": {
    "_cell_guid": "49b65e94-8692-4db1-bad5-96f1e4f04dcb",
    "_uuid": "7a137eca30550d1a398cde2379cc41fb104b70ee",
    "collapsed": true,
    "hidden": true
   },
   "outputs": [],
   "source": [
    "nodes.head()"
   ]
  },
  {
   "cell_type": "code",
   "execution_count": null,
   "metadata": {
    "_cell_guid": "516168a6-4ef4-4844-80b6-ccaba2c69e24",
    "_uuid": "39f6f4961a9c1dfd690de60c07f75d87bc631ea3",
    "collapsed": true,
    "hidden": true
   },
   "outputs": [],
   "source": [
    "edges.head()"
   ]
  },
  {
   "cell_type": "markdown",
   "metadata": {
    "_cell_guid": "f28bca7d-9ef5-4e52-9516-55a2c40d6221",
    "_uuid": "454bed17f5a3de4a5da672b2ad66909828b38366",
    "hidden": true
   },
   "source": [
    "A graph consists of nodes and edges.  In this case the nodes are the tags that appear in a developer's profile in stackoverflow [\"Developer Stories\"](https://stackoverflow.com/users/story/join). If two tags appear on the same profile there's a tag between them.  To build a graph in networkx first we define an empty graph. Then we add the nodes and the edges to the graph from the dataframes ```nodes``` and ```edges``` by iterating over the rows. \n",
    "\n",
    "> The dataset include only a subset of tags used on Developer Stories, tags that were used by at least 0.5% of users and were correlated with another tag with a correlation coefficient above 0.1. This means that very sparsely used tags and tags that are not used with other tags were filtered out. \n",
    "\n",
    "For more details see here : https://www.kaggle.com/stackoverflow/stack-overflow-tag-network/discussion/41307\n",
    "\n",
    "Nodes and edges can have metadata associated with them. \n",
    "\n",
    "**Node metadata : **\n",
    "*  ```nodesize```  :  Proportional to how many developers have that tag in their developer story profile.\n",
    "*  ```group``` : which group that node belongs to (calculated via a cluster walktrap).\n",
    "\n",
    "**Edge metadata : **\n",
    "*  ```value``` :  proportional to how correlated those two tags are (correlation coefficient * 100). \n",
    "\n"
   ]
  },
  {
   "cell_type": "code",
   "execution_count": null,
   "metadata": {
    "_cell_guid": "f2cae8bc-db20-4f33-bf66-417ee9e52025",
    "_uuid": "2ccfac03949c9e189a62b5855d1d193e2a1e499d",
    "collapsed": true
   },
   "outputs": [],
   "source": [
    "G = nx.Graph()"
   ]
  },
  {
   "cell_type": "code",
   "execution_count": null,
   "metadata": {
    "_cell_guid": "3f74e3b0-029a-4630-9478-6337972aa5fd",
    "_uuid": "3d786fc1ec9f25f12c87ba5200a540627dc9885e",
    "collapsed": true
   },
   "outputs": [],
   "source": [
    "for index, row in nodes.iterrows():\n",
    "    G.add_node(row[\"name\"],group = row[\"group\"], nodesize = row[\"nodesize\"] )"
   ]
  },
  {
   "cell_type": "code",
   "execution_count": null,
   "metadata": {
    "_cell_guid": "384115ff-a3da-4a21-9fe4-4a267332a7bc",
    "_uuid": "63fe9ce0c0314f88df8992a44e3707665c19e9b8",
    "collapsed": true
   },
   "outputs": [],
   "source": [
    "for index, row in edges.iterrows():\n",
    "    G.add_edge(row[\"source\"], row[\"target\"], weight = row[\"value\"])"
   ]
  },
  {
   "cell_type": "markdown",
   "metadata": {
    "_cell_guid": "e4cf554a-f671-4d9f-847c-c1bbf468d1a2",
    "_uuid": "4307e36c0a25167452e844e0b6791e9aa3deb644"
   },
   "source": [
    "After building the network the first thing to check is the number of nodes and edges it consists of.  ```nx.info(G)``` also shows us the average degree. Degree of a node in an undirected graph shows the number of nodes it's connected to. We can also consider indegrees(number of edges incoming) and outdegrees(number of edges outgoing) of nodes. Average degree is the average of all node's degree. Stackoverflow tags have an average degree of 4.26 which indicates that on average tags are connected to four other tags. 115 nodes mean there are 115 unique tags which are connected among themselves with 245 edges."
   ]
  },
  {
   "cell_type": "code",
   "execution_count": null,
   "metadata": {
    "_cell_guid": "77f9838f-81fc-4d18-9f25-d5812360045c",
    "_uuid": "e3e3ea79db5d7ac9443b31d966812f60e634e352",
    "collapsed": true
   },
   "outputs": [],
   "source": [
    "print(nx.info(G))"
   ]
  },
  {
   "cell_type": "markdown",
   "metadata": {
    "_cell_guid": "4e850a76-6161-47d4-aa4c-293bad221688",
    "_uuid": "a4731ad8fe76b72d1e6dd15782c6fd66ba738980"
   },
   "source": [
    "# Connectivity \n",
    "\n",
    "A network is connected if there is a path between every pair of vertices. But this tag network is not connected, which means there are some isolated nodes or isolated subgraphs. A connected component is the maximal connected subgraph of a graph. In the tag network we have 6 unique connected components. We can also extract the largest connected component of a graph."
   ]
  },
  {
   "cell_type": "code",
   "execution_count": null,
   "metadata": {
    "_cell_guid": "ea766900-626e-40ae-b863-35afcfba8b54",
    "_uuid": "64eeaaba0866074989af16d2bf87da17631af041",
    "collapsed": true
   },
   "outputs": [],
   "source": [
    "nx.is_connected(G)"
   ]
  },
  {
   "cell_type": "code",
   "execution_count": null,
   "metadata": {
    "_cell_guid": "8d1d6165-31b0-4acf-bd8e-7dfec6de046a",
    "_uuid": "4cbccd56b34c1565c998c908d8ce752cafe2c4e0",
    "collapsed": true
   },
   "outputs": [],
   "source": [
    "nx.number_connected_components(G)"
   ]
  },
  {
   "cell_type": "code",
   "execution_count": null,
   "metadata": {
    "_cell_guid": "2f242b44-1e5d-442f-842f-fc15ea624bde",
    "_uuid": "af424731a2f8eb842c1db35c09c0234f4f6ef6bd",
    "collapsed": true
   },
   "outputs": [],
   "source": [
    "maximum_connected_component = max(nx.connected_component_subgraphs(G), key=len)"
   ]
  },
  {
   "cell_type": "markdown",
   "metadata": {
    "_cell_guid": "b8f77e9b-492c-4c49-a628-b47e395a9abc",
    "_uuid": "815972a0e0e37885b91331109110c823a656a75b",
    "hidden": true
   },
   "source": [
    "# Network Visualization\n",
    "\n",
    "Note : I've used the code in this kernel : https://www.kaggle.com/jncharon/python-network-graph for the network visualization by encapsulating it in a function with minimal changes for convenience. I've changed the syntax for the list comprehensions for assigning node color and also changed the parameters for the spring layout a little bit. We can see the different connected components in the graph, often consisting of 2-3 edges. E.g (excel, excel-vba) and (testing, selenium) which probably refers to the business analysists and Quality assurance developers."
   ]
  },
  {
   "cell_type": "code",
   "execution_count": null,
   "metadata": {
    "_cell_guid": "4f5f24f9-60ec-4c45-a302-09408e68ca66",
    "_uuid": "ad69c7644943137f58e575f7194e1de82a99a953",
    "collapsed": true
   },
   "outputs": [],
   "source": [
    "print(nx.__version__)"
   ]
  },
  {
   "cell_type": "code",
   "execution_count": null,
   "metadata": {
    "_cell_guid": "d96883c5-3916-4af6-97f5-6bac0752a72d",
    "_uuid": "626d52bccdfd620b357882e2814733595325fdf3",
    "collapsed": true
   },
   "outputs": [],
   "source": [
    "def draw_graph(G,size):\n",
    "    nodes = G.nodes()\n",
    "    color_map = {1:'#f09494', 2:'#eebcbc', 3:'#72bbd0', 4:'#91f0a1', 5:'#629fff', 6:'#bcc2f2',  \n",
    "             7:'#eebcbc', 8:'#f1f0c0', 9:'#d2ffe7', 10:'#caf3a6', 11:'#ffdf55', 12:'#ef77aa', \n",
    "             13:'#d6dcff', 14:'#d2f5f0'}\n",
    "    node_color= [color_map[d['group']] for n,d in G.nodes(data=True)]\n",
    "    node_size = [d['nodesize']*10 for n,d in G.nodes(data=True)]\n",
    "    pos = nx.drawing.spring_layout(G,k=0.70,iterations=60)\n",
    "    plt.figure(figsize=size)\n",
    "    nx.draw_networkx(G,pos=pos,node_color=node_color,node_size=node_size,edge_color='#FFDEA2',edge_width=1)\n",
    "    plt.show()"
   ]
  },
  {
   "cell_type": "code",
   "execution_count": null,
   "metadata": {
    "_cell_guid": "0f5fe3f8-5e7d-44b6-b1c5-470fe015a9bd",
    "_uuid": "95924085b45d961c0408d924d96c6a92e6683ceb",
    "collapsed": true
   },
   "outputs": [],
   "source": [
    "draw_graph(G,size=(25,25))"
   ]
  },
  {
   "cell_type": "markdown",
   "metadata": {
    "_cell_guid": "82f5c0d3-eb24-48f3-be66-b2b70e1a495b",
    "_uuid": "647f5a72bb8c16a184d71c8aeaf438f9c6f0b111"
   },
   "source": [
    "# Cliques \n",
    "\n",
    "In general we consider cliques as groups of people who are closely connected to each other but not connected to people outside the group. In network theory a clique is defined as a maximal complete subgraph of a graph where each node is connected to all the other nodes. The word 'maximal' means that if we add another node to the clique the clique will cease to be a clique. ```nx.find_cliques``` finds all the cliques in a network. We can also extract all the cliques from the tag network. "
   ]
  },
  {
   "cell_type": "code",
   "execution_count": null,
   "metadata": {
    "_cell_guid": "bf60a3ef-d770-412f-ad81-85c818c206f2",
    "_uuid": "5536325a760f56a31cd30a70e53b0f38705c5aa3",
    "collapsed": true
   },
   "outputs": [],
   "source": [
    "cliques = list(nx.find_cliques(G))"
   ]
  },
  {
   "cell_type": "code",
   "execution_count": null,
   "metadata": {
    "_cell_guid": "93c07037-6fe1-4a74-8a05-bdcba356d329",
    "_uuid": "0b2463f4aef0ba7791a8548308d8c13962baa64a",
    "collapsed": true
   },
   "outputs": [],
   "source": [
    "clique_number = len(list(cliques))\n",
    "print(clique_number)"
   ]
  },
  {
   "cell_type": "code",
   "execution_count": null,
   "metadata": {
    "_cell_guid": "f99ae425-6d42-44ef-bcdf-118889d877c1",
    "_uuid": "679bb3cc267d56812b62614a805b818e70b00329",
    "collapsed": true
   },
   "outputs": [],
   "source": [
    "for clique in cliques:\n",
    "    print(clique)"
   ]
  },
  {
   "cell_type": "markdown",
   "metadata": {
    "_cell_guid": "4fa6796e-0955-4f51-b310-475fb01a85ff",
    "_uuid": "685a61d3f656255be0f6f5ab6d970f0f1fff8d61"
   },
   "source": [
    "# Language Specific Ego Network And Cliques \n",
    "\n",
    "For each programming language there's a tag in the network. E.g 'python' will refer to the python language. So we can check the cliques that contains that node. We can also visualize the ego network for a node. Ego network for a node is the subgraph containing that node and all its neighbors with a specifed depth range. \n",
    "\n",
    "For example, we can check the ego network for python with radius 2, which means that we get the subgraph containing python and all it's direct neighbors which are 1 edge away from python  and also the nodes which are 2 hop away from python. \n",
    "\n",
    "Ego networks can be used for checking shortest paths or generally conducting analysis of who is connected to whom, but cliques are helpful because it shows us the data in a more granular way. "
   ]
  },
  {
   "cell_type": "code",
   "execution_count": null,
   "metadata": {
    "_cell_guid": "2bb68eaf-982f-4d04-abcc-0c9de5b53047",
    "_uuid": "6b978e2471710f7f5901a7360e7a1ff74614150a",
    "collapsed": true
   },
   "outputs": [],
   "source": [
    "print(nx.ego_graph(G,'python',radius=2).nodes())"
   ]
  },
  {
   "cell_type": "markdown",
   "metadata": {
    "_cell_guid": "9ccf9e7c-c673-4db1-a022-cf4c11886a58",
    "_uuid": "65c842219137511034848ab0fa0d7243655c1c7e"
   },
   "source": [
    "Python participates in 4 different cliques,  one for web development with django and flask, one for open source development presumably which is connected to linux. One for machine learning where it's adjacent to R. I think the fourth one is for porting python and C/C++ back and forth."
   ]
  },
  {
   "cell_type": "code",
   "execution_count": null,
   "metadata": {
    "_cell_guid": "5804e3bf-266c-4123-9bc7-372954026d69",
    "_uuid": "5fc3be258c014b9a34b02d4b4c1b83540e1783da",
    "collapsed": true
   },
   "outputs": [],
   "source": [
    "nx.algorithms.clique.cliques_containing_node(G,\"python\")"
   ]
  },
  {
   "cell_type": "code",
   "execution_count": null,
   "metadata": {
    "_cell_guid": "ff7e383e-b4a1-4a4f-87df-f9dbaf5c8f37",
    "_uuid": "fcf44e6827b1a7ebf2d699afc8ffd7e1b13781a7",
    "collapsed": true
   },
   "outputs": [],
   "source": [
    "nx.algorithms.clique.cliques_containing_node(G,\"c++\")"
   ]
  },
  {
   "cell_type": "code",
   "execution_count": null,
   "metadata": {
    "_cell_guid": "29ce1b2a-903e-4b9a-aa98-7b6f8fd68968",
    "_uuid": "55ea4c82e18f4867e3251e821fedffe39c026aa2",
    "collapsed": true
   },
   "outputs": [],
   "source": [
    "nx.algorithms.clique.cliques_containing_node(G,\"php\")"
   ]
  },
  {
   "cell_type": "markdown",
   "metadata": {
    "_cell_guid": "a19a023d-1a37-4b63-b595-4486d3badc05",
    "_uuid": "2398124539bd1db8e50a032bb24b35998d16d025"
   },
   "source": [
    "# Visualize Maximal Clique\n",
    "\n",
    "It's possible that visualizing the largest cliques will let us see some pattern in the data. After finding all the cliques here we sort them by the length(number of nodes in that clique) and draw the cliques with the maximum length. ```G.subgraph``` allows us to extract a subgraph from the graph by passing a list of nodes. We have 3 cliques of size 7 which are the biggest, however I've only taken the unique nodes in a set while extracting the subgraphs, so we can see two different clusters containing javascript and .net related tags."
   ]
  },
  {
   "cell_type": "code",
   "execution_count": null,
   "metadata": {
    "_cell_guid": "668e38a9-24c2-4611-b558-37b86b678ae9",
    "_uuid": "f67303127b3f0e5fc92192364efa167d0594a2c1",
    "collapsed": true
   },
   "outputs": [],
   "source": [
    "sorted_cliques = sorted(list(nx.find_cliques(G)),key=len)"
   ]
  },
  {
   "cell_type": "code",
   "execution_count": null,
   "metadata": {
    "_cell_guid": "316dbd25-74bb-4fda-8ec0-ed184e42856b",
    "_uuid": "a262e3def306179899db6148704cc5dd09c24d54",
    "collapsed": true
   },
   "outputs": [],
   "source": [
    "max_clique_nodes = set()\n",
    "\n",
    "for nodelist in sorted_cliques[-4:-1]:\n",
    "    for node in nodelist:\n",
    "        max_clique_nodes.add(node)"
   ]
  },
  {
   "cell_type": "code",
   "execution_count": null,
   "metadata": {
    "_cell_guid": "2086fada-a3de-45c7-8356-b10fdda9c37f",
    "_uuid": "2965e84baf6177decf10510028e34752c810bcb0",
    "collapsed": true
   },
   "outputs": [],
   "source": [
    "max_clique = G.subgraph(max_clique_nodes)"
   ]
  },
  {
   "cell_type": "code",
   "execution_count": null,
   "metadata": {
    "_cell_guid": "b5aa3da7-5125-401d-bb7a-0cbaf2f4fb0d",
    "_uuid": "e946796fa82abae3760bc599c982ecb75dc68290",
    "collapsed": true
   },
   "outputs": [],
   "source": [
    "print(nx.info(max_clique))"
   ]
  },
  {
   "cell_type": "code",
   "execution_count": null,
   "metadata": {
    "_cell_guid": "c3bf929c-6be2-49b6-9865-e359e514620d",
    "_uuid": "cbfbf80dc44082aeb0c6987561877de78e9b6a98",
    "collapsed": true
   },
   "outputs": [],
   "source": [
    "draw_graph(max_clique,size=(10,10))"
   ]
  },
  {
   "cell_type": "markdown",
   "metadata": {
    "_cell_guid": "6b3ea186-da0e-4fb1-8c2e-2e2bdceb57e8",
    "_uuid": "2c1ed9260afd764152366540cabc6157275dd963"
   },
   "source": [
    "# Visualizing Programming Language Network\n",
    "\n",
    "Since it's possible to draw the subgraph of a graph, a subgraph containing the nodes for the programming languages only can also be visualized.  In the visualization its possible to see the different clusters for each programming language and familiar patterns like android with java or embedded systems with C and C++."
   ]
  },
  {
   "cell_type": "code",
   "execution_count": null,
   "metadata": {
    "_cell_guid": "bbe8f8ca-db47-40d5-8813-f728480a707f",
    "_uuid": "fd67c32c32b90167be906fe9c17d16ade8dada64",
    "collapsed": true
   },
   "outputs": [],
   "source": [
    "major_languages = ['c','c++','c#','java','python','ruby','scala','haskell','javascript','sql']"
   ]
  },
  {
   "cell_type": "code",
   "execution_count": null,
   "metadata": {
    "_cell_guid": "70313427-8704-42ea-9362-188ce2919cf7",
    "_uuid": "c52ca9ae5c9d2100122f2d97b6853d8cf737067a",
    "collapsed": true
   },
   "outputs": [],
   "source": [
    "p_language_nodes = []\n",
    "for language in major_languages:\n",
    "    neighbors = G.neighbors(language)\n",
    "    p_language_nodes.extend(neighbors)"
   ]
  },
  {
   "cell_type": "code",
   "execution_count": null,
   "metadata": {
    "_cell_guid": "16a5b660-8d39-41d5-96dc-9df5c251c517",
    "_uuid": "d471f1976fa009c18cee41cf6dd0ae53926a448e",
    "collapsed": true
   },
   "outputs": [],
   "source": [
    "programming_language_graph = G.subgraph(set(p_language_nodes))"
   ]
  },
  {
   "cell_type": "code",
   "execution_count": null,
   "metadata": {
    "_cell_guid": "2b022135-5c68-48f8-b0c9-7e76387acf44",
    "_uuid": "177ed07be9fb2ae8ca7fe6f30e9e46db9c8e2748",
    "collapsed": true
   },
   "outputs": [],
   "source": [
    "draw_graph(programming_language_graph,size=(20,20))\n"
   ]
  },
  {
   "cell_type": "markdown",
   "metadata": {
    "_cell_guid": "7dcb036e-81c9-44c9-becd-4ae7fd3b55b3",
    "_uuid": "a4f326aba690630fda745f6200c54a0acd7fc5af"
   },
   "source": [
    "# Degree Distribution \n",
    "\n",
    "For checking the degree distribution of the graph plotting the list containing degrees for each node works. In the tag network clearly most tags hae only 1 or 2 neighbors while some tags are linked to more than 10-12 tags."
   ]
  },
  {
   "cell_type": "code",
   "execution_count": null,
   "metadata": {
    "_cell_guid": "b5b38e76-aea5-424f-98a1-e0c4d41ec969",
    "_uuid": "a5cdb79978ebb7d7f5b8fc70a66aa0ea4a457110",
    "collapsed": true
   },
   "outputs": [],
   "source": [
    "plt.hist([node[1] for node in list(G.degree())])\n",
    "plt.title(\"Stack Overflow Tag Degree Distribution\")"
   ]
  },
  {
   "cell_type": "markdown",
   "metadata": {
    "_cell_guid": "7e6017d8-d52a-4374-8010-fb8e4f2c5be6",
    "_uuid": "8834f0db259f9f661a1ec3852664d6b4936d6a0d"
   },
   "source": [
    "# Group Distribution \n",
    "\n",
    "For this network since the group numbers are provided it's possible to check how many tags fall into each group. Group 6 and 1 has the highest number of nodes falling into them while group 10-12 probably refers to the isolated nodes."
   ]
  },
  {
   "cell_type": "code",
   "execution_count": null,
   "metadata": {
    "_cell_guid": "5bf0414c-06e2-4841-8ab7-5273a2b5e790",
    "_uuid": "1483ead75d0932d1e343167aee83287f3cf85e9c",
    "collapsed": true
   },
   "outputs": [],
   "source": [
    "nodes['group'].plot(kind='hist')"
   ]
  },
  {
   "cell_type": "markdown",
   "metadata": {
    "_cell_guid": "88d1dcaf-c81b-4e3b-9a45-b72e1ec628d8",
    "_uuid": "b6940b7e6d150bea759e038adada3e9b9a8f9b29"
   },
   "source": [
    "# Node size distribution \n",
    "\n",
    "Again, since the node size metadata is provided it's possible to check the node size distribution."
   ]
  },
  {
   "cell_type": "code",
   "execution_count": null,
   "metadata": {
    "_cell_guid": "365e1f4a-d53f-4b05-a516-331c7fbe5559",
    "_uuid": "dc4308772d1b4e412c85f8d1826bfa1b7de4deec",
    "collapsed": true
   },
   "outputs": [],
   "source": [
    "nodes['nodesize'].plot(kind=\"hist\")"
   ]
  },
  {
   "cell_type": "markdown",
   "metadata": {
    "_cell_guid": "e44649f2-5b6e-453b-9845-361e594bf570",
    "_uuid": "e21ccecf55e7bc7870852d7d8411be1be0bfd0d0"
   },
   "source": [
    "# Centrality Measures\n",
    "\n",
    "Centrality measures helps us to idenfity the most important nodes or vertices in a graph. Different centrality measures like degree centrality, betweenness centrality, eigenvector centrality are used to measure influence of nodes in a network.\n",
    "\n",
    "\n",
    "* **Degree Centrality : ** Degree centrality of a node is the fraction of the nodes it's connected to. Intuitively, the greater the degree that node can be more powerful. For example we can think that a twitter celebrity with 1 m follower is more influential than a regular user with 100 followers.\n",
    "\n",
    "* **Betweenness Centrality :** Betweenness centrality is a measure of centrality in a graph based on the idea of shortest path. Betwenness centrality of node A is fraction of shortest paths that passes through node A. Nodes with high betweeness centrality works as the 'power broker' or the 'bridges' between different isolated parts of a network.\n",
    "\n",
    "Here we idenfity the top 10 nodes according to both of the centraliy measures, but they overlap a lot , presumably because it's just a co-occurance network of tags and undirected. In a human social network often the people with higher betweenenss centrality are more interesting."
   ]
  },
  {
   "cell_type": "code",
   "execution_count": null,
   "metadata": {
    "_cell_guid": "19d3bb01-b392-432c-a182-7cd8d2d99379",
    "_uuid": "0acac12479fe1aac1532312b4e9d4ca378299469",
    "collapsed": true
   },
   "outputs": [],
   "source": [
    "degree_centrality = nx.degree_centrality(G)"
   ]
  },
  {
   "cell_type": "code",
   "execution_count": null,
   "metadata": {
    "_cell_guid": "be54f00e-b326-4406-b4b3-cc466b2b34f7",
    "_uuid": "e08eb405fe8fca6debbfd15252020d3897aef646",
    "collapsed": true
   },
   "outputs": [],
   "source": [
    "\n",
    "top_10_nodes_by_degree_centrality = sorted(degree_centrality.items(),key=lambda x:x[1],reverse=True)[0:10]\n",
    "\n",
    "top_10_nodes_by_degree_centrality"
   ]
  },
  {
   "cell_type": "code",
   "execution_count": null,
   "metadata": {
    "_cell_guid": "691cc135-9946-4c7b-9db5-2fc5a23d41a4",
    "_uuid": "a7ccf329dc192f95f05d80b7b1e00399b827a942",
    "collapsed": true
   },
   "outputs": [],
   "source": [
    "betweenness_centrality = nx.betweenness_centrality(G)\n"
   ]
  },
  {
   "cell_type": "code",
   "execution_count": null,
   "metadata": {
    "_cell_guid": "027b1aca-bfaf-4644-9e83-13d2daea4543",
    "_uuid": "5715e9bee8d0d9e1b346983937e6270d26411dde",
    "collapsed": true
   },
   "outputs": [],
   "source": [
    "top_10_nodes_by_betweenness_centrality = sorted(betweenness_centrality.items(),key=lambda x:x[1],reverse=True)[0:10]"
   ]
  },
  {
   "cell_type": "code",
   "execution_count": null,
   "metadata": {
    "_cell_guid": "a5ed1a13-2212-4d0b-8515-904849e894f2",
    "_uuid": "6584b19c343a6e277c0106bff46de24163d49998",
    "collapsed": true
   },
   "outputs": [],
   "source": [
    "top_10_nodes_by_betweenness_centrality"
   ]
  },
  {
   "cell_type": "markdown",
   "metadata": {
    "_cell_guid": "83913a13-eaf3-481a-a4ca-2a06200ca077",
    "_uuid": "d0f36c7aeed840a36e662a394f4fc77d382b305e"
   },
   "source": [
    "# More Resources : \n",
    "\n",
    "* Datacamp Network Analysis Course Part 1 and 2.\n",
    "* https://github.com/ericmjl/Network-Analysis-Made-Simple\n"
   ]
  },
  {
   "cell_type": "code",
   "execution_count": null,
   "metadata": {
    "_cell_guid": "5d373c58-f800-4d0a-957d-92f14a80b18d",
    "_uuid": "e81aa50c64dfe56bb780f5b3846ad4120195452e",
    "collapsed": true
   },
   "outputs": [],
   "source": []
  }
 ],
 "metadata": {
  "kernelspec": {
   "display_name": "Python 3",
   "language": "python",
   "name": "python3"
  },
  "language_info": {
   "codemirror_mode": {
    "name": "ipython",
    "version": 3
   },
   "file_extension": ".py",
   "mimetype": "text/x-python",
   "name": "python",
   "nbconvert_exporter": "python",
   "pygments_lexer": "ipython3",
   "version": "3.6.8"
  }
 },
 "nbformat": 4,
 "nbformat_minor": 2
}
